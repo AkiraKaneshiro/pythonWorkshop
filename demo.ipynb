{
 "metadata": {
  "name": ""
 },
 "nbformat": 3,
 "nbformat_minor": 0,
 "worksheets": [
  {
   "cells": [
    {
     "cell_type": "markdown",
     "metadata": {},
     "source": [
      "NumPy\n",
      "-----\n",
      "\n",
      "NumPy provides the _ndarray_ object, which implements an efficient homogeneous multi-dimensional array type. "
     ]
    },
    {
     "cell_type": "code",
     "collapsed": false,
     "input": [
      "import numpy as np\n",
      "\n",
      "A = np.arange(6.).reshape(3, 2)\n",
      "B = np.array([1, 0])\n",
      "\n",
      "# element-wise\n",
      "C = A * B\n",
      "\n",
      "# matarix multiplication\n",
      "D = np.dot(A, B)"
     ],
     "language": "python",
     "metadata": {},
     "outputs": [
      {
       "output_type": "stream",
       "stream": "stdout",
       "text": [
        "\n",
        "[[ 0.  1.]\n",
        " [ 2.  3.]\n",
        " [ 4.  5.]] (3, 2) float64\n",
        "\n",
        "[1 0] (2,) int64\n",
        "\n",
        "[[ 0.  0.]\n",
        " [ 2.  0.]\n",
        " [ 4.  0.]] (3, 2) float64\n"
       ]
      }
     ],
     "prompt_number": 28
    },
    {
     "cell_type": "markdown",
     "metadata": {},
     "source": [
      "See how fast it finds the maximum among a 1 million cells."
     ]
    },
    {
     "cell_type": "code",
     "collapsed": false,
     "input": [
      "np.random.seed(1234)\n",
      "\n",
      "print \"numpy.ndarray\"\n",
      "M = np.random.rand(1000, 1000)                  \n",
      "%time M.max()                                    \n",
      "\n",
      "print \"\\nlist\"\n",
      "M2 = [M[i,j] for i in xrange(1000) for j in xrange(1000)]\n",
      "%time max(M2)"
     ],
     "language": "python",
     "metadata": {},
     "outputs": [
      {
       "output_type": "stream",
       "stream": "stdout",
       "text": [
        "numpy.ndarray\n",
        "CPU times: user 2.91 ms, sys: 1.1 ms, total: 4.01 ms\n",
        "Wall time: 2.79 ms\n",
        "\n",
        "list\n",
        "CPU times: user 38.3 ms, sys: 2.39 ms, total: 40.7 ms"
       ]
      },
      {
       "output_type": "stream",
       "stream": "stdout",
       "text": [
        "\n",
        "Wall time: 40.7 ms\n"
       ]
      },
      {
       "metadata": {},
       "output_type": "pyout",
       "prompt_number": 29,
       "text": [
        "0.99999912003261893"
       ]
      }
     ],
     "prompt_number": 29
    },
    {
     "cell_type": "markdown",
     "metadata": {},
     "source": [
      "NumPy has many built-in functions, for instance, Singular Value Decomposition can be as simple as:"
     ]
    },
    {
     "cell_type": "code",
     "collapsed": false,
     "input": [
      "a = np.random.randn(9, 6)\n",
      "U, s, V = np.linalg.svd(a)\n",
      "print U.shape, s.shape, V.shape\n",
      "\n",
      "# check\n",
      "S = np.zeros((9, 6))\n",
      "S[:6, :6] = np.diag(s)\n",
      "aa = np.dot(U, np.dot(S, V))\n",
      "np.allclose(a, aa)"
     ],
     "language": "python",
     "metadata": {},
     "outputs": [
      {
       "output_type": "stream",
       "stream": "stdout",
       "text": [
        "(9, 9) (6,) (6, 6)\n"
       ]
      },
      {
       "metadata": {},
       "output_type": "pyout",
       "prompt_number": 30,
       "text": [
        "True"
       ]
      }
     ],
     "prompt_number": 30
    },
    {
     "cell_type": "markdown",
     "metadata": {},
     "source": [
      "SciPy libraries\n",
      "---------------\n",
      "\n",
      "An example from scipy.optimize module. Minimizing the Rosenbrock function of N variables:\n",
      "\n",
      "$$f(\\mathbf{x}) = \\sum_{i=1}^{N-1} {100 (x_i - x_{i-1}^{2})^2 + (1 - x_{i-1})^2}.$$\n",
      "\n",
      "The minimum value of this function is 0 which is achived when $x_i = 1$."
     ]
    },
    {
     "cell_type": "code",
     "collapsed": false,
     "input": [
      "import numpy as np\n",
      "from scipy.optimize import minimize\n",
      "\n",
      "def rosen(x):\n",
      "    return sum(100.0*(x[1:] - (x[:-1])**2.0)**2.0 + (1-x[:-1])**2.0)\n",
      "\n",
      "# using simplex method\n",
      "x0 = np.array([1.3, 0.7, 0.8, 1.9, 1.2])\n",
      "res = minimize(rosen, x0, method='nelder-mead', options={'xtol':1e-8, 'disp': True})\n",
      "print res.x"
     ],
     "language": "python",
     "metadata": {},
     "outputs": []
    },
    {
     "cell_type": "markdown",
     "metadata": {},
     "source": [
      "R interface\n",
      "-----------\n",
      "\n",
      "From http://tinyurl.com/mf5m5ey. Requires rpy2 module."
     ]
    },
    {
     "cell_type": "code",
     "collapsed": false,
     "input": [
      "%matplotlib inline\n",
      "%load_ext rmagic\n",
      "\n",
      "import matplotlib.pyplot as plt\n",
      "\n",
      "X = np.array(xrange(5))\n",
      "Y = np.array([3, 5, 4, 6, 7])\n",
      "plt.scatter(X, Y)"
     ],
     "language": "python",
     "metadata": {},
     "outputs": [
      {
       "metadata": {},
       "output_type": "pyout",
       "prompt_number": 31,
       "text": [
        "<matplotlib.collections.PathCollection at 0x10e5e0810>"
       ]
      },
      {
       "metadata": {},
       "output_type": "display_data",
       "png": "[encoded data removed]",
       "text": [
        "<matplotlib.figure.Figure at 0x10497e4d0>"
       ]
      }
     ],
     "prompt_number": 31
    },
    {
     "cell_type": "code",
     "collapsed": false,
     "input": [
      "%Rpush X Y\n",
      "%R lm(Y ~ X)$coef"
     ],
     "language": "python",
     "metadata": {},
     "outputs": [
      {
       "metadata": {},
       "output_type": "pyout",
       "prompt_number": 32,
       "text": [
        "array([ 3.2,  0.9])"
       ]
      }
     ],
     "prompt_number": 32
    },
    {
     "cell_type": "code",
     "collapsed": false,
     "input": [
      "# check the coef's in python\n",
      "Xr = X - X.mean()\n",
      "Yr = Y - Y.mean()\n",
      "slope = (Xr * Yr).sum() / (Xr**2).sum()\n",
      "intercept = Y.mean() - X.mean() * slope\n",
      "print \"{0:.1f}, {1:.1f}\".format(intercept, slope)"
     ],
     "language": "python",
     "metadata": {},
     "outputs": [
      {
       "output_type": "stream",
       "stream": "stdout",
       "text": [
        "3.2, 0.9\n"
       ]
      }
     ],
     "prompt_number": 33
    },
    {
     "cell_type": "code",
     "collapsed": false,
     "input": [
      "a = %R resid(lm(Y ~ X))\n",
      "print a"
     ],
     "language": "python",
     "metadata": {},
     "outputs": [
      {
       "output_type": "stream",
       "stream": "stdout",
       "text": [
        "[-0.2  0.9 -1.   0.1  0.2]\n"
       ]
      }
     ],
     "prompt_number": 54
    },
    {
     "cell_type": "code",
     "collapsed": false,
     "input": [],
     "language": "python",
     "metadata": {},
     "outputs": []
    }
   ],
   "metadata": {}
  }
 ]
}