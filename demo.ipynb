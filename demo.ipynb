{
 "cells": [
  {
   "cell_type": "markdown",
   "metadata": {},
   "source": [
    "Live Demo\n",
    "---------\n",
    "\n",
    "Let's implement a function that returns the $n$th element of a certain series. \n",
    "\n",
    "The first two elements of the series are given:\n",
    "\n",
    "$$F_0 = 1, F_1 = 1$$\n",
    "\n",
    "The function returns $F_n$ such that:\n",
    "\n",
    "$$F_n = F_{n - 2} + F_{n - 1}$$"
   ]
  },
  {
   "cell_type": "code",
   "execution_count": 13,
   "metadata": {
    "collapsed": false
   },
   "outputs": [
    {
     "name": "stdout",
     "output_type": "stream",
     "text": [
      "1 1 2\n",
      "\n",
      "0 1\n",
      "1 1\n",
      "2 2\n",
      "3 3\n",
      "4 5\n",
      "5 8\n",
      "6 13\n",
      "7 21\n",
      "8 34\n",
      "9 55\n"
     ]
    },
    {
     "data": {
      "text/plain": [
       "<matplotlib.collections.PathCollection at 0x1067b7b90>"
      ]
     },
     "execution_count": 13,
     "metadata": {},
     "output_type": "execute_result"
    },
    {
     "data": {
      "image/png": "[encoded data removed]",
      "text/plain": [
       "<matplotlib.figure.Figure at 0x1098042d0>"
      ]
     },
     "metadata": {},
     "output_type": "display_data"
    }
   ],
   "source": [
    "def fibonacci(n):\n",
    "    if 0 <= n <= 1:\n",
    "        return 1\n",
    "    else:\n",
    "        return fibonacci(n - 2) + fibonacci(n - 1) \n",
    "\n",
    "# check\n",
    "print fibonacci(0), fibonacci(1), fibonacci(2)\n",
    "\n",
    "# check again\n",
    "print\n",
    "for n in range(10):\n",
    "    print n, fibonacci(n)\n",
    "\n",
    "# plotting\n",
    "%matplotlib inline\n",
    "x = range(10)\n",
    "y = [fibonacci(n) for n in x]\n",
    "\n",
    "import matplotlib.pyplot as plt\n",
    "plt.scatter(x, y)"
   ]
  },
  {
   "cell_type": "markdown",
   "metadata": {},
   "source": [
    "NumPy\n",
    "-----\n",
    "\n",
    "NumPy provides the _ndarray_ object, which implements an efficient homogeneous multi-dimensional array type. "
   ]
  },
  {
   "cell_type": "code",
   "execution_count": 1,
   "metadata": {
    "collapsed": false
   },
   "outputs": [],
   "source": [
    "import numpy as np\n",
    "\n",
    "A = np.arange(6.).reshape(3, 2)\n",
    "B = np.array([1, 0])\n",
    "\n",
    "# element-wise\n",
    "C = A * B\n",
    "\n",
    "# matarix multiplication\n",
    "D = np.dot(A, B)"
   ]
  },
  {
   "cell_type": "markdown",
   "metadata": {},
   "source": [
    "See how fast it finds the maximum among a 1 million cells."
   ]
  },
  {
   "cell_type": "code",
   "execution_count": 2,
   "metadata": {
    "collapsed": false
   },
   "outputs": [
    {
     "name": "stdout",
     "output_type": "stream",
     "text": [
      "numpy.ndarray\n",
      "CPU times: user 569 µs, sys: 7 µs, total: 576 µs\n",
      "Wall time: 586 µs\n",
      "\n",
      "list\n",
      "CPU times: user 27.8 ms, sys: 1.09 ms, total: 28.9 ms\n",
      "Wall time: 28.9 ms\n"
     ]
    },
    {
     "data": {
      "text/plain": [
       "0.99999912003261893"
      ]
     },
     "execution_count": 2,
     "metadata": {},
     "output_type": "execute_result"
    }
   ],
   "source": [
    "np.random.seed(1234)\n",
    "\n",
    "print \"numpy.ndarray\"\n",
    "M = np.random.rand(1000, 1000)                  \n",
    "%time M.max()                                    \n",
    "\n",
    "print \"\\nlist\"\n",
    "M2 = [M[i,j] for i in xrange(1000) for j in xrange(1000)]\n",
    "%time max(M2)"
   ]
  },
  {
   "cell_type": "markdown",
   "metadata": {},
   "source": [
    "NumPy has many built-in functions, for instance, Singular Value Decomposition can be as simple as:"
   ]
  },
  {
   "cell_type": "code",
   "execution_count": 3,
   "metadata": {
    "collapsed": false
   },
   "outputs": [
    {
     "name": "stdout",
     "output_type": "stream",
     "text": [
      "(9, 9) (6,) (6, 6)\n"
     ]
    },
    {
     "data": {
      "text/plain": [
       "True"
      ]
     },
     "execution_count": 3,
     "metadata": {},
     "output_type": "execute_result"
    }
   ],
   "source": [
    "a = np.random.randn(9, 6)\n",
    "U, s, V = np.linalg.svd(a)\n",
    "print U.shape, s.shape, V.shape\n",
    "\n",
    "# check\n",
    "S = np.zeros((9, 6))\n",
    "S[:6, :6] = np.diag(s)\n",
    "aa = np.dot(U, np.dot(S, V))\n",
    "np.allclose(a, aa)"
   ]
  },
  {
   "cell_type": "markdown",
   "metadata": {},
   "source": [
    "SciPy libraries\n",
    "---------------\n",
    "\n",
    "An example from scipy.optimize module. Minimizing the Rosenbrock function of N variables:\n",
    "\n",
    "$$f(\\mathbf{x}) = \\sum_{i=1}^{N-1} {100 (x_i - x_{i-1}^{2})^2 + (1 - x_{i-1})^2}.$$\n",
    "\n",
    "The minimum value of this function is 0 which is achived when $x_i = 1$."
   ]
  },
  {
   "cell_type": "code",
   "execution_count": 4,
   "metadata": {
    "collapsed": false
   },
   "outputs": [
    {
     "name": "stdout",
     "output_type": "stream",
     "text": [
      "Optimization terminated successfully.\n",
      "         Current function value: 0.000000\n",
      "         Iterations: 339\n",
      "         Function evaluations: 571\n",
      "[ 1.  1.  1.  1.  1.]\n"
     ]
    }
   ],
   "source": [
    "import numpy as np\n",
    "from scipy.optimize import minimize\n",
    "\n",
    "def rosen(x):\n",
    "    return sum(100.0*(x[1:] - (x[:-1])**2.0)**2.0 + (1-x[:-1])**2.0)\n",
    "\n",
    "# using simplex method\n",
    "x0 = np.array([1.3, 0.7, 0.8, 1.9, 1.2])\n",
    "res = minimize(rosen, x0, method='nelder-mead', options={'xtol':1e-8, 'disp': True})\n",
    "print res.x"
   ]
  },
  {
   "cell_type": "markdown",
   "metadata": {},
   "source": [
    "R interface\n",
    "-----------\n",
    "\n",
    "From http://tinyurl.com/mf5m5ey. Requires R and rpy2 python module being already installed. (Rmagic is now a part of rpy2.)"
   ]
  },
  {
   "cell_type": "code",
   "execution_count": 18,
   "metadata": {
    "collapsed": false
   },
   "outputs": [
    {
     "data": {
      "text/plain": [
       "<matplotlib.collections.PathCollection at 0x10f8ef690>"
      ]
     },
     "execution_count": 18,
     "metadata": {},
     "output_type": "execute_result"
    },
    {
     "data": {
      "image/png": "[encoded data removed]",
      "text/plain": [
       "<matplotlib.figure.Figure at 0x1097f3250>"
      ]
     },
     "metadata": {},
     "output_type": "display_data"
    }
   ],
   "source": [
    "%matplotlib inline\n",
    "%load_ext rpy2.ipython\n",
    "\n",
    "import matplotlib.pyplot as plt\n",
    "\n",
    "X = np.array(xrange(5))\n",
    "Y = np.array([3, 5, 4, 6, 7])\n",
    "plt.scatter(X, Y)"
   ]
  },
  {
   "cell_type": "code",
   "execution_count": 19,
   "metadata": {
    "collapsed": false
   },
   "outputs": [
    {
     "data": {
      "text/plain": [
       "<FloatVector - Python:0x10f8a4830 / R:0x10d00bd80>\n",
       "[3.200000, 0.900000]"
      ]
     },
     "execution_count": 19,
     "metadata": {},
     "output_type": "execute_result"
    }
   ],
   "source": [
    "%Rpush X Y\n",
    "%R lm(Y ~ X)$coef"
   ]
  },
  {
   "cell_type": "code",
   "execution_count": 20,
   "metadata": {
    "collapsed": false
   },
   "outputs": [
    {
     "name": "stdout",
     "output_type": "stream",
     "text": [
      "3.2, 0.9\n"
     ]
    }
   ],
   "source": [
    "# check the coef's in python\n",
    "Xr = X - X.mean()\n",
    "Yr = Y - Y.mean()\n",
    "slope = (Xr * Yr).sum() / (Xr**2).sum()\n",
    "intercept = Y.mean() - X.mean() * slope\n",
    "print \"{0:.1f}, {1:.1f}\".format(intercept, slope)"
   ]
  },
  {
   "cell_type": "code",
   "execution_count": 21,
   "metadata": {
    "collapsed": false
   },
   "outputs": [
    {
     "name": "stdout",
     "output_type": "stream",
     "text": [
      "   1    2    3    4    5 \n",
      "-0.2  0.9 -1.0  0.1  0.2 \n",
      "\n"
     ]
    }
   ],
   "source": [
    "a = %R resid(lm(Y ~ X))\n",
    "print a"
   ]
  }
 ],
 "metadata": {
  "kernelspec": {
   "display_name": "Python 2",
   "language": "python",
   "name": "python2"
  },
  "language_info": {
   "codemirror_mode": {
    "name": "ipython",
    "version": 2
   },
   "file_extension": ".py",
   "mimetype": "text/x-python",
   "name": "python",
   "nbconvert_exporter": "python",
   "pygments_lexer": "ipython2",
   "version": "2.7.9"
  }
 },
 "nbformat": 4,
 "nbformat_minor": 0
}
