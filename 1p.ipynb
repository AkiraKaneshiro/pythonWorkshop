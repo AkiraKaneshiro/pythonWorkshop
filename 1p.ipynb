{
 "metadata": {
  "name": ""
 },
 "nbformat": 3,
 "nbformat_minor": 0,
 "worksheets": [
  {
   "cells": [
    {
     "cell_type": "markdown",
     "metadata": {},
     "source": [
      "Introduction to Python 1\n",
      "========================\n",
      "\n",
      "Chang Y. Chung\n",
      "\n",
      "Office of Population Research\n",
      "\n",
      "01/14/2014"
     ]
    },
    {
     "cell_type": "markdown",
     "metadata": {},
     "source": [
      "Why Python?\n",
      "-----------\n",
      "\n",
      "* Popular\n",
      "\n",
      "* Easy to learn and use\n",
      "\n",
      "* Open-source\n",
      "\n",
      "* General-Purpose\n",
      "\n",
      "* Multi-paradigm\n",
      "\n",
      "* Hettinger, \"What makes Python Awesome?\" [http:/tinyurl.com/mndd4er](http://tinyurl.com/mndd4er)\n",
      "\n",
      "* Did I mention _popular_?"
     ]
    },
    {
     "cell_type": "markdown",
     "metadata": {},
     "source": [
      "Running Python REPL\n",
      "-------------------\n",
      "\n",
      "For those who are using UNIX-like systems, including the Ubuntu image running on a Virtual Box.\n",
      "\n",
      "Type \"python\" at the terminal shell prompt.\n",
      "\n",
      "![vm repl](files/graphics/vmrepl.png)"
     ]
    },
    {
     "cell_type": "markdown",
     "metadata": {},
     "source": [
      "Running a Python Script File (.py)\n",
      "----------------------------------\n",
      "\n",
      "Type \"python\" followed by the script file name.\n",
      "\n",
      "![vm script](files/graphics/vmscript.png)"
     ]
    },
    {
     "cell_type": "markdown",
     "metadata": {},
     "source": [
      "Running Python REPL on Windows\n",
      "------------------------------\n",
      "\n",
      "For those who are using Windows system with Python (and IDLE) installed.\n",
      "\n",
      "Run the IDLE application.\n",
      "\n",
      "![win repl](files/graphics/winrepl.png)"
     ]
    },
    {
     "cell_type": "markdown",
     "metadata": {},
     "source": [
      "Running a Python Script File (.py) on Windows\n",
      "---------------------------------------------\n",
      "\n",
      "File > New (or Open) brings up a script window.\n",
      "\n",
      "Run > Run Module (Output will show in IDLE shell).\n",
      "\n",
      "![win script](files/graphics/winscript.png)"
     ]
    },
    {
     "cell_type": "markdown",
     "metadata": {},
     "source": [
      "Conceptual Hierarchy by Mark Lutz\n",
      "---------------------------------\n",
      "\n",
      "* Programs are composed of _modules_.\n",
      "* Modules contain _statements_.\n",
      "* Statements contain expressions.\n",
      "* Expressions create and process objects."
     ]
    },
    {
     "cell_type": "markdown",
     "metadata": {},
     "source": [
      "Script File (.py)\n",
      "-----------------\n",
      "\n",
      "* A script file is a module.\n",
      "* A script is a sequence of statements, delimited by a newline (or the end of line character).\n",
      "* Python executes one statement at a time, from the top of a script file to the bottom.\n",
      "* Execution happens in namespaces (modules, classes, functions all have their own).\n",
      "* Everything is runtime (even def, class, and import)."
     ]
    },
    {
     "cell_type": "markdown",
     "metadata": {},
     "source": [
      "Executable Python Script File\n",
      "-----------------------------\n",
      "\n",
      "On a Unix-like system, we can change the mode of the script file and make it executable:"
     ]
    },
    {
     "cell_type": "raw",
     "metadata": {},
     "source": [
      "$chmod +x hellp.py\n",
      "$./hello.py"
     ]
    },
    {
     "cell_type": "markdown",
     "metadata": {},
     "source": [
      "Just add the first line with a hashbang(#!):"
     ]
    },
    {
     "cell_type": "raw",
     "metadata": {},
     "source": [
      "#!/usr/bin/python\n",
      "\n",
      "# say hello to the world\n",
      "def main():\n",
      "    print \"Hello, World!\"\n",
      "\n",
      "if __name__ == \"__main__\":\n",
      "    main()"
     ]
    },
    {
     "cell_type": "markdown",
     "metadata": {},
     "source": [
      "Comments\n",
      "--------\n",
      "\n",
      "Comments start with a hash (#) and end with a newline."
     ]
    },
    {
     "cell_type": "code",
     "collapsed": false,
     "input": [
      "# this whole line is a comment\n",
      "\n",
      "# add 10 integers.\n",
      "total = 0\n",
      "for i in range(10):  # i goes 0, 1, 2, ..., 9\n",
      "    total += i       # shortcut for total = total + i\n",
      "    \n",
      "print \"total=\", total"
     ],
     "language": "python",
     "metadata": {},
     "outputs": [
      {
       "output_type": "stream",
       "stream": "stdout",
       "text": [
        "total= 45\n"
       ]
      }
     ],
     "prompt_number": 2
    },
    {
     "cell_type": "markdown",
     "metadata": {},
     "source": [
      "Variables\n",
      "---------\n",
      "\n",
      "Variables are created when first assigned a value."
     ]
    },
    {
     "cell_type": "code",
     "collapsed": false,
     "input": [
      "my_var = 3\n",
      "answer_to_everything = 42\n",
      "\n",
      "# also works are:\n",
      "x = y = 0\n",
      "a, b, c = 1, 2, 3"
     ],
     "language": "python",
     "metadata": {},
     "outputs": [],
     "prompt_number": 3
    },
    {
     "cell_type": "markdown",
     "metadata": {},
     "source": [
      "Variable names start with a letter or an underscore and can have letters, underscores, or digits.\n",
      "\n",
      "Variable names are case-sensitive."
     ]
    },
    {
     "cell_type": "markdown",
     "metadata": {},
     "source": [
      "Assignment Semantics According to David Godger\n",
      "----------------------------------------------\n",
      "\n",
      "Variables in many _other languages_ are a container that store a value."
     ]
    },
    {
     "cell_type": "raw",
     "metadata": {},
     "source": [
      "int a = 1;"
     ]
    },
    {
     "cell_type": "markdown",
     "metadata": {},
     "source": [
      "![a1box](files/graphics/a1box.png)"
     ]
    },
    {
     "cell_type": "markdown",
     "metadata": {},
     "source": [
      "In Python, an assignment creates an object, and labels it with the variable."
     ]
    },
    {
     "cell_type": "code",
     "collapsed": false,
     "input": [
      "a = 1"
     ],
     "language": "python",
     "metadata": {},
     "outputs": [],
     "prompt_number": 4
    },
    {
     "cell_type": "markdown",
     "metadata": {},
     "source": [
      "![a1tag](files/graphics/a1tag.png)"
     ]
    },
    {
     "cell_type": "markdown",
     "metadata": {},
     "source": [
      "If you assign another value to a, then the variable labels the new value (2)."
     ]
    },
    {
     "cell_type": "code",
     "collapsed": false,
     "input": [
      "a = 2"
     ],
     "language": "python",
     "metadata": {},
     "outputs": [],
     "prompt_number": 5
    },
    {
     "cell_type": "markdown",
     "metadata": {},
     "source": [
      "![1tag](files/graphics/1.png)\n",
      "![a2tag](files/graphics/a2tag.png)"
     ]
    },
    {
     "cell_type": "markdown",
     "metadata": {},
     "source": [
      "This is what happens if you assign a to a new variable b:"
     ]
    },
    {
     "cell_type": "code",
     "collapsed": false,
     "input": [
      "b = a"
     ],
     "language": "python",
     "metadata": {},
     "outputs": [],
     "prompt_number": 6
    },
    {
     "cell_type": "markdown",
     "metadata": {},
     "source": [
      "![1](files/graphics/1.png)\n",
      "![ab2tag](files/graphics/ab2tag.png)"
     ]
    },
    {
     "cell_type": "markdown",
     "metadata": {},
     "source": [
      "Numbers\n",
      "-------\n",
      "\n",
      "Integers"
     ]
    },
    {
     "cell_type": "code",
     "collapsed": false,
     "input": [
      "x = 0\n",
      "age = 20\n",
      "size_of_household = 5\n",
      "\n",
      "print type(age)"
     ],
     "language": "python",
     "metadata": {},
     "outputs": [
      {
       "output_type": "stream",
       "stream": "stdout",
       "text": [
        "<type 'int'>\n"
       ]
      }
     ],
     "prompt_number": 7
    },
    {
     "cell_type": "code",
     "collapsed": false,
     "input": [
      "# can handle arbitrarily large numbers\n",
      "huge = 10 ** 100 + 1"
     ],
     "language": "python",
     "metadata": {},
     "outputs": [],
     "prompt_number": 8
    },
    {
     "cell_type": "markdown",
     "metadata": {},
     "source": [
      "Floating-point Numbers"
     ]
    },
    {
     "cell_type": "code",
     "collapsed": false,
     "input": [
      "g = 0.1\n",
      "f = 6.67384\n",
      "\n",
      "velocity = 1.   # it is the dot(.) that makes it a float\n",
      "print velocity"
     ],
     "language": "python",
     "metadata": {},
     "outputs": [
      {
       "output_type": "stream",
       "stream": "stdout",
       "text": [
        "1.0\n"
       ]
      }
     ],
     "prompt_number": 9
    },
    {
     "cell_type": "code",
     "collapsed": false,
     "input": [
      "type(velocity)"
     ],
     "language": "python",
     "metadata": {},
     "outputs": [
      {
       "metadata": {},
       "output_type": "pyout",
       "prompt_number": 10,
       "text": [
        "float"
       ]
      }
     ],
     "prompt_number": 10
    },
    {
     "cell_type": "markdown",
     "metadata": {},
     "source": [
      "Numeric Expressions\n",
      "-------------------\n",
      "\n",
      "Most of the arithmetic operators behave as expected."
     ]
    },
    {
     "cell_type": "code",
     "collapsed": false,
     "input": [
      "a = 10\n",
      "b = 20\n",
      "print a - (b **2) + 23"
     ],
     "language": "python",
     "metadata": {},
     "outputs": [
      {
       "output_type": "stream",
       "stream": "stdout",
       "text": [
        "-367\n"
       ]
      }
     ],
     "prompt_number": 11
    },
    {
     "cell_type": "code",
     "collapsed": false,
     "input": [
      "x = 2.0\n",
      "print x / 0.1"
     ],
     "language": "python",
     "metadata": {},
     "outputs": [
      {
       "output_type": "stream",
       "stream": "stdout",
       "text": [
        "20.0\n"
       ]
      }
     ],
     "prompt_number": 12
    },
    {
     "cell_type": "markdown",
     "metadata": {},
     "source": [
      "Watch out for integer divisions. In Python 2, it _truncates down_ to an integer."
     ]
    },
    {
     "cell_type": "code",
     "collapsed": false,
     "input": [
      "print 10 / 3    # 3.3333333333333335 (in Python 3)"
     ],
     "language": "python",
     "metadata": {},
     "outputs": [
      {
       "output_type": "stream",
       "stream": "stdout",
       "text": [
        "3\n"
       ]
      }
     ],
     "prompt_number": 13
    },
    {
     "cell_type": "code",
     "collapsed": false,
     "input": [
      "print -10 / 3   # -3.3333333333333335 (in Python 3)"
     ],
     "language": "python",
     "metadata": {},
     "outputs": [
      {
       "output_type": "stream",
       "stream": "stdout",
       "text": [
        "-4\n"
       ]
      }
     ],
     "prompt_number": 15
    },
    {
     "cell_type": "code",
     "collapsed": false,
     "input": [
      "# a solution: use floating point numbers\n",
      "print 10.0 / 3.0"
     ],
     "language": "python",
     "metadata": {},
     "outputs": [
      {
       "output_type": "stream",
       "stream": "stdout",
       "text": [
        "3.33333333333\n"
       ]
      }
     ],
     "prompt_number": 16
    },
    {
     "cell_type": "markdown",
     "metadata": {},
     "source": [
      "String Literals\n",
      "---------------\n",
      "\n",
      "A string is a sequence of characters."
     ]
    },
    {
     "cell_type": "code",
     "collapsed": false,
     "input": [
      "# either double(\") or single(') quotes for creating string literals.\n",
      "name = \"Changarilla Dingdong\"\n",
      "file_name = 'workshop.tex'\n",
      "\n",
      "# triple-quoted string\n",
      "starwars = \"\"\"\n",
      "A long time ago is a galaxy far, far away...\n",
      "\n",
      "It is a period of civil war. Rebel\n",
      "spaceships, striking from a hidden\n",
      "base, have won their first victory\n",
      "...\n",
      "\n",
      "What is the last character of this string?\n",
      "\"\"\"\n",
      "\n",
      "last_char = starwars[-1]\n",
      "print ord(last_char), ord(\"\\n\")"
     ],
     "language": "python",
     "metadata": {},
     "outputs": [
      {
       "output_type": "stream",
       "stream": "stdout",
       "text": [
        "10 10\n"
       ]
      }
     ],
     "prompt_number": 19
    },
    {
     "cell_type": "markdown",
     "metadata": {},
     "source": [
      "Working with strings\n",
      "--------------------\n",
      "\n",
      "Strings are immutable."
     ]
    },
    {
     "cell_type": "code",
     "collapsed": false,
     "input": [
      "s = \"abcde\"\n",
      "s[0] = \"x\"  # trying to change the first character to \"x\""
     ],
     "language": "python",
     "metadata": {},
     "outputs": [
      {
       "ename": "TypeError",
       "evalue": "'str' object does not support item assignment",
       "output_type": "pyerr",
       "traceback": [
        "\u001b[0;31m---------------------------------------------------------------------------\u001b[0m\n\u001b[0;31mTypeError\u001b[0m                                 Traceback (most recent call last)",
        "\u001b[0;32m<ipython-input-20-376ff91be0b1>\u001b[0m in \u001b[0;36m<module>\u001b[0;34m()\u001b[0m\n\u001b[1;32m      1\u001b[0m \u001b[0ms\u001b[0m \u001b[0;34m=\u001b[0m \u001b[0;34m\"abcde\"\u001b[0m\u001b[0;34m\u001b[0m\u001b[0m\n\u001b[0;32m----> 2\u001b[0;31m \u001b[0ms\u001b[0m\u001b[0;34m[\u001b[0m\u001b[0;36m0\u001b[0m\u001b[0;34m]\u001b[0m \u001b[0;34m=\u001b[0m \u001b[0;34m\"x\"\u001b[0m  \u001b[0;31m# trying to change the first character to \"x\"\u001b[0m\u001b[0;34m\u001b[0m\u001b[0m\n\u001b[0m",
        "\u001b[0;31mTypeError\u001b[0m: 'str' object does not support item assignment"
       ]
      }
     ],
     "prompt_number": 20
    },
    {
     "cell_type": "code",
     "collapsed": false,
     "input": [
      "t = \"x\" + s[1:]\n",
      "print t"
     ],
     "language": "python",
     "metadata": {},
     "outputs": [
      {
       "output_type": "stream",
       "stream": "stdout",
       "text": [
        "xbcde\n"
       ]
      }
     ],
     "prompt_number": 22
    },
    {
     "cell_type": "markdown",
     "metadata": {},
     "source": [
      "Many functions and methods are available."
     ]
    },
    {
     "cell_type": "code",
     "collapsed": false,
     "input": [
      "s = \"abcde\"\n",
      "print s + s   # concatenation"
     ],
     "language": "python",
     "metadata": {},
     "outputs": [
      {
       "output_type": "stream",
       "stream": "stdout",
       "text": [
        "abcdeabcde\n"
       ]
      }
     ],
     "prompt_number": 23
    },
    {
     "cell_type": "code",
     "collapsed": false,
     "input": [
      "print len(s)"
     ],
     "language": "python",
     "metadata": {},
     "outputs": [
      {
       "output_type": "stream",
       "stream": "stdout",
       "text": [
        "5\n"
       ]
      }
     ],
     "prompt_number": 24
    },
    {
     "cell_type": "code",
     "collapsed": false,
     "input": [
      "print s.find(\"c\")    # index is 0-based. returns -1 if not found"
     ],
     "language": "python",
     "metadata": {},
     "outputs": [
      {
       "output_type": "stream",
       "stream": "stdout",
       "text": [
        "2\n"
       ]
      }
     ],
     "prompt_number": 25
    },
    {
     "cell_type": "markdown",
     "metadata": {},
     "source": [
      "String Manipulation\n",
      "-------------------\n",
      "\n",
      "A few more string methods."
     ]
    },
    {
     "cell_type": "code",
     "collapsed": false,
     "input": [
      "s = \"abcde\"\n",
      "print s.upper(), \"XYZ\".lower()"
     ],
     "language": "python",
     "metadata": {},
     "outputs": [
      {
       "output_type": "stream",
       "stream": "stdout",
       "text": [
        "ABCDE xyz\n"
       ]
      }
     ],
     "prompt_number": 26
    },
    {
     "cell_type": "code",
     "collapsed": false,
     "input": [
      "print \"     xxx  yy  \".strip()"
     ],
     "language": "python",
     "metadata": {},
     "outputs": [
      {
       "output_type": "stream",
       "stream": "stdout",
       "text": [
        "xxx  yy\n"
       ]
      }
     ],
     "prompt_number": 27
    },
    {
     "cell_type": "code",
     "collapsed": false,
     "input": [
      "print \"a,bb,ccc\".split(\",\")"
     ],
     "language": "python",
     "metadata": {},
     "outputs": [
      {
       "output_type": "stream",
       "stream": "stdout",
       "text": [
        "['a', 'bb', 'ccc']\n"
       ]
      }
     ],
     "prompt_number": 28
    },
    {
     "cell_type": "markdown",
     "metadata": {},
     "source": [
      "What are \"Methods\"?\n",
      "\n",
      "* Functions which are a member of a type (or class).\n",
      "* int, str, Word Document are types (or classes).\n",
      "* 2, \"abcde\", diary.docx\" are an _instance_ (or _object_) of the respective type.\n",
      "* Types have members: properties (data) and methods (functions)."
     ]
    },
    {
     "cell_type": "markdown",
     "metadata": {},
     "source": [
      "![methods](files/graphics/methods.png)"
     ]
    },
    {
     "cell_type": "markdown",
     "metadata": {},
     "source": [
      "Two ways to Format\n",
      "------------------\n",
      "\n",
      "format() method."
     ]
    },
    {
     "cell_type": "code",
     "collapsed": false,
     "input": [
      "print \"The answer is {0}\".format(21)"
     ],
     "language": "python",
     "metadata": {},
     "outputs": [
      {
       "output_type": "stream",
       "stream": "stdout",
       "text": [
        "The answer is 21\n"
       ]
      }
     ],
     "prompt_number": 1
    },
    {
     "cell_type": "code",
     "collapsed": false,
     "input": [
      "print \"The real answer is {0:6.4f}\".format(21.2345678)"
     ],
     "language": "python",
     "metadata": {},
     "outputs": [
      {
       "output_type": "stream",
       "stream": "stdout",
       "text": [
        "The real answer is 21.2346\n"
       ]
      }
     ],
     "prompt_number": 30
    },
    {
     "cell_type": "markdown",
     "metadata": {},
     "source": [
      "Formatting operator."
     ]
    },
    {
     "cell_type": "code",
     "collapsed": false,
     "input": [
      "print \"The answer is %d\" % 21"
     ],
     "language": "python",
     "metadata": {},
     "outputs": [
      {
       "output_type": "stream",
       "stream": "stdout",
       "text": [
        "The answer is 21\n"
       ]
      }
     ],
     "prompt_number": 31
    },
    {
     "cell_type": "code",
     "collapsed": false,
     "input": [
      "print \"The real answer is %6.4f\" % 21.2345678"
     ],
     "language": "python",
     "metadata": {},
     "outputs": [
      {
       "output_type": "stream",
       "stream": "stdout",
       "text": [
        "The real answer is 21.2346\n"
       ]
      }
     ],
     "prompt_number": 32
    },
    {
     "cell_type": "markdown",
     "metadata": {},
     "source": [
      "Raw Strings\n",
      "-----------\n",
      "\n",
      "Within a string literal, escape sequences start with a backslash."
     ]
    },
    {
     "cell_type": "code",
     "collapsed": false,
     "input": [
      "a_string = 'It\\'s a great day\\nto learn \\\\Python\\\\. \\n 1\\t 2\\t 3'\n",
      "print a_string"
     ],
     "language": "python",
     "metadata": {},
     "outputs": [
      {
       "output_type": "stream",
       "stream": "stdout",
       "text": [
        "It's a great day\n",
        "to learn \\Python\\. \n",
        " 1\t 2\t 3\n"
       ]
      }
     ],
     "prompt_number": 34
    },
    {
     "cell_type": "markdown",
     "metadata": {},
     "source": [
      "A _raw_ string literal starts with the prefix r. In a raw string, the backslash is not special."
     ]
    },
    {
     "cell_type": "code",
     "collapsed": false,
     "input": [
      "import re\n",
      "\n",
      "# raw strings are great for writing regular expression patterns.\n",
      "p = re.compile(r\"\\d\\d\\d-\\d\\d\\d\\d\")\n",
      "m = p.match(\"123-4567\")\n",
      "if m is not None:\n",
      "    print m.group()"
     ],
     "language": "python",
     "metadata": {},
     "outputs": [
      {
       "output_type": "stream",
       "stream": "stdout",
       "text": [
        "123-4567\n"
       ]
      }
     ],
     "prompt_number": 35
    },
    {
     "cell_type": "markdown",
     "metadata": {},
     "source": [
      "Unicode Strings\n",
      "---------------\n",
      "\n",
      "You can create Unicode strings using the u prefix and slash-u escape sequences."
     ]
    },
    {
     "cell_type": "code",
     "collapsed": false,
     "input": [
      "a_string = u\"Euro \\u20AC\"   # \\u followed by 16-bit hex value xxxx\n",
      "print a_string, len(a_string)"
     ],
     "language": "python",
     "metadata": {},
     "outputs": [
      {
       "output_type": "stream",
       "stream": "stdout",
       "text": [
        "Euro \u20ac 6\n"
       ]
      }
     ],
     "prompt_number": 36
    },
    {
     "cell_type": "markdown",
     "metadata": {},
     "source": [
      "* Unicode strings are sequences of _code points_.\n",
      "* Code points are numbers, each representing a \"character\" e.g., U+00612 is \"Latin small letter a\".\n",
      "* Unicode text strings are _encoded_ into bytes. UTF-8 is one of many Unicode encodings, using one to four bytes to store a Unicode \"character\".\n",
      "* Once you have Unicode strings in Python, all the string functions and properties work as expected."
     ]
    },
    {
     "cell_type": "markdown",
     "metadata": {},
     "source": [
      "Best Practices According to Thomas Wouters\n",
      "------------------------------------------\n",
      "\n",
      "* Never mix unicode and bytecode (i.e., ordinary) strings.\n",
      "* Decode bytecode strings on input.\n",
      "* Encode unicode strings on output.\n",
      "* Try automatic conversion (codecs.open())\n",
      "* Pay attention to exceptions, UnicodeDecodeError\n",
      "\n",
      "An example:"
     ]
    },
    {
     "cell_type": "code",
     "collapsed": false,
     "input": [
      "ustr = u\"Euro \\u20AC\"   # Euro symbol\n",
      "\n",
      "# Python's default encoding codec is 'ascii'\n",
      "ustr.encode()"
     ],
     "language": "python",
     "metadata": {},
     "outputs": [
      {
       "ename": "UnicodeEncodeError",
       "evalue": "'ascii' codec can't encode character u'\\u20ac' in position 5: ordinal not in range(128)",
       "output_type": "pyerr",
       "traceback": [
        "\u001b[0;31m---------------------------------------------------------------------------\u001b[0m\n\u001b[0;31mUnicodeEncodeError\u001b[0m                        Traceback (most recent call last)",
        "\u001b[0;32m<ipython-input-37-50afcc1cd09a>\u001b[0m in \u001b[0;36m<module>\u001b[0;34m()\u001b[0m\n\u001b[1;32m      2\u001b[0m \u001b[0;34m\u001b[0m\u001b[0m\n\u001b[1;32m      3\u001b[0m \u001b[0;31m# Python's default encoding codec is 'ascii'\u001b[0m\u001b[0;34m\u001b[0m\u001b[0;34m\u001b[0m\u001b[0m\n\u001b[0;32m----> 4\u001b[0;31m \u001b[0mustr\u001b[0m\u001b[0;34m.\u001b[0m\u001b[0mencode\u001b[0m\u001b[0;34m(\u001b[0m\u001b[0;34m)\u001b[0m\u001b[0;34m\u001b[0m\u001b[0m\n\u001b[0m",
        "\u001b[0;31mUnicodeEncodeError\u001b[0m: 'ascii' codec can't encode character u'\\u20ac' in position 5: ordinal not in range(128)"
       ]
      }
     ],
     "prompt_number": 37
    },
    {
     "cell_type": "code",
     "collapsed": false,
     "input": [
      "utf_8 = ustr.encode(\"UTF-8\") # encoding to UTF-8 works fine\n",
      "# this takes 8 bytes. five one-byte's and one three-byte.\n",
      "\n",
      "# now we want to decode to ascii, ignoring non-ascii characters\n",
      "print utf_8.decode(\"ascii\", \"ignore\")"
     ],
     "language": "python",
     "metadata": {},
     "outputs": [
      {
       "output_type": "stream",
       "stream": "stdout",
       "text": [
        "Euro \n"
       ]
      }
     ],
     "prompt_number": 39
    },
    {
     "cell_type": "markdown",
     "metadata": {},
     "source": [
      "None\n",
      "----\n",
      "\n",
      "Is a place-holder, like NULL in other languages."
     ]
    },
    {
     "cell_type": "code",
     "collapsed": false,
     "input": [
      "x = None"
     ],
     "language": "python",
     "metadata": {},
     "outputs": [],
     "prompt_number": 40
    },
    {
     "cell_type": "markdown",
     "metadata": {},
     "source": [
      "None is s a universal object, i.e, there is only one None."
     ]
    },
    {
     "cell_type": "code",
     "collapsed": false,
     "input": [
      "print None is None"
     ],
     "language": "python",
     "metadata": {},
     "outputs": [
      {
       "output_type": "stream",
       "stream": "stdout",
       "text": [
        "True\n"
       ]
      }
     ],
     "prompt_number": 41
    },
    {
     "cell_type": "markdown",
     "metadata": {},
     "source": [
      "None is evaluated as False."
     ]
    },
    {
     "cell_type": "code",
     "collapsed": false,
     "input": [
      "x = None\n",
      "if x:\n",
      "    print \"this will never print\""
     ],
     "language": "python",
     "metadata": {},
     "outputs": [],
     "prompt_number": 42
    },
    {
     "cell_type": "markdown",
     "metadata": {},
     "source": [
      "None, however, is distinct from others which are False."
     ]
    },
    {
     "cell_type": "code",
     "collapsed": false,
     "input": [
      "print None is 0, None is False, None is []"
     ],
     "language": "python",
     "metadata": {},
     "outputs": [
      {
       "output_type": "stream",
       "stream": "stdout",
       "text": [
        "False False False\n"
       ]
      }
     ],
     "prompt_number": 43
    },
    {
     "cell_type": "markdown",
     "metadata": {},
     "source": [
      "Core Data Types\n",
      "---------------\n",
      "\n",
      "* Basic code data types: int, float, and str\n",
      "* \"Python is dynamically, but _strongly_ typed.\""
     ]
    },
    {
     "cell_type": "code",
     "collapsed": false,
     "input": [
      "n = 1.0\n",
      "print n + \"99\""
     ],
     "language": "python",
     "metadata": {},
     "outputs": [
      {
       "ename": "TypeError",
       "evalue": "unsupported operand type(s) for +: 'float' and 'str'",
       "output_type": "pyerr",
       "traceback": [
        "\u001b[0;31m---------------------------------------------------------------------------\u001b[0m\n\u001b[0;31mTypeError\u001b[0m                                 Traceback (most recent call last)",
        "\u001b[0;32m<ipython-input-44-59d3e938e669>\u001b[0m in \u001b[0;36m<module>\u001b[0;34m()\u001b[0m\n\u001b[1;32m      1\u001b[0m \u001b[0mn\u001b[0m \u001b[0;34m=\u001b[0m \u001b[0;36m1.0\u001b[0m\u001b[0;34m\u001b[0m\u001b[0m\n\u001b[0;32m----> 2\u001b[0;31m \u001b[0;32mprint\u001b[0m \u001b[0mn\u001b[0m \u001b[0;34m+\u001b[0m \u001b[0;34m\"99\"\u001b[0m\u001b[0;34m\u001b[0m\u001b[0m\n\u001b[0m",
        "\u001b[0;31mTypeError\u001b[0m: unsupported operand type(s) for +: 'float' and 'str'"
       ]
      }
     ],
     "prompt_number": 44
    },
    {
     "cell_type": "markdown",
     "metadata": {},
     "source": [
      "* Use int() or float() to go from str to numeric."
     ]
    },
    {
     "cell_type": "code",
     "collapsed": false,
     "input": [
      "print n + float(\"99\")"
     ],
     "language": "python",
     "metadata": {},
     "outputs": [
      {
       "output_type": "stream",
       "stream": "stdout",
       "text": [
        "100.0\n"
       ]
      }
     ],
     "prompt_number": 45
    },
    {
     "cell_type": "markdown",
     "metadata": {},
     "source": [
      "* str() returns the string representation of the given object."
     ]
    },
    {
     "cell_type": "code",
     "collapsed": false,
     "input": [
      "n = 1.0\n",
      "print str(n) + \"99\""
     ],
     "language": "python",
     "metadata": {},
     "outputs": [
      {
       "output_type": "stream",
       "stream": "stdout",
       "text": [
        "1.099\n"
       ]
      }
     ],
     "prompt_number": 46
    },
    {
     "cell_type": "markdown",
     "metadata": {},
     "source": [
      "Operators\n",
      "---------\n",
      "\n",
      "* Python supports following types of operators:"
     ]
    },
    {
     "cell_type": "raw",
     "metadata": {},
     "source": [
      "   * Arithmetic (+ - + / % ** //)\n",
      "   * Comparison (== != > < >= <=)\n",
      "   * Assignment (= += -= *= /= %= **= //=)\n",
      "   * Logical (and or not)\n",
      "   * Bitwise (& | ^ ~ << >>)\n",
      "   * Membership (in  not in)\n",
      "   * Identity (is  is not)"
     ]
    },
    {
     "cell_type": "markdown",
     "metadata": {},
     "source": [
      "A Few Surprises\n",
      "---------------\n",
      "\n",
      "* Power operator binds more tightly than unary operators on the left."
     ]
    },
    {
     "cell_type": "code",
     "collapsed": false,
     "input": [
      "a = -2 ** 2\n",
      "print a"
     ],
     "language": "python",
     "metadata": {},
     "outputs": [
      {
       "output_type": "stream",
       "stream": "stdout",
       "text": [
        "-4\n"
       ]
      }
     ],
     "prompt_number": 47
    },
    {
     "cell_type": "code",
     "collapsed": false,
     "input": [
      "# solution: parenthesize the base\n",
      "print (-2)**2"
     ],
     "language": "python",
     "metadata": {},
     "outputs": [
      {
       "output_type": "stream",
       "stream": "stdout",
       "text": [
        "4\n"
       ]
      }
     ],
     "prompt_number": 48
    },
    {
     "cell_type": "markdown",
     "metadata": {},
     "source": [
      "* Comparisons can be chained."
     ]
    },
    {
     "cell_type": "code",
     "collapsed": false,
     "input": [
      "x = 1\n",
      "y = 3\n",
      "z = 3\n",
      "\n",
      "x < y <= z    # y is evaluated only once here\n",
      "# is equivalent to\n",
      "x < y and y <= z"
     ],
     "language": "python",
     "metadata": {},
     "outputs": [
      {
       "metadata": {},
       "output_type": "pyout",
       "prompt_number": 50,
       "text": [
        "True"
       ]
      }
     ],
     "prompt_number": 50
    },
    {
     "cell_type": "markdown",
     "metadata": {},
     "source": [
      "* Logical operators (and, or) short-circuit evaluation and return an _operand_."
     ]
    },
    {
     "cell_type": "code",
     "collapsed": false,
     "input": [
      "print 3 or 2"
     ],
     "language": "python",
     "metadata": {},
     "outputs": [
      {
       "output_type": "stream",
       "stream": "stdout",
       "text": [
        "3\n"
       ]
      }
     ],
     "prompt_number": 51
    },
    {
     "cell_type": "markdown",
     "metadata": {},
     "source": [
      "Quiz\n",
      "----\n",
      "\n",
      "* Demographic and Health Surveys (DHS) Century Month Code (CMC) provides and easy way working with year and month.\n",
      "* The CMC is an integer representing a month, taking the value of 1 in January 1900, 2 in February 1900, ..., 13 in January 1901, etc. The CMC in February 2011 is 1333.\n",
      "* What is the CMC for this month, i.e., January, 2014?"
     ]
    },
    {
     "cell_type": "code",
     "collapsed": false,
     "input": [
      "# An answer:\n",
      "year = 2014\n",
      "month = 1\n",
      "print \"CMC\", (year - 1900) * 12 + month"
     ],
     "language": "python",
     "metadata": {},
     "outputs": [
      {
       "output_type": "stream",
       "stream": "stdout",
       "text": [
        "CMC 1369\n"
       ]
      }
     ],
     "prompt_number": 52
    },
    {
     "cell_type": "markdown",
     "metadata": {},
     "source": [
      "* What is the month (and year) of CMC 1000?"
     ]
    },
    {
     "cell_type": "markdown",
     "metadata": {},
     "source": [
      "Quiz\n",
      "----\n",
      "\n",
      "* According to U.S. National Debt Clock, the current outstanding public debt, as of a day last month, was a big number:"
     ]
    },
    {
     "cell_type": "code",
     "collapsed": false,
     "input": [
      "debt = 17234623718339.96"
     ],
     "language": "python",
     "metadata": {},
     "outputs": [],
     "prompt_number": 53
    },
    {
     "cell_type": "markdown",
     "metadata": {},
     "source": [
      "* Count how many times the degit 3 appears in the number. (Hint: create a string variable and use the count() method of the string type.)"
     ]
    },
    {
     "cell_type": "code",
     "collapsed": false,
     "input": [
      "# An answer:\n",
      "sdebt = \"17234623718339.96\"\n",
      "print sdebt.count(\"3\")"
     ],
     "language": "python",
     "metadata": {},
     "outputs": [
      {
       "output_type": "stream",
       "stream": "stdout",
       "text": [
        "4\n"
       ]
      }
     ],
     "prompt_number": 54
    },
    {
     "cell_type": "markdown",
     "metadata": {},
     "source": [
      "* (tricky) It feels rather silly to rewrite the value as a string. Can you think of a way to _convert_ the number into a string?"
     ]
    },
    {
     "cell_type": "code",
     "collapsed": false,
     "input": [
      "# this may or may not work. \n",
      "s1 = str(debt)\n",
      "print s1.count(\"3\")"
     ],
     "language": "python",
     "metadata": {},
     "outputs": [
      {
       "output_type": "stream",
       "stream": "stdout",
       "text": [
        "4\n"
       ]
      }
     ],
     "prompt_number": 56
    },
    {
     "cell_type": "code",
     "collapsed": false,
     "input": [
      "# this should not fail.\n",
      "s2 = \"{0:20.2f}\".format(debt)\n",
      "print s2.count(\"3\")"
     ],
     "language": "python",
     "metadata": {},
     "outputs": [
      {
       "output_type": "stream",
       "stream": "stdout",
       "text": [
        "4\n"
       ]
      }
     ],
     "prompt_number": 59
    },
    {
     "cell_type": "markdown",
     "metadata": {},
     "source": [
      "Flow Control\n",
      "------------\n",
      "\n",
      "* Conditional Execution (if)\n",
      "* Iteration\n",
      "  * while loop\n",
      "  * for loop"
     ]
    },
    {
     "cell_type": "markdown",
     "metadata": {},
     "source": [
      "If Statement\n",
      "------------\n",
      "\n",
      "* If statement is used for conditional execution."
     ]
    },
    {
     "cell_type": "code",
     "collapsed": false,
     "input": [
      "x = 4\n",
      "if x > 0:\n",
      "    print \"x is positive\"\n",
      "else:\n",
      "    print \"x is zero or negative\""
     ],
     "language": "python",
     "metadata": {},
     "outputs": [
      {
       "output_type": "stream",
       "stream": "stdout",
       "text": [
        "x is positive\n"
       ]
      }
     ],
     "prompt_number": 60
    },
    {
     "cell_type": "markdown",
     "metadata": {},
     "source": [
      "* Only one suite (block of statements) under a True conditional expression is executed."
     ]
    },
    {
     "cell_type": "code",
     "collapsed": false,
     "input": [
      "me = \"rock\"\n",
      "wins = 0\n",
      "\n",
      "you = \"scissors\"\n",
      "\n",
      "if you == \"paper\":\n",
      "    print \"You win!\"\n",
      "    \n",
      "elif you == \"scissors\":\n",
      "    print \"I win!\"\n",
      "    wins += 1\n",
      "    \n",
      "else:\n",
      "    print \"draw\""
     ],
     "language": "python",
     "metadata": {},
     "outputs": [
      {
       "output_type": "stream",
       "stream": "stdout",
       "text": [
        "I win!\n"
       ]
      }
     ],
     "prompt_number": 61
    },
    {
     "cell_type": "markdown",
     "metadata": {},
     "source": [
      "While\n",
      "-----\n",
      "\n",
      "* Repeats a block of statements as long as the condition remains True."
     ]
    },
    {
     "cell_type": "code",
     "collapsed": false,
     "input": [
      "total = 0\n",
      "n = 0\n",
      "while n < 10:\n",
      "    print n, total\n",
      "    n += 1\n",
      "    total += n"
     ],
     "language": "python",
     "metadata": {},
     "outputs": [
      {
       "output_type": "stream",
       "stream": "stdout",
       "text": [
        "0 0\n",
        "1 1\n",
        "2 3\n",
        "3 6\n",
        "4 10\n",
        "5 15\n",
        "6 21\n",
        "7 28\n",
        "8 36\n",
        "9 45\n"
       ]
      }
     ],
     "prompt_number": 62
    },
    {
     "cell_type": "markdown",
     "metadata": {},
     "source": [
      "* break terminates a loop immediately.\n",
      "* continue skips the remainder of the block and goes back to the test condition at the top."
     ]
    },
    {
     "cell_type": "markdown",
     "metadata": {},
     "source": [
      "For\n",
      "---\n",
      "\n",
      "* for is used to iterate over a sequence."
     ]
    },
    {
     "cell_type": "code",
     "collapsed": false,
     "input": [
      "days = [\"Sunday\", \"Monday\", \"Tuesday\", \"Wednesday\",\n",
      "        \"Thursday\", \"Friday\", \"Saturday\"]\n",
      "\n",
      "for day in days:\n",
      "    if day == \"Friday\":\n",
      "        print \"I am outta here.\"\n",
      "        break\n",
      "    print \"Happy\" + \" \" + day + \"!\""
     ],
     "language": "python",
     "metadata": {},
     "outputs": [
      {
       "output_type": "stream",
       "stream": "stdout",
       "text": [
        "Happy Sunday!\n",
        "Happy Monday!\n",
        "Happy Tuesday!\n",
        "Happy Wednesday!\n",
        "Happy Thursday!\n",
        "I am outta here.\n"
       ]
      }
     ],
     "prompt_number": 63
    },
    {
     "cell_type": "markdown",
     "metadata": {},
     "source": [
      "For\n",
      "---\n",
      "\n",
      "* Another example:"
     ]
    },
    {
     "cell_type": "code",
     "collapsed": false,
     "input": [
      "numbers = range(5)\n",
      "print numbers"
     ],
     "language": "python",
     "metadata": {},
     "outputs": [
      {
       "output_type": "stream",
       "stream": "stdout",
       "text": [
        "[0, 1, 2, 3, 4]\n"
       ]
      }
     ],
     "prompt_number": 64
    },
    {
     "cell_type": "code",
     "collapsed": false,
     "input": [
      "for n in numbers:\n",
      "    print n,\n",
      "    if n % 2 == 0:\n",
      "        print \"is even\"\n",
      "    else:\n",
      "        print \"is odd\""
     ],
     "language": "python",
     "metadata": {},
     "outputs": [
      {
       "output_type": "stream",
       "stream": "stdout",
       "text": [
        "0 is even\n",
        "1 is odd\n",
        "2 is even\n",
        "3 is odd\n",
        "4 is even\n"
       ]
      }
     ],
     "prompt_number": 65
    },
    {
     "cell_type": "markdown",
     "metadata": {},
     "source": [
      "Compound Statements\n",
      "-------------------\n",
      "\n",
      "* If, while, and for are _compound_ statements, which have one or more _clauses_. A clause, in turn, consists of a _header_ that ends with a colon and a _suite_.\n",
      "* A suite, a block of statements, is identified by _indentation_."
     ]
    },
    {
     "cell_type": "code",
     "collapsed": false,
     "input": [
      "a = 1\n",
      "if a > 0:\n",
      "    desc = \"a is positive\"           # these two lines form a suite\n",
      "    print a, desc                    #\n",
      "                                     # (blank line ignored)\n",
      "print \"done\"                         # This line being started \"dedented\"\n",
      "                                     # signals the end of the block.\n",
      "    \n",
      "    if a > 0:                        # indentation error\n",
      "desc = \"a is positive\"               # indentation error\n",
      "\n",
      "if a > 0:                            # OK\n",
      "            desc = \"a is positive\"   # OK\n",
      "            print a, desc            # OK\n",
      "else:                                # OK\n",
      "        print a                      # OK"
     ],
     "language": "python",
     "metadata": {},
     "outputs": []
    },
    {
     "cell_type": "markdown",
     "metadata": {},
     "source": [
      "Compound Statements\n",
      "-------------------\n",
      "\n",
      "* The amount of indentation does not matter (as long as the same within a level). Four spaces (per level) and no tabs are the convention.\n",
      "* Use editor's python mode, which prevents/converts TAB to (four) spaces.\n",
      "* Why indentation? A good answer at: [http://tinyurl.com/kxv9vts](http://tinyurl.com/kxv9vts).\n",
      "* For an empty suite, use pass statement, which does nothing."
     ]
    },
    {
     "cell_type": "markdown",
     "metadata": {},
     "source": [
      "File I/O\n",
      "--------\n",
      "\n",
      "* The built-in function, open(), returns a file type object, unless there is an error opening the file."
     ]
    },
    {
     "cell_type": "code",
     "collapsed": false,
     "input": [
      "in_file = open(\"code/yourfile.txt\", \"r\")\n",
      "out_file = open(\"code/myfile.txt\", \"w\")"
     ],
     "language": "python",
     "metadata": {},
     "outputs": [],
     "prompt_number": 71
    },
    {
     "cell_type": "markdown",
     "metadata": {},
     "source": [
      "* Once we get the file type object, then use its methods."
     ]
    },
    {
     "cell_type": "code",
     "collapsed": false,
     "input": [
      "# read all the contents from the input file\n",
      "content = in_file.read()\n",
      "\n",
      "# write out a line to the output file\n",
      "out_file.write(\"hello?\\n\")\n",
      "\n",
      "# close it when done\n",
      "in_file.close()\n",
      "out_file.close()"
     ],
     "language": "python",
     "metadata": {},
     "outputs": [],
     "prompt_number": 72
    },
    {
     "cell_type": "markdown",
     "metadata": {},
     "source": [
      "Reading a file one line at a time\n",
      "---------------------------------\n",
      "\n",
      "* with ensures that the file is closed when done."
     ]
    },
    {
     "cell_type": "code",
     "collapsed": false,
     "input": [
      "with open(\"code/lorem.txt\", \"r\") as f:\n",
      "    for line in f:\n",
      "        print line"
     ],
     "language": "python",
     "metadata": {},
     "outputs": [
      {
       "output_type": "stream",
       "stream": "stdout",
       "text": [
        "Lorem ipsum dolor sit amet, consectetur adipisicing elit, sed do eiusmod\n",
        "\n",
        "tempor incididunt ut labore et dolore magna aliqua. Ut enim ad minim veniam,\n",
        "\n",
        "quis nostrud exercitation ullamco laboris nisi ut aliquip ex ea commodo\n",
        "\n",
        "consequat.  Duis aute irure dolor in reprehenderit in voluptate velit esse\n",
        "\n",
        "cillum dolore eu fugiat nulla pariatur. Excepteur sint occaecat cupidatat non\n",
        "\n",
        "proident, sunt in culpa qui officia deserunt mollit anim id est laborum.\n",
        "\n"
       ]
      }
     ],
     "prompt_number": 74
    },
    {
     "cell_type": "markdown",
     "metadata": {},
     "source": [
      "* Another example."
     ]
    },
    {
     "cell_type": "code",
     "collapsed": false,
     "input": [
      "# creating a file and writing three lines.\n",
      "with open(\"code/small.txt\", \"w\") as f:\n",
      "    f.write(\"first\\n\")\n",
      "    f.write(\"second\\n\")\n",
      "    f.write(\"third\")\n",
      "    \n",
      "with open(\"code/small.txt\", \"r\") as f:\n",
      "    for line in f:\n",
      "        print line       # line includes the newline char"
     ],
     "language": "python",
     "metadata": {},
     "outputs": [
      {
       "output_type": "stream",
       "stream": "stdout",
       "text": [
        "first\n",
        "\n",
        "second\n",
        "\n",
        "third\n"
       ]
      }
     ],
     "prompt_number": 76
    },
    {
     "cell_type": "markdown",
     "metadata": {},
     "source": [
      "Defining and Calling a Function\n",
      "-------------------------------\n",
      "\n",
      "* Defined with def and called by name followed by ()."
     ]
    },
    {
     "cell_type": "code",
     "collapsed": false,
     "input": [
      "def the_answer():\n",
      "    return 42\n",
      "\n",
      "print the_answer()"
     ],
     "language": "python",
     "metadata": {},
     "outputs": [
      {
       "output_type": "stream",
       "stream": "stdout",
       "text": [
        "42\n"
       ]
      }
     ],
     "prompt_number": 77
    },
    {
     "cell_type": "markdown",
     "metadata": {},
     "source": [
      "* Argument(s) can be passed."
     ]
    },
    {
     "cell_type": "code",
     "collapsed": false,
     "input": [
      "def shout(what):\n",
      "    print what.upper() + \"!\"\n",
      "    \n",
      "shout(\"hello\")"
     ],
     "language": "python",
     "metadata": {},
     "outputs": [
      {
       "output_type": "stream",
       "stream": "stdout",
       "text": [
        "HELLO!\n"
       ]
      }
     ],
     "prompt_number": 79
    },
    {
     "cell_type": "markdown",
     "metadata": {},
     "source": [
      "* If the function returns nothing, then it returns None."
     ]
    },
    {
     "cell_type": "code",
     "collapsed": false,
     "input": [
      "r = shout(\"hi\")\n",
      "print r"
     ],
     "language": "python",
     "metadata": {},
     "outputs": [
      {
       "output_type": "stream",
       "stream": "stdout",
       "text": [
        "HI!\n",
        "None\n"
       ]
      }
     ],
     "prompt_number": 80
    },
    {
     "cell_type": "markdown",
     "metadata": {},
     "source": [
      "Another Example\n",
      "---------------\n",
      "\n",
      "* CMC again"
     ]
    },
    {
     "cell_type": "code",
     "collapsed": false,
     "input": [
      "def cmc(year, month):\n",
      "    ''' returns DHS Century Month Code '''   # doc string\n",
      "    \n",
      "    if year < 1900 or year > 2099:\n",
      "        print \"year out of range\"\n",
      "        return\n",
      "\n",
      "    if month < 1 or month > 12:\n",
      "        print \"month out of range\"\n",
      "        return\n",
      "\n",
      "    value = (year - 1900) * 12 + month \n",
      "    return value\n",
      "\n",
      "print cmc(2014, 1) \n",
      "print cmc(2014, 15)"
     ],
     "language": "python",
     "metadata": {},
     "outputs": [
      {
       "output_type": "stream",
       "stream": "stdout",
       "text": [
        "1369\n",
        "month out of range\n",
        "None\n"
       ]
      }
     ],
     "prompt_number": 82
    },
    {
     "cell_type": "markdown",
     "metadata": {},
     "source": [
      "Local and Global Variables\n",
      "--------------------------\n",
      "\n",
      "Within your function:\n",
      "\n",
      "* A new variable is _local_, and independent of the global variable with the same name, if any."
     ]
    },
    {
     "cell_type": "code",
     "collapsed": false,
     "input": [
      "x = 1                   # global (or module)\n",
      "\n",
      "def my_func():\n",
      "    x = 2               # local\n",
      "    \n",
      "my_func()\n",
      "print x"
     ],
     "language": "python",
     "metadata": {},
     "outputs": [
      {
       "output_type": "stream",
       "stream": "stdout",
       "text": [
        "1\n"
       ]
      }
     ],
     "prompt_number": 83
    },
    {
     "cell_type": "markdown",
     "metadata": {},
     "source": [
      "* Both local and global variables can be read.\n",
      "* Global variables can be written to once _declared_ so."
     ]
    },
    {
     "cell_type": "code",
     "collapsed": false,
     "input": [
      "x = 1\n",
      "\n",
      "def my_func():\n",
      "    global x\n",
      "    x = 2                # global\n",
      "    \n",
      "my_func()\n",
      "print x"
     ],
     "language": "python",
     "metadata": {},
     "outputs": [
      {
       "output_type": "stream",
       "stream": "stdout",
       "text": [
        "2\n"
       ]
      }
     ],
     "prompt_number": 84
    },
    {
     "cell_type": "markdown",
     "metadata": {},
     "source": [
      "Quiz\n",
      "----\n",
      "\n",
      "Wirte a function that returns Body Mass Index (BMI) of an adult given weight in kilograms and height in meters. (Hint: BMI = weight(kg) / (height(m) squared). For instance, if a person is 70kg and 1.80m, then BMI is about 21.6)"
     ]
    },
    {
     "cell_type": "code",
     "collapsed": false,
     "input": [
      "# An answer:\n",
      "def bmi(kg, m):\n",
      "    return float(kg) / (m ** 2)\n",
      "\n",
      "# check\n",
      "print bmi(70, 1.80)"
     ],
     "language": "python",
     "metadata": {},
     "outputs": [
      {
       "output_type": "stream",
       "stream": "stdout",
       "text": [
        "21.6049382716\n"
       ]
      }
     ],
     "prompt_number": 86
    },
    {
     "cell_type": "markdown",
     "metadata": {},
     "source": [
      "Re-write the bmi function so that it accepts height in feet and inches, and the weight in pounds. (Hint. Make foot, inch, and pound arguments. Convert them into local variables, kg and m, before calculating bmi to return.)"
     ]
    },
    {
     "cell_type": "code",
     "collapsed": false,
     "input": [
      "def bmi2(pound, foot, inch):\n",
      "    kg = 0.453592 * pound\n",
      "    m = 0.0254 * (12 * foot + inch)\n",
      "    return bmi(kg, m)\n",
      "\n",
      "# check\n",
      "print bmi2(154.324, 5, 10.8661)"
     ],
     "language": "python",
     "metadata": {},
     "outputs": [
      {
       "output_type": "stream",
       "stream": "stdout",
       "text": [
        "21.605004399\n"
       ]
      }
     ],
     "prompt_number": 87
    },
    {
     "cell_type": "markdown",
     "metadata": {},
     "source": [
      "Importing a module\n",
      "------------------\n",
      "\n",
      "import command reads in a module, runs it (top-to-bottom) to create the module object.\n",
      "\n",
      "Via the module object, you get access to its variables, functions, classes, ...\n",
      "\n",
      "We've already seen an example of importing a standard regular expression module:"
     ]
    },
    {
     "cell_type": "code",
     "collapsed": false,
     "input": [
      "import re\n",
      "\n",
      "# compile() is a function defined within the imported re module.\n",
      "\n",
      "p = re.compile(r\"\\d\\d\\d-\\d\\d\\d\\d\")\n",
      "m = p.match(\"123-4567\")\n",
      "if m is not None:\n",
      "    print m.group()"
     ],
     "language": "python",
     "metadata": {},
     "outputs": [
      {
       "output_type": "stream",
       "stream": "stdout",
       "text": [
        "123-4567\n"
       ]
      }
     ],
     "prompt_number": 88
    },
    {
     "cell_type": "markdown",
     "metadata": {},
     "source": [
      "Another Example\n",
      "---------------\n",
      "\n",
      "There are many standard modules that come already installed, and be ready to be imported."
     ]
    },
    {
     "cell_type": "code",
     "collapsed": false,
     "input": [
      "import math\n",
      "\n",
      "s = math.sqrt(4.0)\n",
      "print \"4.0 squared is {0:.2f}\".format(s)"
     ],
     "language": "python",
     "metadata": {},
     "outputs": [
      {
       "output_type": "stream",
       "stream": "stdout",
       "text": [
        "4.0 squared is 2.00\n"
       ]
      }
     ],
     "prompt_number": 89
    },
    {
     "cell_type": "markdown",
     "metadata": {},
     "source": [
      "* You can selectively import as well."
     ]
    },
    {
     "cell_type": "code",
     "collapsed": false,
     "input": [
      "from math import sqrt # import sqrt alone\n",
      "\n",
      "print sqrt(9.0)     # no \"math.\""
     ],
     "language": "python",
     "metadata": {},
     "outputs": [
      {
       "output_type": "stream",
       "stream": "stdout",
       "text": [
        "3.0\n"
       ]
      }
     ],
     "prompt_number": 90
    },
    {
     "cell_type": "markdown",
     "metadata": {},
     "source": [
      "* You can import your own Python script file (.py) the same way. The default import path includes the current working directory and its sub-direcgtories."
     ]
    },
    {
     "cell_type": "code",
     "collapsed": false,
     "input": [
      "import sys\n",
      "sys.path.append('code/')  # just to make sure that import searches ./code sub directory\n",
      "\n",
      "import hello              # suppose that hello.py defines a main() function\n",
      "\n",
      "hello.main()"
     ],
     "language": "python",
     "metadata": {},
     "outputs": [
      {
       "output_type": "stream",
       "stream": "stdout",
       "text": [
        "Hello, World!\n"
       ]
      }
     ],
     "prompt_number": 95
    },
    {
     "cell_type": "markdown",
     "metadata": {},
     "source": [
      "Quiz\n",
      "----\n",
      "\n",
      "Write a function such that, given a BMI value, returns the BMI category as a string. Recall the categories are:\n",
      "\n",
      "* Underweight: less than 18.5\n",
      "* Normal weight: 18.5 upto but not including 25\n",
      "* Overweight: 25 upto but not including 30\n",
      "* Obesity: 30 or greater\n",
      "\n",
      "For instance, the function should return a string \"Normal weight\", when it is called with an argument of, say 20. (Hint: use conditional statements, i.e., if ... elif ...)"
     ]
    },
    {
     "cell_type": "code",
     "collapsed": false,
     "input": [
      "def BMI_category(bmi):\n",
      "    cat = \"\"\n",
      "    if bmi < 18.5:\n",
      "        cat = \"Underweight\"\n",
      "    elif bmi < 25:\n",
      "        cat = \"Normal weight\"\n",
      "    elif bmi < 30:\n",
      "        cat = \"Overweight\"\n",
      "    else:\n",
      "        cat = \"Obesity\"\n",
      "    return cat\n",
      "\n",
      "# check\n",
      "print BMI_category(20)"
     ],
     "language": "python",
     "metadata": {},
     "outputs": [
      {
       "output_type": "stream",
       "stream": "stdout",
       "text": [
        "Normal weight\n"
       ]
      }
     ],
     "prompt_number": 3
    },
    {
     "cell_type": "markdown",
     "metadata": {},
     "source": [
      "Print out a BMI table showing several lines of a pair: a BMI value and its category. BMI value may start at 15 and go up by 3 up to 36. (Hint: use a loop.)"
     ]
    },
    {
     "cell_type": "code",
     "collapsed": false,
     "input": [
      "def BMI_table():\n",
      "    print \"bmi\", \"category\"\n",
      "    print \"-\" * 17\n",
      "    bmi = 15\n",
      "    while bmi <= 36:\n",
      "        print \"\", bmi, BMI_category(bmi)\n",
      "        bmi += 3\n",
      "        \n",
      "# check\n",
      "BMI_table()"
     ],
     "language": "python",
     "metadata": {},
     "outputs": [
      {
       "output_type": "stream",
       "stream": "stdout",
       "text": [
        "bmi category\n",
        "-----------------\n",
        " 15 Underweight\n",
        " 18 Underweight\n",
        " 21 Normal weight\n",
        " 24 Normal weight\n",
        " 27 Overweight\n",
        " 30 Obesity\n",
        " 33 Obesity\n",
        " 36 Obesity\n"
       ]
      }
     ],
     "prompt_number": 4
    },
    {
     "cell_type": "markdown",
     "metadata": {},
     "source": [
      "Quiz (cont.)\n",
      "------------\n",
      "\n",
      "* Create a comma-separated values (.csv) file of the BMI table."
     ]
    },
    {
     "cell_type": "code",
     "collapsed": false,
     "input": [
      "import csv\n",
      "\n",
      "with open(\"code/test.csv\", \"wb\") as f:\n",
      "    my_writer = csv.writer(f)\n",
      "    bmi = 15\n",
      "    while bmi < 36:\n",
      "        cat = BMI_category(bmi)\n",
      "        my_writer.writerow([bmi, cat])\n",
      "        bmi += 3\n",
      "        \n",
      "# check\n",
      "with open(\"code/test.csv\", \"r\") as f:\n",
      "    for line in f:\n",
      "        print line,"
     ],
     "language": "python",
     "metadata": {},
     "outputs": [
      {
       "output_type": "stream",
       "stream": "stdout",
       "text": [
        "15,Underweight\r\n",
        "18,Underweight\r\n",
        "21,Normal weight\r\n",
        "24,Normal weight\r\n",
        "27,Overweight\r\n",
        "30,Obesity\r\n",
        "33,Obesity\r\n"
       ]
      }
     ],
     "prompt_number": 7
    },
    {
     "cell_type": "markdown",
     "metadata": {},
     "source": [
      "Summary\n",
      "-------\n",
      "\n",
      "* Using Python interactively or by running a script.\n",
      "* Comments.\n",
      "* Variables and assignment semantics.\n",
      "* Core data types (int, float, str, None)\n",
      "* Operators.\n",
      "* Conditionals and looping.\n",
      "* Defining and calling functions.\n",
      "* Basic File I/O.\n",
      "* Importing a module."
     ]
    },
    {
     "cell_type": "code",
     "collapsed": false,
     "input": [],
     "language": "python",
     "metadata": {},
     "outputs": []
    }
   ],
   "metadata": {}
  }
 ]
}