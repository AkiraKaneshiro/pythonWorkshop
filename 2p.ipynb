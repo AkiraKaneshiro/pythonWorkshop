{
 "metadata": {
  "name": ""
 },
 "nbformat": 3,
 "nbformat_minor": 0,
 "worksheets": [
  {
   "cells": [
    {
     "cell_type": "markdown",
     "metadata": {},
     "source": [
      "Introduction to Python 2\n",
      "========================\n",
      "\n",
      "Chang Y. Chung\n",
      "\n",
      "Office of Population Research\n",
      "\n",
      "01/14/2014"
     ]
    },
    {
     "cell_type": "markdown",
     "metadata": {},
     "source": [
      "Algorithms + Data Structures = Programs\n",
      "---------------------------------------\n",
      "\n",
      "Niklaus Wirth (1976)<cite data-cite=\"Wirth1976\">[3]</cite>\n",
      "\n",
      "![wirth](files/graphics/wirth.png)\n",
      "\n",
      "Python's built-in data structures include:\n",
      "\n",
      "* Lists\n",
      "* Dictionaries\n",
      "* Tuples\n",
      "  \n",
      "We will also briefly talk about:\n",
      "\n",
      "* Classes\n",
      "* Exception Handling"
     ]
    },
    {
     "cell_type": "markdown",
     "metadata": {},
     "source": [
      "List\n",
      "----\n",
      "\n",
      "Ordered (indexed) collection of arbitrary objects.\n",
      "\n",
      "Mutable -- may be changed in place."
     ]
    },
    {
     "cell_type": "markdown",
     "metadata": {},
     "source": [
      "List\n",
      "----\n",
      "\n",
      "Ordered collection of arbitrary objects."
     ]
    },
    {
     "cell_type": "code",
     "collapsed": false,
     "input": [
      "L = []                             # a new empty list\n",
      "L = list()                         # ditto\n",
      "\n",
      "L = [1, 2.5, \"abc\" , [56.7, 78.9]]\n",
      "print len(L) \n",
      "print L[1] \n",
      "print L[3][0]"
     ],
     "language": "python",
     "metadata": {},
     "outputs": [
      {
       "output_type": "stream",
       "stream": "stdout",
       "text": [
        "4\n",
        "2.5\n",
        "56.7\n"
       ]
      }
     ],
     "prompt_number": 4
    },
    {
     "cell_type": "code",
     "collapsed": false,
     "input": [
      "for x in L:\n",
      "    print x"
     ],
     "language": "python",
     "metadata": {},
     "outputs": [
      {
       "output_type": "stream",
       "stream": "stdout",
       "text": [
        "1\n",
        "2.5\n",
        "abc\n",
        "[56.7, 78.9]\n"
       ]
      }
     ],
     "prompt_number": 5
    },
    {
     "cell_type": "code",
     "collapsed": false,
     "input": [
      "print \"abc\" in L, L.count(\"abc\"), L.index(\"abc\")"
     ],
     "language": "python",
     "metadata": {},
     "outputs": [
      {
       "output_type": "stream",
       "stream": "stdout",
       "text": [
        "True 1 2\n"
       ]
      }
     ],
     "prompt_number": 6
    },
    {
     "cell_type": "markdown",
     "metadata": {},
     "source": [
      "List\n",
      "----\n",
      "\n",
      "Mutable -- may be changed in place."
     ]
    },
    {
     "cell_type": "code",
     "collapsed": false,
     "input": [
      "L = []\n",
      "L.append(5)\n",
      "print L"
     ],
     "language": "python",
     "metadata": {},
     "outputs": [
      {
       "output_type": "stream",
       "stream": "stdout",
       "text": [
        "[5]\n"
       ]
      }
     ],
     "prompt_number": 7
    },
    {
     "cell_type": "code",
     "collapsed": false,
     "input": [
      "L[0] = 23\n",
      "print L"
     ],
     "language": "python",
     "metadata": {},
     "outputs": [
      {
       "output_type": "stream",
       "stream": "stdout",
       "text": [
        "[23]\n"
       ]
      }
     ],
     "prompt_number": 8
    },
    {
     "cell_type": "code",
     "collapsed": false,
     "input": [
      "M = [87, 999]\n",
      "L.extend(M)\n",
      "print L"
     ],
     "language": "python",
     "metadata": {},
     "outputs": [
      {
       "output_type": "stream",
       "stream": "stdout",
       "text": [
        "[23, 87, 999]\n"
       ]
      }
     ],
     "prompt_number": 9
    },
    {
     "cell_type": "code",
     "collapsed": false,
     "input": [
      "del L[2]\n",
      "print L"
     ],
     "language": "python",
     "metadata": {},
     "outputs": [
      {
       "output_type": "stream",
       "stream": "stdout",
       "text": [
        "[23, 87]\n"
       ]
      }
     ],
     "prompt_number": 10
    },
    {
     "cell_type": "markdown",
     "metadata": {},
     "source": [
      "List\n",
      "----\n",
      "\n",
      "More examples."
     ]
    },
    {
     "cell_type": "code",
     "collapsed": false,
     "input": [
      "def squares(a_list): \n",
      "    s=[]\n",
      "    for el in a_list:\n",
      "        s.append(el ** 2) \n",
      "    return s\n",
      "    \n",
      "sq = squares([1, 2, 3, 4]) \n",
      "print sq, sum(sq)"
     ],
     "language": "python",
     "metadata": {},
     "outputs": [
      {
       "output_type": "stream",
       "stream": "stdout",
       "text": [
        "[1, 4, 9, 16] 30\n"
       ]
      }
     ],
     "prompt_number": 11
    },
    {
     "cell_type": "markdown",
     "metadata": {},
     "source": [
      "Aliasing vs copying"
     ]
    },
    {
     "cell_type": "code",
     "collapsed": false,
     "input": [
      "L = [1, 2, 3, 4]\n",
      "M = L             # aliasing\n",
      "L[0] = 87\n",
      "print M"
     ],
     "language": "python",
     "metadata": {},
     "outputs": [
      {
       "output_type": "stream",
       "stream": "stdout",
       "text": [
        "[87, 2, 3, 4]\n"
       ]
      }
     ],
     "prompt_number": 12
    },
    {
     "cell_type": "code",
     "collapsed": false,
     "input": [
      "L = [1, 2, 3, 4]\n",
      "M = list(L)       # (shallow) copying. M = L[:] also works\n",
      "L[0] = 87\n",
      "print M"
     ],
     "language": "python",
     "metadata": {},
     "outputs": [
      {
       "output_type": "stream",
       "stream": "stdout",
       "text": [
        "[1, 2, 3, 4]\n"
       ]
      }
     ],
     "prompt_number": 13
    },
    {
     "cell_type": "markdown",
     "metadata": {},
     "source": [
      "Quiz\n",
      "----\n",
      "\n",
      "Given a list,"
     ]
    },
    {
     "cell_type": "code",
     "collapsed": false,
     "input": [
      "L = [1, 2, [3, 4], 5, \"xyz\"]"
     ],
     "language": "python",
     "metadata": {},
     "outputs": [],
     "prompt_number": 14
    },
    {
     "cell_type": "markdown",
     "metadata": {},
     "source": [
      "Evalute the following expressions:"
     ]
    },
    {
     "cell_type": "code",
     "collapsed": false,
     "input": [
      "L[1] == 1"
     ],
     "language": "python",
     "metadata": {},
     "outputs": [
      {
       "metadata": {},
       "output_type": "pyout",
       "prompt_number": 15,
       "text": [
        "False"
       ]
      }
     ],
     "prompt_number": 15
    },
    {
     "cell_type": "code",
     "collapsed": false,
     "input": [
      "len(L) == 5"
     ],
     "language": "python",
     "metadata": {},
     "outputs": [
      {
       "metadata": {},
       "output_type": "pyout",
       "prompt_number": 16,
       "text": [
        "True"
       ]
      }
     ],
     "prompt_number": 16
    },
    {
     "cell_type": "code",
     "collapsed": false,
     "input": [
      "L[2] == 3, 4"
     ],
     "language": "python",
     "metadata": {},
     "outputs": [
      {
       "metadata": {},
       "output_type": "pyout",
       "prompt_number": 17,
       "text": [
        "(False, 4)"
       ]
      }
     ],
     "prompt_number": 17
    },
    {
     "cell_type": "code",
     "collapsed": false,
     "input": [
      "[3] in L"
     ],
     "language": "python",
     "metadata": {},
     "outputs": [
      {
       "metadata": {},
       "output_type": "pyout",
       "prompt_number": 18,
       "text": [
        "False"
       ]
      }
     ],
     "prompt_number": 18
    },
    {
     "cell_type": "code",
     "collapsed": false,
     "input": [
      "L.index(\"xyz\") == 4"
     ],
     "language": "python",
     "metadata": {},
     "outputs": [
      {
       "metadata": {},
       "output_type": "pyout",
       "prompt_number": 19,
       "text": [
        "True"
       ]
      }
     ],
     "prompt_number": 19
    },
    {
     "cell_type": "code",
     "collapsed": false,
     "input": [
      "L[-1] == \"xyz\""
     ],
     "language": "python",
     "metadata": {},
     "outputs": [
      {
       "metadata": {},
       "output_type": "pyout",
       "prompt_number": 20,
       "text": [
        "True"
       ]
      }
     ],
     "prompt_number": 20
    },
    {
     "cell_type": "code",
     "collapsed": false,
     "input": [
      "L[-1][-1] == \"z\""
     ],
     "language": "python",
     "metadata": {},
     "outputs": [
      {
       "metadata": {},
       "output_type": "pyout",
       "prompt_number": 21,
       "text": [
        "True"
       ]
      }
     ],
     "prompt_number": 21
    },
    {
     "cell_type": "code",
     "collapsed": false,
     "input": [
      "any([1,2,3]) == True"
     ],
     "language": "python",
     "metadata": {},
     "outputs": [
      {
       "metadata": {},
       "output_type": "pyout",
       "prompt_number": 22,
       "text": [
        "True"
       ]
      }
     ],
     "prompt_number": 22
    },
    {
     "cell_type": "code",
     "collapsed": false,
     "input": [
      "L[9] == None"
     ],
     "language": "python",
     "metadata": {},
     "outputs": [
      {
       "ename": "IndexError",
       "evalue": "list index out of range",
       "output_type": "pyerr",
       "traceback": [
        "\u001b[0;31m---------------------------------------------------------------------------\u001b[0m\n\u001b[0;31mIndexError\u001b[0m                                Traceback (most recent call last)",
        "\u001b[0;32m<ipython-input-23-12bdb4879a22>\u001b[0m in \u001b[0;36m<module>\u001b[0;34m()\u001b[0m\n\u001b[0;32m----> 1\u001b[0;31m \u001b[0mL\u001b[0m\u001b[0;34m[\u001b[0m\u001b[0;36m9\u001b[0m\u001b[0;34m]\u001b[0m \u001b[0;34m==\u001b[0m \u001b[0mNone\u001b[0m\u001b[0;34m\u001b[0m\u001b[0m\n\u001b[0m",
        "\u001b[0;31mIndexError\u001b[0m: list index out of range"
       ]
      }
     ],
     "prompt_number": 23
    },
    {
     "cell_type": "code",
     "collapsed": false,
     "input": [
      "len([0,1,2,]) == 3"
     ],
     "language": "python",
     "metadata": {},
     "outputs": []
    },
    {
     "cell_type": "markdown",
     "metadata": {},
     "source": [
      "Quiz\n",
      "----\n",
      "\n",
      "Write a function that, given a list of integers, returns a _new_ list of odd numbers only. For instance, given the list, [0, 1, 2, 3, 4], this function should return a new list, [1, 3]. (Hint: Create a new empty list. Loop over the old one appending only odd numbers into the new one. Return the new one.)"
     ]
    },
    {
     "cell_type": "code",
     "collapsed": false,
     "input": [
      "def only_odd(a_list):\n",
      "    L = []\n",
      "    for el in a_list:\n",
      "        if el % 2 == 1:\n",
      "            L.append(el)\n",
      "    return L\n",
      "\n",
      "# check\n",
      "print only_odd([0, 1, 2, 3, 4])"
     ],
     "language": "python",
     "metadata": {},
     "outputs": []
    },
    {
     "cell_type": "markdown",
     "metadata": {},
     "source": [
      "Quiz (cont.)\n",
      "------------\n",
      "\n",
      "(tricky) Write a function similar to the previous one. This time, however, do not return a new list. Just modify the given list so that it has only the odd numbers. (Hint: del L[0] removes the first element of the list, L)"
     ]
    },
    {
     "cell_type": "markdown",
     "metadata": {},
     "source": [
      "Here is an answer."
     ]
    },
    {
     "cell_type": "code",
     "collapsed": false,
     "input": [
      "def only_odd2(a_list):\n",
      "    L = []                    # a temporary storage for odd numbers\n",
      "    \n",
      "    while len(a_list) > 0:    # loop over the given list, while not empty.\n",
      "        el = a_list[0]        # get the first element. \n",
      "        if el % 2 == 1:       # save it in a local list, L, if an odd number.\n",
      "            L.append(el)\n",
      "        del a_list[0]         # remove the element from the input.\n",
      "        \n",
      "    a_list.extend(L)          # expand now empty list with the list with saved odd numbers\n",
      "    \n",
      "# check\n",
      "L = [0, 1, 2, 3, 4]\n",
      "only_odd2(L)\n",
      "print L"
     ],
     "language": "python",
     "metadata": {},
     "outputs": []
    },
    {
     "cell_type": "markdown",
     "metadata": {},
     "source": [
      "Here is another. Looping last-to-first -- this way, we preserve the indices as they are, even we remove some elements."
     ]
    },
    {
     "cell_type": "code",
     "collapsed": false,
     "input": [
      "def only_odd3(a_list):\n",
      "    length = len(a_list)\n",
      "    i = 1\n",
      "    while i <= length:\n",
      "        j = length - i\n",
      "        if a_list[j] % 2 == 0:\n",
      "            del a_list[j]\n",
      "        i += 1\n",
      "\n",
      "# check\n",
      "L = [0, 1, 2, 3, 4]\n",
      "only_odd3(L)\n",
      "print L"
     ],
     "language": "python",
     "metadata": {},
     "outputs": []
    },
    {
     "cell_type": "markdown",
     "metadata": {},
     "source": [
      "In practive, I'd just create a new list with a comprehension."
     ]
    },
    {
     "cell_type": "code",
     "collapsed": false,
     "input": [
      "L = [0, 1, 2, 3, 4]\n",
      "\n",
      "M = [x for x in L if x % 2 == 1]\n",
      "print M"
     ],
     "language": "python",
     "metadata": {},
     "outputs": []
    },
    {
     "cell_type": "markdown",
     "metadata": {},
     "source": [
      "Slice Index\n",
      "-----------\n",
      "\n",
      "Applies to any sequence types, including list, str, tuple, ...\n",
      "\n",
      "Has three (optional) parts separated by a colon (:), start : end : step, indicating start through but not past end, by step; Indices point in-between the elements."
     ]
    },
    {
     "cell_type": "raw",
     "metadata": {},
     "source": [
      "   +\u2212\u2212\u2212+\u2212\u2212\u2212+\u2212\u2212\u2212+\u2212\u2212\u2212+\u2212\u2212\u2212+\u2212\u2212\u2212+ \n",
      "   | p | y | t | h | o | n | \n",
      "   +\u2212\u2212\u2212+\u2212\u2212\u2212+\u2212\u2212\u2212+\u2212\u2212\u2212+\u2212\u2212\u2212+\u2212\u2212\u2212+\n",
      "   0   1   2   3   4   5   6\n",
      "  \u22126  \u22125  \u22124  \u22123  \u22122  \u22121"
     ]
    },
    {
     "cell_type": "markdown",
     "metadata": {},
     "source": [
      "List slicing Examples:"
     ]
    },
    {
     "cell_type": "code",
     "collapsed": false,
     "input": [
      "L = ['p', 'y', 't', 'h', 'o', 'n']\n",
      "print L[:2]                         # first two"
     ],
     "language": "python",
     "metadata": {},
     "outputs": []
    },
    {
     "cell_type": "code",
     "collapsed": false,
     "input": [
      "print L[1:3]"
     ],
     "language": "python",
     "metadata": {},
     "outputs": []
    },
    {
     "cell_type": "code",
     "collapsed": false,
     "input": [
      "print L[0:5:2]"
     ],
     "language": "python",
     "metadata": {},
     "outputs": []
    },
    {
     "cell_type": "code",
     "collapsed": false,
     "input": [
      "print L[-1]                         # the last element"
     ],
     "language": "python",
     "metadata": {},
     "outputs": [
      {
       "output_type": "stream",
       "stream": "stdout",
       "text": [
        "xyz\n"
       ]
      }
     ],
     "prompt_number": 24
    },
    {
     "cell_type": "code",
     "collapsed": false,
     "input": [
      "print L[:]                          # a (shallow) copy"
     ],
     "language": "python",
     "metadata": {},
     "outputs": [
      {
       "output_type": "stream",
       "stream": "stdout",
       "text": [
        "[1, 2, [3, 4], 5, 'xyz']\n"
       ]
      }
     ],
     "prompt_number": 25
    },
    {
     "cell_type": "code",
     "collapsed": false,
     "input": [
      "print L[3:]"
     ],
     "language": "python",
     "metadata": {},
     "outputs": [
      {
       "output_type": "stream",
       "stream": "stdout",
       "text": [
        "[5, 'xyz']\n"
       ]
      }
     ],
     "prompt_number": 26
    },
    {
     "cell_type": "code",
     "collapsed": false,
     "input": [
      "print L[-2:]                        # last two"
     ],
     "language": "python",
     "metadata": {},
     "outputs": [
      {
       "output_type": "stream",
       "stream": "stdout",
       "text": [
        "[5, 'xyz']\n"
       ]
      }
     ],
     "prompt_number": 27
    },
    {
     "cell_type": "code",
     "collapsed": false,
     "input": [
      "print L[::-1]                       # reversed"
     ],
     "language": "python",
     "metadata": {},
     "outputs": [
      {
       "output_type": "stream",
       "stream": "stdout",
       "text": [
        "['xyz', 5, [3, 4], 2, 1]\n"
       ]
      }
     ],
     "prompt_number": 28
    },
    {
     "cell_type": "markdown",
     "metadata": {},
     "source": [
      "Quiz\n",
      "----\n",
      "\n",
      "Suppose that you collect friendship network data among six children, each of whom we identify with a number: 0, 1, ..., 5. The data are represented as a list of lists, where each element list represents the element child's friends."
     ]
    },
    {
     "cell_type": "code",
     "collapsed": false,
     "input": [
      "L = [[1, 2], [0, 2, 3], [0, 1], [1, 4, 5], [3, 5], [3]]"
     ],
     "language": "python",
     "metadata": {},
     "outputs": [],
     "prompt_number": 29
    },
    {
     "cell_type": "markdown",
     "metadata": {},
     "source": [
      "For instance, the kid 0 friends with the kids 1 and 2, since"
     ]
    },
    {
     "cell_type": "code",
     "collapsed": false,
     "input": [
      "L[0] == [1, 2]"
     ],
     "language": "python",
     "metadata": {},
     "outputs": [
      {
       "metadata": {},
       "output_type": "pyout",
       "prompt_number": 30,
       "text": [
        "True"
       ]
      }
     ],
     "prompt_number": 30
    },
    {
     "cell_type": "markdown",
     "metadata": {},
     "source": [
      "Calculate the average number of friends the children have. (Hint: len() function returns the list size.)"
     ]
    },
    {
     "cell_type": "code",
     "collapsed": false,
     "input": [
      "# data again\n",
      "L = [[1, 2], [0, 2, 3], [0, 1], [1, 4, 5], [3, 5], [3]]\n",
      "\n",
      "total = 0.0             # make total a float type\n",
      "\n",
      "for el in L:\n",
      "    total += len(el)\n",
      "    \n",
      "avg = total / len(L)\n",
      "\n",
      "# check\n",
      "print avg"
     ],
     "language": "python",
     "metadata": {},
     "outputs": [
      {
       "output_type": "stream",
       "stream": "stdout",
       "text": [
        "2.16666666667\n"
       ]
      }
     ],
     "prompt_number": 31
    },
    {
     "cell_type": "markdown",
     "metadata": {},
     "source": [
      "With a list comprehension, this can be as simple as:"
     ]
    },
    {
     "cell_type": "code",
     "collapsed": false,
     "input": [
      "print 1.0 * sum([len(x) for x in L]) / len(L)"
     ],
     "language": "python",
     "metadata": {},
     "outputs": [
      {
       "output_type": "stream",
       "stream": "stdout",
       "text": [
        "2.16666666667\n"
       ]
      }
     ],
     "prompt_number": 32
    },
    {
     "cell_type": "markdown",
     "metadata": {},
     "source": [
      "Quiz (cont.)\n",
      "------------\n",
      "\n",
      "Write a function to check if _all_ the friendship choices are reciprocated. It should take a list like previous one and return either True or False. (Hint: You may want to use a utility function below.)"
     ]
    },
    {
     "cell_type": "code",
     "collapsed": false,
     "input": [
      "def mutual(a_list, ego, alter):\n",
      "    return alter in a_list[ego] and ego in a_list[alter]"
     ],
     "language": "python",
     "metadata": {},
     "outputs": [],
     "prompt_number": 33
    },
    {
     "cell_type": "markdown",
     "metadata": {},
     "source": [
      "An answer:"
     ]
    },
    {
     "cell_type": "code",
     "collapsed": false,
     "input": [
      "def all_reciprocated(a_list):\n",
      "    for ego in range(len(L)):\n",
      "        alters = L[ego]\n",
      "        for alter in alters:\n",
      "            if not mutual(a_list, ego, alter):\n",
      "                return False\n",
      "    return True\n",
      "\n",
      "# check\n",
      "L = [[1, 2], [0, 2, 3], [0, 1], [1, 4, 5], [3, 5], [3]]\n",
      "print all_reciprocated(L)"
     ],
     "language": "python",
     "metadata": {},
     "outputs": [
      {
       "output_type": "stream",
       "stream": "stdout",
       "text": [
        "False\n"
       ]
      }
     ],
     "prompt_number": 34
    },
    {
     "cell_type": "code",
     "collapsed": false,
     "input": [
      "# another check\n",
      "L = [[1, 2], [0, 2, 3], [0, 1], [1, 4, 5], [3, 5], [3, 4]]\n",
      "print all_reciprocated(L)"
     ],
     "language": "python",
     "metadata": {},
     "outputs": [
      {
       "output_type": "stream",
       "stream": "stdout",
       "text": [
        "True\n"
       ]
      }
     ],
     "prompt_number": 90
    },
    {
     "cell_type": "markdown",
     "metadata": {},
     "source": [
      "List Comprehension\n",
      "------------------\n",
      "\n",
      "A concise way to create a list. An example:"
     ]
    },
    {
     "cell_type": "code",
     "collapsed": false,
     "input": [
      "L = [x for x in range(5) if x % 2 == 1]\n",
      "print L"
     ],
     "language": "python",
     "metadata": {},
     "outputs": [
      {
       "output_type": "stream",
       "stream": "stdout",
       "text": [
        "[1, 3]\n"
       ]
      }
     ],
     "prompt_number": 36
    },
    {
     "cell_type": "markdown",
     "metadata": {},
     "source": [
      "An equivalent code using the for loop:"
     ]
    },
    {
     "cell_type": "code",
     "collapsed": false,
     "input": [
      "L = []\n",
      "for x in range(5):\n",
      "    if x % 2 == 1:\n",
      "        L.append(x)\n",
      "print L"
     ],
     "language": "python",
     "metadata": {},
     "outputs": [
      {
       "output_type": "stream",
       "stream": "stdout",
       "text": [
        "[1, 3]\n"
       ]
      }
     ],
     "prompt_number": 37
    },
    {
     "cell_type": "markdown",
     "metadata": {},
     "source": [
      "More examples:"
     ]
    },
    {
     "cell_type": "code",
     "collapsed": false,
     "input": [
      "[x - 5 for x in range(6)]"
     ],
     "language": "python",
     "metadata": {},
     "outputs": [
      {
       "metadata": {},
       "output_type": "pyout",
       "prompt_number": 38,
       "text": [
        "[-5, -4, -3, -2, -1, 0]"
       ]
      }
     ],
     "prompt_number": 38
    },
    {
     "cell_type": "code",
     "collapsed": false,
     "input": [
      "[abs(x) for x in [-2,-1,0,1]]"
     ],
     "language": "python",
     "metadata": {},
     "outputs": [
      {
       "metadata": {},
       "output_type": "pyout",
       "prompt_number": 39,
       "text": [
        "[2, 1, 0, 1]"
       ]
      }
     ],
     "prompt_number": 39
    },
    {
     "cell_type": "code",
     "collapsed": false,
     "input": [
      "[x for x in range(6) if x==x**2]"
     ],
     "language": "python",
     "metadata": {},
     "outputs": [
      {
       "metadata": {},
       "output_type": "pyout",
       "prompt_number": 40,
       "text": [
        "[0, 1]"
       ]
      }
     ],
     "prompt_number": 40
    },
    {
     "cell_type": "code",
     "collapsed": false,
     "input": [
      "[1 for x in [87, 999, \"xyz\"]]"
     ],
     "language": "python",
     "metadata": {},
     "outputs": [
      {
       "metadata": {},
       "output_type": "pyout",
       "prompt_number": 41,
       "text": [
        "[1, 1, 1]"
       ]
      }
     ],
     "prompt_number": 41
    },
    {
     "cell_type": "code",
     "collapsed": false,
     "input": [
      "[x - y for x in range(2) for y in [7, 8]]"
     ],
     "language": "python",
     "metadata": {},
     "outputs": [
      {
       "metadata": {},
       "output_type": "pyout",
       "prompt_number": 42,
       "text": [
        "[-7, -8, -6, -7]"
       ]
      }
     ],
     "prompt_number": 42
    },
    {
     "cell_type": "markdown",
     "metadata": {},
     "source": [
      "Dictionary\n",
      "----------\n",
      "\n",
      "A collection of key-value pairs.\n",
      "\n",
      "Indexed by keys.\n",
      "\n",
      "Mutable.\n",
      "\n",
      "Also known as associative array, map, symbol table, ...\n",
      "\n",
      "Usually implemented as a hash table."
     ]
    },
    {
     "cell_type": "markdown",
     "metadata": {},
     "source": [
      "Dictionary\n",
      "----------\n",
      "\n",
      "A collection of key-value pairs, indexed by keys."
     ]
    },
    {
     "cell_type": "code",
     "collapsed": false,
     "input": [
      "D={}                     # an empty dictionary. D=dict() also works\n",
      "\n",
      "D[\"one\"]=1\n",
      "D[\"two\"]=2\n",
      "print D"
     ],
     "language": "python",
     "metadata": {},
     "outputs": [
      {
       "output_type": "stream",
       "stream": "stdout",
       "text": [
        "{'two': 2, 'one': 1}\n"
       ]
      }
     ],
     "prompt_number": 43
    },
    {
     "cell_type": "code",
     "collapsed": false,
     "input": [
      "print D.keys()"
     ],
     "language": "python",
     "metadata": {},
     "outputs": [
      {
       "output_type": "stream",
       "stream": "stdout",
       "text": [
        "['two', 'one']\n"
       ]
      }
     ],
     "prompt_number": 44
    },
    {
     "cell_type": "code",
     "collapsed": false,
     "input": [
      "print \"three\" in D.keys()"
     ],
     "language": "python",
     "metadata": {},
     "outputs": [
      {
       "output_type": "stream",
       "stream": "stdout",
       "text": [
        "False\n"
       ]
      }
     ],
     "prompt_number": 45
    },
    {
     "cell_type": "code",
     "collapsed": false,
     "input": [
      "D = {\"Apple\": 116, \"Big Mac\": 550}\n",
      "\n",
      "for key in [\"Apple\", \"Orange\", \"Big Mac\"]:\n",
      "    if key in D:\n",
      "        print \"{0} has {1} calories\".format(key, D[key])\n",
      "    else:\n",
      "        print \"{0} is not found in the dictionary\".format(key)"
     ],
     "language": "python",
     "metadata": {},
     "outputs": [
      {
       "output_type": "stream",
       "stream": "stdout",
       "text": [
        "Apple has 116 calories\n",
        "Orange is not found in the dictionary\n",
        "Big Mac has 550 calories\n"
       ]
      }
     ],
     "prompt_number": 46
    },
    {
     "cell_type": "markdown",
     "metadata": {},
     "source": [
      "Dictionary\n",
      "----------\n",
      "\n",
      "More Dictionary examples."
     ]
    },
    {
     "cell_type": "code",
     "collapsed": false,
     "input": [
      "D = {\"China\": 1350, \"India\":1221, \"US\":317}\n",
      "\n",
      "for key in D.keys():\n",
      "    print \"Pop of {0}: {1} mil\".format(key, D[key])"
     ],
     "language": "python",
     "metadata": {},
     "outputs": [
      {
       "output_type": "stream",
       "stream": "stdout",
       "text": [
        "Pop of India: 1221 mil\n",
        "Pop of China: 1350 mil\n",
        "Pop of US: 317 mil\n"
       ]
      }
     ],
     "prompt_number": 47
    },
    {
     "cell_type": "code",
     "collapsed": false,
     "input": [
      "D = {[1,2]: 23}"
     ],
     "language": "python",
     "metadata": {},
     "outputs": [
      {
       "ename": "TypeError",
       "evalue": "unhashable type: 'list'",
       "output_type": "pyerr",
       "traceback": [
        "\u001b[0;31m---------------------------------------------------------------------------\u001b[0m\n\u001b[0;31mTypeError\u001b[0m                                 Traceback (most recent call last)",
        "\u001b[0;32m<ipython-input-48-9780a19c2170>\u001b[0m in \u001b[0;36m<module>\u001b[0;34m()\u001b[0m\n\u001b[0;32m----> 1\u001b[0;31m \u001b[0mD\u001b[0m \u001b[0;34m=\u001b[0m \u001b[0;34m{\u001b[0m\u001b[0;34m[\u001b[0m\u001b[0;36m1\u001b[0m\u001b[0;34m,\u001b[0m\u001b[0;36m2\u001b[0m\u001b[0;34m]\u001b[0m\u001b[0;34m:\u001b[0m \u001b[0;36m23\u001b[0m\u001b[0;34m}\u001b[0m\u001b[0;34m\u001b[0m\u001b[0m\n\u001b[0m",
        "\u001b[0;31mTypeError\u001b[0m: unhashable type: 'list'"
       ]
      }
     ],
     "prompt_number": 48
    },
    {
     "cell_type": "code",
     "collapsed": false,
     "input": [
      "D = {2: [2, 3], 200: [3, 4], 95: [4, 5]}\n",
      "print D[2]\n",
      "print D[200]"
     ],
     "language": "python",
     "metadata": {},
     "outputs": [
      {
       "output_type": "stream",
       "stream": "stdout",
       "text": [
        "[2, 3]\n",
        "[3, 4]\n"
       ]
      }
     ],
     "prompt_number": 49
    },
    {
     "cell_type": "markdown",
     "metadata": {},
     "source": [
      "Data Structure\n",
      "--------------\n",
      "\n",
      "SAT has three subsections: Critical Reading, Mathematics, and Writing. A result of taking an SAT exam is three scores."
     ]
    },
    {
     "cell_type": "code",
     "collapsed": false,
     "input": [
      "# data\n",
      "SAT = {\"cr\": 780, \"m\": 790, \"w\": 760}\n",
      "\n",
      "# usage\n",
      "print SAT[\"m\"]"
     ],
     "language": "python",
     "metadata": {},
     "outputs": [
      {
       "output_type": "stream",
       "stream": "stdout",
       "text": [
        "790\n"
       ]
      }
     ],
     "prompt_number": 50
    },
    {
     "cell_type": "markdown",
     "metadata": {},
     "source": [
      "You can take SAT exams more than once."
     ]
    },
    {
     "cell_type": "code",
     "collapsed": false,
     "input": [
      "# data\n",
      "SAT = [{\"cr\": 780, \"m\": 790, \"w\": 760},\n",
      "       {\"cr\": 800, \"m\": 740, \"w\": 790}]\n",
      "\n",
      "# usage\n",
      "print SAT[0]"
     ],
     "language": "python",
     "metadata": {},
     "outputs": [
      {
       "output_type": "stream",
       "stream": "stdout",
       "text": [
        "{'cr': 780, 'm': 790, 'w': 760}\n"
       ]
      }
     ],
     "prompt_number": 51
    },
    {
     "cell_type": "code",
     "collapsed": false,
     "input": [
      "print SAT[0][\"cr\"]"
     ],
     "language": "python",
     "metadata": {},
     "outputs": [
      {
       "output_type": "stream",
       "stream": "stdout",
       "text": [
        "780\n"
       ]
      }
     ],
     "prompt_number": 52
    },
    {
     "cell_type": "markdown",
     "metadata": {},
     "source": [
      "More Complicated Data Structure\n",
      "-------------------------------\n",
      "\n",
      "Hypothetical SAT data for two people: Jane and Mary"
     ]
    },
    {
     "cell_type": "code",
     "collapsed": false,
     "input": [
      "# data\n",
      "SAT = {\"Jane\": {\"lastname\" : \"Thompson\",\n",
      "                \"test\": [{\"cr\": 700, \"m\": 690, \"w\":710}] },\n",
      "       \"Mary\": {\"lastname\" : \"Smith\",\n",
      "                \"test\": [{\"cr\": 780, \"m\": 790, \"w\": 760},\n",
      "                         {\"cr\": 800, \"m\": 740, \"w\": 790}] } }\n",
      "\n",
      "# usage\n",
      "print SAT[\"Jane\"]"
     ],
     "language": "python",
     "metadata": {},
     "outputs": [
      {
       "output_type": "stream",
       "stream": "stdout",
       "text": [
        "{'test': [{'cr': 700, 'm': 690, 'w': 710}], 'lastname': 'Thompson'}\n"
       ]
      }
     ],
     "prompt_number": 53
    },
    {
     "cell_type": "code",
     "collapsed": false,
     "input": [
      "print SAT[\"Jane\"][\"lastname\"]"
     ],
     "language": "python",
     "metadata": {},
     "outputs": [
      {
       "output_type": "stream",
       "stream": "stdout",
       "text": [
        "Thompson\n"
       ]
      }
     ],
     "prompt_number": 54
    },
    {
     "cell_type": "code",
     "collapsed": false,
     "input": [
      "print SAT[\"Jane\"][\"test\"]"
     ],
     "language": "python",
     "metadata": {},
     "outputs": [
      {
       "output_type": "stream",
       "stream": "stdout",
       "text": [
        "[{'cr': 700, 'm': 690, 'w': 710}]\n"
       ]
      }
     ],
     "prompt_number": 55
    },
    {
     "cell_type": "code",
     "collapsed": false,
     "input": [
      "print SAT[\"Jane\"][\"test\"][0]"
     ],
     "language": "python",
     "metadata": {},
     "outputs": [
      {
       "output_type": "stream",
       "stream": "stdout",
       "text": [
        "{'cr': 700, 'm': 690, 'w': 710}\n"
       ]
      }
     ],
     "prompt_number": 56
    },
    {
     "cell_type": "code",
     "collapsed": false,
     "input": [
      "print SAT[\"Jane\"][\"test\"][0][\"cr\"]"
     ],
     "language": "python",
     "metadata": {},
     "outputs": [
      {
       "output_type": "stream",
       "stream": "stdout",
       "text": [
        "700\n"
       ]
      }
     ],
     "prompt_number": 57
    },
    {
     "cell_type": "code",
     "collapsed": false,
     "input": [
      "mary1 = SAT[\"Mary\"][\"test\"][1]\n",
      "print mary1[\"cr\"]"
     ],
     "language": "python",
     "metadata": {},
     "outputs": [
      {
       "output_type": "stream",
       "stream": "stdout",
       "text": [
        "800\n"
       ]
      }
     ],
     "prompt_number": 58
    },
    {
     "cell_type": "markdown",
     "metadata": {},
     "source": [
      "Quiz\n",
      "----\n",
      "\n",
      "Make a dictionary of 2012 SAT percentile ranks for the scores from 660 to 700 and for all three subsections. The full table is available at [http://tinyurl.com/k38xve8](http://tinyurl.com/k38xve8).\n",
      "\n",
      "Given this dictionary, say D, a lookup, D[660][\"cr\"] should be evaluated to 91."
     ]
    },
    {
     "cell_type": "markdown",
     "metadata": {},
     "source": [
      "An answer:"
     ]
    },
    {
     "cell_type": "code",
     "collapsed": false,
     "input": [
      "D = {700: {\"cr\": 95, \"m\": 93, \"w\": 96}, \n",
      "     690: {\"cr\": 94, \"m\": 92, \"w\": 95}, \n",
      "     680: {\"cr\": 93, \"m\": 90, \"w\": 94}, \n",
      "     670: {\"cr\": 92, \"m\": 89, \"w\": 93}, \n",
      "     660: {\"cr\": 91, \"m\": 87, \"w\": 92}}\n",
      "\n",
      "# check\n",
      "print D[660][\"cr\"]"
     ],
     "language": "python",
     "metadata": {},
     "outputs": [
      {
       "output_type": "stream",
       "stream": "stdout",
       "text": [
        "91\n"
       ]
      }
     ],
     "prompt_number": 59
    },
    {
     "cell_type": "markdown",
     "metadata": {},
     "source": [
      "Quiz (cont.)\n",
      "------------\n",
      "\n",
      "Write a new dictionary DD such that we look up the subsection first and then the score. That is, DD[\"cr\"][660] should be evaluated to 91. (Hint: Start with a dictionary below.)"
     ]
    },
    {
     "cell_type": "code",
     "collapsed": false,
     "input": [
      "DD = {\"cr\": {}, \"m\": {}, \"w\": {}}"
     ],
     "language": "python",
     "metadata": {},
     "outputs": [],
     "prompt_number": 60
    },
    {
     "cell_type": "code",
     "collapsed": false,
     "input": [
      "for score in D:\n",
      "    subjects = D[score]        # subjects itself is a dictionary\n",
      "    for subject in subjects: \n",
      "        DD[subject][score] = subjects[subject]\n",
      "\n",
      "# check        \n",
      "print DD[\"cr\"][660]    "
     ],
     "language": "python",
     "metadata": {},
     "outputs": [
      {
       "output_type": "stream",
       "stream": "stdout",
       "text": [
        "91\n"
       ]
      }
     ],
     "prompt_number": 61
    },
    {
     "cell_type": "markdown",
     "metadata": {},
     "source": [
      "Tuples\n",
      "------\n",
      "\n",
      "A sequence of values separated by commas.\n",
      "\n",
      "Immutable.\n",
      "\n",
      "Often automatically _unpacked_."
     ]
    },
    {
     "cell_type": "markdown",
     "metadata": {},
     "source": [
      "Tuples\n",
      "------\n",
      "\n",
      "A sequence of values separated by commas. Immutable."
     ]
    },
    {
     "cell_type": "code",
     "collapsed": false,
     "input": [
      "T = tuple()                     # empty tuple. T = () works also.\n",
      "N = (1)                         # not a tuple\n",
      "T = (1, 2, \"abc\")               # a tuple (1, 2, \"abc\")\n",
      "print T[0]"
     ],
     "language": "python",
     "metadata": {},
     "outputs": [
      {
       "output_type": "stream",
       "stream": "stdout",
       "text": [
        "1\n"
       ]
      }
     ],
     "prompt_number": 62
    },
    {
     "cell_type": "code",
     "collapsed": false,
     "input": [
      "T[0] = 9                        # immutable"
     ],
     "language": "python",
     "metadata": {},
     "outputs": [
      {
       "ename": "TypeError",
       "evalue": "'tuple' object does not support item assignment",
       "output_type": "pyerr",
       "traceback": [
        "\u001b[0;31m---------------------------------------------------------------------------\u001b[0m\n\u001b[0;31mTypeError\u001b[0m                                 Traceback (most recent call last)",
        "\u001b[0;32m<ipython-input-63-ab4fa4356843>\u001b[0m in \u001b[0;36m<module>\u001b[0;34m()\u001b[0m\n\u001b[0;32m----> 1\u001b[0;31m \u001b[0mT\u001b[0m\u001b[0;34m[\u001b[0m\u001b[0;36m0\u001b[0m\u001b[0;34m]\u001b[0m \u001b[0;34m=\u001b[0m \u001b[0;36m9\u001b[0m                        \u001b[0;31m# immutable\u001b[0m\u001b[0;34m\u001b[0m\u001b[0m\n\u001b[0m",
        "\u001b[0;31mTypeError\u001b[0m: 'tuple' object does not support item assignment"
       ]
      }
     ],
     "prompt_number": 63
    },
    {
     "cell_type": "markdown",
     "metadata": {},
     "source": [
      "Often automatically unpacked."
     ]
    },
    {
     "cell_type": "code",
     "collapsed": false,
     "input": [
      "T = (2, 3)\n",
      "a, b = T\n",
      "print a, b"
     ],
     "language": "python",
     "metadata": {},
     "outputs": [
      {
       "output_type": "stream",
       "stream": "stdout",
       "text": [
        "2 3\n"
       ]
      }
     ],
     "prompt_number": 64
    },
    {
     "cell_type": "code",
     "collapsed": false,
     "input": [
      "a, b = b, a                     # swap\n",
      "print a, b"
     ],
     "language": "python",
     "metadata": {},
     "outputs": [
      {
       "output_type": "stream",
       "stream": "stdout",
       "text": [
        "3 2\n"
       ]
      }
     ],
     "prompt_number": 65
    },
    {
     "cell_type": "code",
     "collapsed": false,
     "input": [
      "D = {\"x\": 23, \"y\": 46}\n",
      "D.items()                       # returns a list of tuples (key,value)"
     ],
     "language": "python",
     "metadata": {},
     "outputs": [
      {
       "metadata": {},
       "output_type": "pyout",
       "prompt_number": 66,
       "text": [
        "[('y', 46), ('x', 23)]"
       ]
      }
     ],
     "prompt_number": 66
    },
    {
     "cell_type": "code",
     "collapsed": false,
     "input": [
      "for k, v in D.items():\n",
      "    print \"%s ==> %d\" % (k, v)"
     ],
     "language": "python",
     "metadata": {},
     "outputs": [
      {
       "output_type": "stream",
       "stream": "stdout",
       "text": [
        "y ==> 46\n",
        "x ==> 23\n"
       ]
      }
     ],
     "prompt_number": 67
    },
    {
     "cell_type": "markdown",
     "metadata": {},
     "source": [
      "Class\n",
      "-----\n",
      "\n",
      "Class defines a (user-defined) type, a grouping of some data (properties) and functions that work on the data (methods).\n",
      "\n",
      "An object is an _instance_ of a type.\n",
      "\n",
      "Examples:\n",
      "\n",
      "* int is a type; 23 is an object.\n",
      "* str a type; \"abc\" an object.\n",
      "* \"word document file\" a type; \"my_diary.docx\" is an object.\n",
      "* We have been using objects."
     ]
    },
    {
     "cell_type": "markdown",
     "metadata": {},
     "source": [
      "Examples of Built-in Types\n",
      "--------------------------\n",
      "\n",
      "str type has a bunch of methods."
     ]
    },
    {
     "cell_type": "code",
     "collapsed": false,
     "input": [
      "\"abc\".upper()"
     ],
     "language": "python",
     "metadata": {},
     "outputs": [
      {
       "metadata": {},
       "output_type": "pyout",
       "prompt_number": 68,
       "text": [
        "'ABC'"
       ]
      }
     ],
     "prompt_number": 68
    },
    {
     "cell_type": "code",
     "collapsed": false,
     "input": [
      "\"abc\".find(\"c\")"
     ],
     "language": "python",
     "metadata": {},
     "outputs": [
      {
       "metadata": {},
       "output_type": "pyout",
       "prompt_number": 69,
       "text": [
        "2"
       ]
      }
     ],
     "prompt_number": 69
    },
    {
     "cell_type": "code",
     "collapsed": false,
     "input": [
      "\"abc\".split(\"b\")"
     ],
     "language": "python",
     "metadata": {},
     "outputs": [
      {
       "metadata": {},
       "output_type": "pyout",
       "prompt_number": 70,
       "text": [
        "['a', 'c']"
       ]
      }
     ],
     "prompt_number": 70
    },
    {
     "cell_type": "markdown",
     "metadata": {},
     "source": [
      "open() function returns a file object (representing an opened file)."
     ]
    },
    {
     "cell_type": "code",
     "collapsed": false,
     "input": [
      "with open(\"code/test.txt\", \"w\") as my_file:\n",
      "    my_file.write(\"first line\\n\")\n",
      "    my_file.write(\"second line\\n\")\n",
      "    my_file.write(\"third line\")\n",
      "    \n",
      "    print type(my_file)"
     ],
     "language": "python",
     "metadata": {},
     "outputs": [
      {
       "output_type": "stream",
       "stream": "stdout",
       "text": [
        "<type 'file'>\n"
       ]
      }
     ],
     "prompt_number": 71
    },
    {
     "cell_type": "code",
     "collapsed": false,
     "input": [
      "    print dir(my_file)              # properties and methods"
     ],
     "language": "python",
     "metadata": {},
     "outputs": [
      {
       "output_type": "stream",
       "stream": "stdout",
       "text": [
        "['__class__', '__delattr__', '__doc__', '__enter__', '__exit__', '__format__', '__getattribute__', '__hash__', '__init__', '__iter__', '__new__', '__reduce__', '__reduce_ex__', '__repr__', '__setattr__', '__sizeof__', '__str__', '__subclasshook__', 'close', 'closed', 'encoding', 'errors', 'fileno', 'flush', 'isatty', 'mode', 'name', 'newlines', 'next', 'read', 'readinto', 'readline', 'readlines', 'seek', 'softspace', 'tell', 'truncate', 'write', 'writelines', 'xreadlines']\n"
       ]
      }
     ],
     "prompt_number": 72
    },
    {
     "cell_type": "code",
     "collapsed": false,
     "input": [
      "my_file.write(\"something\")"
     ],
     "language": "python",
     "metadata": {},
     "outputs": [
      {
       "ename": "ValueError",
       "evalue": "I/O operation on closed file",
       "output_type": "pyerr",
       "traceback": [
        "\u001b[0;31m---------------------------------------------------------------------------\u001b[0m\n\u001b[0;31mValueError\u001b[0m                                Traceback (most recent call last)",
        "\u001b[0;32m<ipython-input-73-96ad60f0421c>\u001b[0m in \u001b[0;36m<module>\u001b[0;34m()\u001b[0m\n\u001b[0;32m----> 1\u001b[0;31m \u001b[0mmy_file\u001b[0m\u001b[0;34m.\u001b[0m\u001b[0mwrite\u001b[0m\u001b[0;34m(\u001b[0m\u001b[0;34m\"something\"\u001b[0m\u001b[0;34m)\u001b[0m\u001b[0;34m\u001b[0m\u001b[0m\n\u001b[0m",
        "\u001b[0;31mValueError\u001b[0m: I/O operation on closed file"
       ]
      }
     ],
     "prompt_number": 73
    },
    {
     "cell_type": "markdown",
     "metadata": {},
     "source": [
      "Class\n",
      "-----\n",
      "\n",
      "Let's create a bank account type."
     ]
    },
    {
     "cell_type": "code",
     "collapsed": false,
     "input": [
      "class BankAccount:\n",
      "    \n",
      "    def __init__(self, initial_balance=0):\n",
      "        self.balance = initial_balance\n",
      "        \n",
      "    def deposit(self, amount): \n",
      "        self.balance += amount\n",
      "        \n",
      "    def withdraw(self, amount): \n",
      "        self.balance -= amount"
     ],
     "language": "python",
     "metadata": {},
     "outputs": [],
     "prompt_number": 74
    },
    {
     "cell_type": "markdown",
     "metadata": {},
     "source": [
      "Usage examples."
     ]
    },
    {
     "cell_type": "code",
     "collapsed": false,
     "input": [
      "my_account = BankAccount(100)\n",
      "my_account.withdraw(5)\n",
      "print my_account.balance"
     ],
     "language": "python",
     "metadata": {},
     "outputs": [
      {
       "output_type": "stream",
       "stream": "stdout",
       "text": [
        "95\n"
       ]
      }
     ],
     "prompt_number": 75
    },
    {
     "cell_type": "code",
     "collapsed": false,
     "input": [
      "your_account = BankAccount()\n",
      "your_account.deposit(100)\n",
      "your_account.deposit(10)\n",
      "print your_account.balance"
     ],
     "language": "python",
     "metadata": {},
     "outputs": [
      {
       "output_type": "stream",
       "stream": "stdout",
       "text": [
        "110\n"
       ]
      }
     ],
     "prompt_number": 76
    },
    {
     "cell_type": "markdown",
     "metadata": {},
     "source": [
      "Quiz\n",
      "----\n",
      "\n",
      "Implement a Person type (or class) which has three properties (first_name, last_name, and birth_year); and two methods: full_name() and age(). The age() method should take the current year as an argument. You may use the template below."
     ]
    },
    {
     "cell_type": "code",
     "collapsed": false,
     "input": [
      "class Person:\n",
      "    \n",
      "    def __init__(self, first_name, last_name, birth_year):\n",
      "        pass\n",
      "    \n",
      "    def full_name(self):\n",
      "        pass\n",
      "    \n",
      "    def age(self, current_year):\n",
      "        pass"
     ],
     "language": "python",
     "metadata": {},
     "outputs": [],
     "prompt_number": 77
    },
    {
     "cell_type": "markdown",
     "metadata": {},
     "source": [
      "An answer."
     ]
    },
    {
     "cell_type": "code",
     "collapsed": false,
     "input": [
      "class Person:\n",
      "    \n",
      "    def __init__(self, first_name, last_name, birth_year):\n",
      "        self.first_name = first_name\n",
      "        self.last_name = last_name\n",
      "        self.birth_year = birth_year\n",
      "        \n",
      "    def full_name(self):\n",
      "        return self.first_name + \" \" + self.last_name\n",
      "    \n",
      "    def age(self, current_year):\n",
      "        return current_year - self.birth_year\n",
      "    \n",
      "# check\n",
      "mr_park = Person(\"jae-sang\", \"Park\", 1977)\n",
      "print mr_park.full_name()"
     ],
     "language": "python",
     "metadata": {},
     "outputs": [
      {
       "output_type": "stream",
       "stream": "stdout",
       "text": [
        "jae-sang Park\n"
       ]
      }
     ],
     "prompt_number": 78
    },
    {
     "cell_type": "code",
     "collapsed": false,
     "input": [
      "print mr_park.age(2014)"
     ],
     "language": "python",
     "metadata": {},
     "outputs": [
      {
       "output_type": "stream",
       "stream": "stdout",
       "text": [
        "37\n"
       ]
      }
     ],
     "prompt_number": 79
    },
    {
     "cell_type": "markdown",
     "metadata": {},
     "source": [
      "Inheritance\n",
      "-----------\n",
      "\n",
      "A subtype is more specialized basetype."
     ]
    },
    {
     "cell_type": "code",
     "collapsed": false,
     "input": [
      "import webbrowser\n",
      "\n",
      "class CoolPerson(Person):\n",
      "    \n",
      "    def __init__(self, name, birth_year, video):\n",
      "        Person.__init__(self, name, None, birth_year)\n",
      "        self.video = video\n",
      "        \n",
      "    def full_name(self):\n",
      "        return self.first_name\n",
      "    \n",
      "    def show_off(self):\n",
      "        url = \"http://www.youtube.com/watch?v={0}\"\n",
      "        webbrowser.open(url.format(self.video))\n",
      "        \n",
      "# check\n",
      "psy = CoolPerson(\"PSY\", 1977, \"9bZkp7q19f0\")\n",
      "print psy.full_name()"
     ],
     "language": "python",
     "metadata": {},
     "outputs": [
      {
       "output_type": "stream",
       "stream": "stdout",
       "text": [
        "PSY\n"
       ]
      }
     ],
     "prompt_number": 80
    },
    {
     "cell_type": "code",
     "collapsed": false,
     "input": [
      "print psy.age(2012)"
     ],
     "language": "python",
     "metadata": {},
     "outputs": [
      {
       "output_type": "stream",
       "stream": "stdout",
       "text": [
        "35\n"
       ]
      }
     ],
     "prompt_number": 81
    },
    {
     "cell_type": "code",
     "collapsed": false,
     "input": [
      "# uncomment the line below and run (Shift+Enter) to see the style. \n",
      "# psy.show_off()"
     ],
     "language": "python",
     "metadata": {},
     "outputs": [],
     "prompt_number": 82
    },
    {
     "cell_type": "markdown",
     "metadata": {},
     "source": [
      "Exception Handling\n",
      "------------------\n",
      "\n",
      "An exception is raised when a (run-time) error occurs. By default, the script stops running immediately."
     ]
    },
    {
     "cell_type": "code",
     "collapsed": false,
     "input": [
      "L = [0, 1, 2, 3]\n",
      "print L[5]"
     ],
     "language": "python",
     "metadata": {},
     "outputs": [
      {
       "ename": "IndexError",
       "evalue": "list index out of range",
       "output_type": "pyerr",
       "traceback": [
        "\u001b[0;31m---------------------------------------------------------------------------\u001b[0m\n\u001b[0;31mIndexError\u001b[0m                                Traceback (most recent call last)",
        "\u001b[0;32m<ipython-input-83-e16850a3f0c2>\u001b[0m in \u001b[0;36m<module>\u001b[0;34m()\u001b[0m\n\u001b[1;32m      1\u001b[0m \u001b[0mL\u001b[0m \u001b[0;34m=\u001b[0m \u001b[0;34m[\u001b[0m\u001b[0;36m0\u001b[0m\u001b[0;34m,\u001b[0m \u001b[0;36m1\u001b[0m\u001b[0;34m,\u001b[0m \u001b[0;36m2\u001b[0m\u001b[0;34m,\u001b[0m \u001b[0;36m3\u001b[0m\u001b[0;34m]\u001b[0m\u001b[0;34m\u001b[0m\u001b[0m\n\u001b[0;32m----> 2\u001b[0;31m \u001b[0;32mprint\u001b[0m \u001b[0mL\u001b[0m\u001b[0;34m[\u001b[0m\u001b[0;36m5\u001b[0m\u001b[0;34m]\u001b[0m\u001b[0;34m\u001b[0m\u001b[0m\n\u001b[0m",
        "\u001b[0;31mIndexError\u001b[0m: list index out of range"
       ]
      }
     ],
     "prompt_number": 83
    },
    {
     "cell_type": "markdown",
     "metadata": {},
     "source": [
      "try: ... except: ... let us catch the exception and handle it."
     ]
    },
    {
     "cell_type": "code",
     "collapsed": false,
     "input": [
      "L = [0, 1, 2, 3]\n",
      "\n",
      "try:\n",
      "    print L[5]\n",
      "    \n",
      "except IndexError:\n",
      "    print \"no such element\"\n",
      "    \n",
      "print \"next\""
     ],
     "language": "python",
     "metadata": {},
     "outputs": [
      {
       "output_type": "stream",
       "stream": "stdout",
       "text": [
        "no such element\n",
        "next\n"
       ]
      }
     ],
     "prompt_number": 84
    },
    {
     "cell_type": "markdown",
     "metadata": {},
     "source": [
      "Throwing Exception\n",
      "------------------\n",
      "\n",
      "We can raise (or throw) an exception as well."
     ]
    },
    {
     "cell_type": "code",
     "collapsed": false,
     "input": [
      "def fetch(a_list, index):\n",
      "    if index >= len(a_list):\n",
      "        raise IndexError(\"Uh, oh!\")\n",
      "    return a_list[index]\n",
      "\n",
      "# check\n",
      "print fetch(L, 5)"
     ],
     "language": "python",
     "metadata": {},
     "outputs": [
      {
       "ename": "IndexError",
       "evalue": "Uh, oh!",
       "output_type": "pyerr",
       "traceback": [
        "\u001b[0;31m---------------------------------------------------------------------------\u001b[0m\n\u001b[0;31mIndexError\u001b[0m                                Traceback (most recent call last)",
        "\u001b[0;32m<ipython-input-85-bb07decdad02>\u001b[0m in \u001b[0;36m<module>\u001b[0;34m()\u001b[0m\n\u001b[1;32m      5\u001b[0m \u001b[0;34m\u001b[0m\u001b[0m\n\u001b[1;32m      6\u001b[0m \u001b[0;31m# check\u001b[0m\u001b[0;34m\u001b[0m\u001b[0;34m\u001b[0m\u001b[0m\n\u001b[0;32m----> 7\u001b[0;31m \u001b[0;32mprint\u001b[0m \u001b[0mfetch\u001b[0m\u001b[0;34m(\u001b[0m\u001b[0mL\u001b[0m\u001b[0;34m,\u001b[0m \u001b[0;36m5\u001b[0m\u001b[0;34m)\u001b[0m\u001b[0;34m\u001b[0m\u001b[0m\n\u001b[0m",
        "\u001b[0;32m<ipython-input-85-bb07decdad02>\u001b[0m in \u001b[0;36mfetch\u001b[0;34m(a_list, index)\u001b[0m\n\u001b[1;32m      1\u001b[0m \u001b[0;32mdef\u001b[0m \u001b[0mfetch\u001b[0m\u001b[0;34m(\u001b[0m\u001b[0ma_list\u001b[0m\u001b[0;34m,\u001b[0m \u001b[0mindex\u001b[0m\u001b[0;34m)\u001b[0m\u001b[0;34m:\u001b[0m\u001b[0;34m\u001b[0m\u001b[0m\n\u001b[1;32m      2\u001b[0m     \u001b[0;32mif\u001b[0m \u001b[0mindex\u001b[0m \u001b[0;34m>=\u001b[0m \u001b[0mlen\u001b[0m\u001b[0;34m(\u001b[0m\u001b[0ma_list\u001b[0m\u001b[0;34m)\u001b[0m\u001b[0;34m:\u001b[0m\u001b[0;34m\u001b[0m\u001b[0m\n\u001b[0;32m----> 3\u001b[0;31m         \u001b[0;32mraise\u001b[0m \u001b[0mIndexError\u001b[0m\u001b[0;34m(\u001b[0m\u001b[0;34m\"Uh, oh!\"\u001b[0m\u001b[0;34m)\u001b[0m\u001b[0;34m\u001b[0m\u001b[0m\n\u001b[0m\u001b[1;32m      4\u001b[0m     \u001b[0;32mreturn\u001b[0m \u001b[0ma_list\u001b[0m\u001b[0;34m[\u001b[0m\u001b[0mindex\u001b[0m\u001b[0;34m]\u001b[0m\u001b[0;34m\u001b[0m\u001b[0m\n\u001b[1;32m      5\u001b[0m \u001b[0;34m\u001b[0m\u001b[0m\n",
        "\u001b[0;31mIndexError\u001b[0m: Uh, oh!"
       ]
      }
     ],
     "prompt_number": 85
    },
    {
     "cell_type": "markdown",
     "metadata": {},
     "source": [
      "Script can keep going if you catch and handle the exception."
     ]
    },
    {
     "cell_type": "code",
     "collapsed": false,
     "input": [
      "L = [0, 1, 2, 3]\n",
      "\n",
      "try:\n",
      "    print fetch(L, 5)\n",
      "    \n",
      "except IndexError:\n",
      "    print \"an exception occurred\"\n",
      "    \n",
      "print \"next\""
     ],
     "language": "python",
     "metadata": {},
     "outputs": [
      {
       "output_type": "stream",
       "stream": "stdout",
       "text": [
        "an exception occurred\n",
        "next\n"
       ]
      }
     ],
     "prompt_number": 86
    },
    {
     "cell_type": "markdown",
     "metadata": {},
     "source": [
      "An Example"
     ]
    },
    {
     "cell_type": "markdown",
     "metadata": {},
     "source": [
      "ulropen() in urllib2 module raises an exception when the web page is not found."
     ]
    },
    {
     "cell_type": "code",
     "collapsed": false,
     "input": [
      "import urllib2\n",
      "\n",
      "L = [\"http://google.com\",\n",
      "     \"http://google.com/somethingfantastic\",\n",
      "     \"http://yahoo.com\"]\n",
      "\n",
      "# we want to open each page in turn\n",
      "for url in L:\n",
      "    try:\n",
      "        page = urllib2.urlopen(url)\n",
      "        print page.getcode()\n",
      "    \n",
      "    except:\n",
      "        print \"failed to open: {0}\".format(url)"
     ],
     "language": "python",
     "metadata": {},
     "outputs": [
      {
       "output_type": "stream",
       "stream": "stdout",
       "text": [
        "200\n",
        "failed to open: http://google.com/somethingfantastic"
       ]
      },
      {
       "output_type": "stream",
       "stream": "stdout",
       "text": [
        "\n",
        "200"
       ]
      },
      {
       "output_type": "stream",
       "stream": "stdout",
       "text": [
        "\n"
       ]
      }
     ],
     "prompt_number": 87
    },
    {
     "cell_type": "markdown",
     "metadata": {},
     "source": [
      "A Data Structure Usage Example\n",
      "------------------------------\n",
      "\n",
      "STAN([http://mc-stan.org](http://mc-stan.org)) is a C++ library / language implementing Markov chain Monte Carlo sampling (NUTS, HMC).\n",
      "\n",
      "STAN provides three interfaces (or API's): R, Python, and shell\n",
      "\n",
      "This is an example of using the Python API, which is provided in a Python module, PyStan<cite cite-data=\"STANSite\">[1]</cite>.\n",
      "\n",
      "In order to run this, you need to install: Cython ([http://cython.org](http://cython.org)), NumPy([http://www.numpy.org](http://www.numpy.org)), and STAN itself.\n",
      "\n",
      "From PyStan doc ([http://tinyurl.com/olap8sx](http://tinyurl.com/olap8sx), fiting the eight school model in Gelman et al.<cite cite-data=\"GelmanEtAl2003\">[2, sec 5.5]</cite>"
     ]
    },
    {
     "cell_type": "markdown",
     "metadata": {},
     "source": [
      "Data Structure Usage Example (cont.)\n",
      "------------------------------------\n",
      "\n",
      "Import PyStan module and put STAN code in a string."
     ]
    },
    {
     "cell_type": "code",
     "collapsed": false,
     "input": [
      "import pystan\n",
      "import matplotlib\n",
      "\n",
      "schools_code = \"\"\"\n",
      "data {\n",
      "    int<lower=0> J; // number of schools\n",
      "    real y[J]; // estimated treatment effects\n",
      "    real<lower=0> sigma[J]; // s.e. of effect estimates\n",
      "}\n",
      "parameters {\n",
      "    real mu;\n",
      "    real<lower=0> tau;\n",
      "    real eta[J];\n",
      "}\n",
      "transformed parameters {\n",
      "    real theta[J];\n",
      "    for (j in 1:J)\n",
      "    theta[j] <- mu + tau * eta[j];\n",
      "}\n",
      "model {\n",
      "    eta ~ normal(0, 1);\n",
      "    y ~ normal(theta, sigma);\n",
      "}\n",
      "\"\"\""
     ],
     "language": "python",
     "metadata": {},
     "outputs": [],
     "prompt_number": 88
    },
    {
     "cell_type": "markdown",
     "metadata": {},
     "source": [
      "Data Structure Usage Example (cont.)\n",
      "------------------------------------\n",
      "\n",
      "Cont."
     ]
    },
    {
     "cell_type": "code",
     "collapsed": false,
     "input": [
      "schools_dat = {'J': 8,\n",
      "               'y': [28,  8, -3,  7, -1,  1, 18, 12],\n",
      "               'sigma': [15, 10, 16, 11,  9, 11, 10, 18]}\n",
      "\n",
      "# this will take some time to run!\n",
      "fit = pystan.stan(model_code=schools_code, \n",
      "                  data=schools_dat, iter=1000, chains=4)\n",
      "\n",
      "la = fit.extract(permuted=True)\n",
      "mu = la['mu']\n",
      "# do something with mu here\n",
      "\n",
      "print str(fit)           # (nicely) print fit object\n",
      "\n",
      "%matplotlib inline\n",
      "fit.plot()               # requires matplotlib"
     ],
     "language": "python",
     "metadata": {},
     "outputs": [
      {
       "output_type": "stream",
       "stream": "stderr",
       "text": [
        "INFO:pystan:COMPILING THE C++ CODE FOR MODEL anon_model NOW.\n"
       ]
      },
      {
       "output_type": "stream",
       "stream": "stdout",
       "text": [
        "Inference for Stan model: anon_model.\n",
        "4 chains, each with iter=1000; warmup=500; thin=1; \n",
        "post-warmup draws per chain=500, total post-warmup draws=2000.\n",
        "\n",
        "         mean se_mean   sd 2.5%  25%  50%  75% 97.5% n_eff Rhat\n",
        "mu        8.1     0.2  5.0 -1.7  4.8  8.0 11.4  18.1 508.0  1.0\n",
        "tau       6.5     0.3  5.4  0.3  2.6  5.2  8.8  19.8 360.0  1.0\n",
        "eta[0]    0.3     0.0  0.9 -1.6 -0.3  0.4  1.0   2.2 573.0  1.0\n",
        "eta[1]    0.0     0.0  0.9 -1.7 -0.6  0.0  0.6   1.7 569.0  1.0\n",
        "eta[2]   -0.2     0.0  0.9 -2.0 -0.8 -0.2  0.4   1.7 617.0  1.0\n",
        "eta[3]   -0.0     0.0  0.9 -1.8 -0.6 -0.0  0.5   1.7 609.0  1.0\n",
        "eta[4]   -0.4     0.0  0.9 -2.0 -1.0 -0.4  0.2   1.4 527.0  1.0\n",
        "eta[5]   -0.2     0.0  0.9 -2.0 -0.8 -0.2  0.4   1.5 582.0  1.0\n",
        "eta[6]    0.3     0.0  0.9 -1.4 -0.3  0.3  0.9   2.0 569.0  1.0\n",
        "eta[7]    0.0     0.0  0.9 -1.9 -0.6  0.0  0.7   1.8 588.0  1.0\n",
        "theta[0] 11.2     0.3  8.4 -2.6  5.9 10.0 15.4  32.1 578.0  1.0\n",
        "theta[1]  8.0     0.3  6.3 -4.5  4.0  8.2 11.9  21.2 632.0  1.0\n",
        "theta[2]  6.3     0.3  7.7-10.7  2.2  6.7 10.8  20.7 608.0  1.0\n",
        "theta[3]  7.7     0.3  6.8 -5.9  3.7  7.6 11.7  22.0 643.0  1.0\n",
        "theta[4]  5.2     0.3  6.3 -8.6  1.5  5.6  9.5  16.2 610.0  1.0\n",
        "theta[5]  6.3     0.3  6.6 -8.0  2.5  6.6 10.6  18.9 660.0  1.0\n",
        "theta[6] 10.5     0.3  7.0 -1.9  5.8 10.0 14.4  26.1 582.0  1.0\n",
        "theta[7]  8.4     0.3  8.2 -8.3  3.6  8.2 12.8  26.2 558.0  1.0\n",
        "lp__     -4.9     0.1  2.6-10.3 -6.4 -4.7 -3.0  -0.3 318.0  1.0\n",
        "\n",
        "Samples were drawn using NUTS(diag_e) at Thu Jan 16 17:22:26 2014.\n",
        "For each parameter, n_eff is a crude measure of effective sample size,\n",
        "and Rhat is the potential scale reduction factor on split chains (at \n",
        "convergence, Rhat=1).\n"
       ]
      },
      {
       "output_type": "stream",
       "stream": "stderr",
       "text": [
        "INFO:pystan:NOW ON CHAIN 1\n",
        "INFO:pystan:NOW ON CHAIN 0\n",
        "INFO:pystan:NOW ON CHAIN 2\n",
        "INFO:pystan:NOW ON CHAIN 3\n"
       ]
      },
      {
       "metadata": {},
       "output_type": "pyout",
       "png": "[encoded data removed]",
       "prompt_number": 91,
       "text": [
        "<matplotlib.figure.Figure at 0x10c28ee50>"
       ]
      },
      {
       "metadata": {},
       "output_type": "display_data",
       "png": "[encoded data removed]",
       "text": [
        "<matplotlib.figure.Figure at 0x10c28ee50>"
       ]
      }
     ],
     "prompt_number": 91
    },
    {
     "cell_type": "markdown",
     "metadata": {},
     "source": [
      "Notice that:\n",
      "\n",
      "* Input data are supplied in a dictionary\n",
      "* stan() function in the module runs the model.\n",
      "* The function returns a fit type object, which has several methods including extract() and plot()."
     ]
    },
    {
     "cell_type": "markdown",
     "metadata": {},
     "source": [
      "Summary\n",
      "-------\n",
      "\n",
      "List -- An ordered collection of objects. Mutable.\n",
      "\n",
      "Dictionary -- A collection of key-value pairs. Mutable.\n",
      "\n",
      "Tuple -- A sequence of values separated by commas. Immutable.\n",
      "\n",
      "Class -- Defines a type, a grouping of properties and methods.\n",
      "\n",
      "try: ... except: ...  -- Catch and handle exceptions."
     ]
    },
    {
     "cell_type": "markdown",
     "metadata": {},
     "source": [
      "References\n",
      "----------\n",
      "\n",
      "* Stan project team site. http://mc-stan.org/team.html.\n",
      "* Andrew Gelman, John B. Carlin, H. S. S. D. B. R. Bayesian Data Analysis, 2nd ed. Chapman & Hall/CRC Texts in Statistical Science. Chapman and Hall/CRC, July 2003.\n",
      "* Wirth, N. Algorithms + Data Structures = Programs, 1st ed. Prentice Hall Series in Automatic Computation. Prentice-Hall, February 1976."
     ]
    },
    {
     "cell_type": "code",
     "collapsed": false,
     "input": [],
     "language": "python",
     "metadata": {},
     "outputs": []
    }
   ],
   "metadata": {}
  }
 ]
}