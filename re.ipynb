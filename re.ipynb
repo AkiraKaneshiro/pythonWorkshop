{
 "cells": [
  {
   "cell_type": "markdown",
   "metadata": {
    "slideshow": {
     "slide_type": "slide"
    }
   },
   "source": [
    "# Introduction to Regular Expressions"
   ]
  },
  {
   "cell_type": "markdown",
   "metadata": {
    "slideshow": {
     "slide_type": "-"
    }
   },
   "source": [
    "![caption](files/re.png)"
   ]
  },
  {
   "cell_type": "markdown",
   "metadata": {},
   "source": [
    "<small>Note: Image by <a href=\"https://wiki.python.org/moin/LionKimbro\">Lion Kimbro</a> downloaded from <a href=\"https://wiki.python.org/moin/RegularExpression\">Python Wiki</a> on Apr. 14, 2015.</small>"
   ]
  },
  {
   "cell_type": "markdown",
   "metadata": {
    "slideshow": {
     "slide_type": "slide"
    }
   },
   "source": [
    "## What is RegEx?"
   ]
  },
  {
   "cell_type": "markdown",
   "metadata": {},
   "source": [
    "- Regular expressions (REs, regex or regex patterns) are an essential tool for processing text data.\n",
    "- It is a tiny, specialized (programming) language embedded inside other general purpose languages like Perl, Python, R, and Stata.\n",
    "- The *re* module in Python provides regex related functions and objects."
   ]
  },
  {
   "cell_type": "markdown",
   "metadata": {
    "slideshow": {
     "slide_type": "slide"
    }
   },
   "source": [
    "## What can we do with a RegEx?"
   ]
  },
  {
   "cell_type": "markdown",
   "metadata": {},
   "source": [
    "- To search _text_ for a part that matches a regex _pattern_"
   ]
  },
  {
   "cell_type": "markdown",
   "metadata": {},
   "source": [
    "You can also do:\n",
    "\n",
    "- To match the beginning of the _text_ with a _pattern_  (`re.match()`)\n",
    "- To get all that match a _pattern_  (`re.findall()`, `re.finditer()`)\n",
    "- To substitute matches with replacement (`re.sub()`)\n",
    "- To split _text_ at the matches (`re.split()`)"
   ]
  },
  {
   "cell_type": "markdown",
   "metadata": {
    "slideshow": {
     "slide_type": "slide"
    }
   },
   "source": [
    "## An Example"
   ]
  },
  {
   "cell_type": "code",
   "execution_count": 219,
   "metadata": {
    "collapsed": false
   },
   "outputs": [
    {
     "name": "stdout",
     "output_type": "stream",
     "text": [
      "\r\n",
      "<!DOCTYPE html>\r\n",
      "<head><meta http-equiv=\"Content-Type\" content=\"text/html; charset=utf-8\" /><link rel=\"stylesheet\" type=\"text/css\" href=\"/opr.css\" /><title>\r\n",
      "\tOffice of Population Research, Princeton University\r\n",
      "</title> \r\n",
      "<script src=\"http://ajax.googleapis.com/ajax/libs/jquery/1.4.2/jquery.min.js\"></script> <script src='/scripts/hitch.js'></script>\r\n",
      "</head> \r\n",
      "<body style='margin:0;position:relative'> \r\n",
      "<a name=\"top\"></a> \r\n",
      "<form style='position:absolute;top:12px;left:578px' action=\"http://opr.princeton.edu/cse/\" id=\"cse-search-box\">\r\n",
      "  <div>\r\n",
      "    <input type=\"hidden\" name=\"cx\" value=\"011944897329676384373:yr8ay1y85_0\" />\r\n",
      "    <input type=\"hidden\" name=\"cof\" value=\"FORID:11\" />\r\n",
      "    <input type=\"hidden\" name=\"ie\" value=\"UTF-8\" />\r\n",
      "    <input type=\"text\" name=\"q\" size=\"31\" /><br/>\r\n",
      "    <input type=\"submit\" name=\"sa\" value=\"Search\" style='float:right'/>\r\n",
      "  </div>\r\n",
      "</form>\r\n",
      "<script type=\"text/javascript\" src=\"http://www.google.com/cse/brand?form=cse-search-box&lang=en\"></script>\r\n",
      "<img src=\"/images/OPRlogo.png\" style=\"display:block;border:0\"\r\n",
      " alt=\"The Office of Population Research at Princeton University\" usemap='#logo'>\r\n",
      "<map name='logo'> <area shape='rect' coords='0,0,166,76' href='/' alt='logo'/></map>\r\n",
      "<a href='/75'><img src='/images/opr75.jpg' style=\"position:absolute;top:4px; left:820px\" border='0' title='Click to visit our 75th anniversary page'/></a>\r\n",
      "\r\n",
      "<table cellspacing=\"0\" cellpadding=\"0\" style=\"border:0;width:900px;border-collapse:collapse\"> \r\n",
      "<tr><td width=\"160\" valign=\"top\"> \r\n",
      "<div style=\"padding: 0 12px 12px 12px\"> \r\n",
      "\r\n",
      "<h2>People</h2>\r\n",
      "\r\n",
      "<p class='indent'>\r\n",
      "<a class='nav' href='/admin/' title=\"OPR's administration\">Administration</a><br/> \r\n",
      "<a class='nav' href='/faculty/' title=\"Faculty and research associates, post-docs and visitors\">Faculty</a><br/> \r\n",
      "<a class='nav' href='/staff/' title=\"Administrative, computing, library, and research staff\">Staff</a><br/> \r\n",
      "<a class='nav' href='/students/' title=\"OPR graduate students, with links to individual pages\">Students</a><br/> \r\n",
      "<a class='nav' href='/jobs/' title=\"Current job openings at OPR\">Jobs</a>\r\n",
      "</p>\r\n",
      "<h2>Research</h2>\r\n",
      "<p class='indent'>\r\n",
      "<a class='nav' href='/research/' title=\"List of research projects by topic\">Projects</a><br/> \r\n",
      "<a class='nav' href='/seminars/' title=\"Notestein seminar schedule\">Seminars</a><br/> \r\n",
      "<a class='nav' href='/papers/' title=\"List of downloadable OPR working papers\">Working Papers<br />&nbsp;and Publications</a><br/> \r\n",
      "<a class='nav' href='/dissertations/' title=\"List of OPR dissertations\">Dissertations</a><br/> \r\n",
      "</p>\r\n",
      "<h2>Training</h2>\r\n",
      "<p class='indent'>\r\n",
      "<a class='nav' href='/training/prospect.aspx' title=\"Guide for Prospective Students\">Prospective &nbsp;Students</a><br/> \r\n",
      "<a class='nav' href='/training/' title=\"Demographic training at OPR\">Programs</a><br> \r\n",
      "<a class='nav' href='/courses/catalog' title=\"List of available courses\">Courses </a><br> \r\n",
      "<a class='nav' href='/courses/' title=\"Current course schedule\">Course Schedule</a><br> \r\n",
      "<a class='nav' href='/workshops/' title=\"Computing workshops\">Workshops</a><br>\r\n",
      "</p>\r\n",
      "<h2>Resources</h2>\r\n",
      "<p class='indent'>\r\n",
      "<a class='nav' href='/archive' title=\"OPR's data archive, including fragile families and other data\">Data Archive</a><br> \r\n",
      "<a class='nav' href='/library/' title=\"The Ansley J. Coale Population Research Collection\">Library</a><br> \r\n",
      "<a class='nav' href='http://popindex.princeton.edu' title=\"Population Index on the Web\">Pop Index</a><br> \r\n",
      "<a class='nav' href='http://libguides.princeton.edu/nih_public_access_policy' title=\"Guidelines for complying with the NIH Public Access Policy\">NIH Public <br/>&nbsp;&nbsp;&nbsp;&nbsp;Access Policy</a><br> \r\n",
      "\r\n",
      "\r\n",
      "<p><center><a href='http://wws.princeton.edu'><img border=0 src='/images/wwslogo.png'></a></center> \r\n",
      "<p><center><a href='http://www.princeton.edu'><img src='/images/pulogos.png' border='0'></a></center> \r\n",
      "<p><a class='nav' href='http://www.princeton.edu/Siteware/Search.shtml'> \r\n",
      "</div> \r\n",
      "</td><td width=\"506\" style=\"border-left:1px solid #ff8000;vertical-align:top\"> \r\n",
      "<div style=\"padding:12px;\"> \r\n",
      "<!-- Begin Main Contents --> \r\n",
      "\r\n",
      "<link rel=\"stylesheet\" type=\"text/css\" href=\"/gr-tabs.css\" />\r\n",
      "<script src=\"/scripts/gr-tabs3.js\"></script>\r\n",
      "<script>\r\n",
      "    var tabs;\r\n",
      "    var current = '';\r\n",
      "    $(document).ready(function() {\r\n",
      "        tabs = new GR.Tabs('tabs', function(href) {\r\n",
      "            if (current) $(current).hide();\r\n",
      "            $(href).show();\r\n",
      "            current = href;\r\n",
      "        });\r\n",
      "    });   \r\n",
      "</script>\r\n",
      "<style>\r\n",
      ".tab {display:none;}\r\n",
      "</style>\r\n",
      "\r\n",
      "<div id='tabs'>\r\n",
      "<a href='#Faculty'>Faculty</a>\r\n",
      "<a href='#PostDocs'>Postdocs</a>\r\n",
      "<a href='#Visitors'>Visitors</a>\r\n",
      "</div>\r\n",
      "<div >\r\n",
      "<div id='Faculty' class='tab'>\r\n",
      "<h2>Faculty and Research Scholars</h2>\r\n",
      "\r\n",
      "<table><tr><td><img src='/photos/adsera-small.jpg' alt=\"Adsera photo\" /></td>\r\n",
      "<td><span class='em'>Alicia  Adsera</span>, \r\n",
      "<i>Research Scholar, Woodrow Wilson School. Lecturer in Economics and International Affairs</i>. \r\n",
      " Ph.D., Economics, Boston University, 1996.\r\n",
      "<i>Interests: </i>fertility, household formation and labor market institutions, migration, income distribution and political economy, international and regional development, and press freedom.\r\n",
      "</td></tr></table>\r\n",
      "<br/>\r\n",
      "<table><tr><td><img src='/photos/altj-small.jpg' alt=\"Altmann photo\" /></td>\r\n",
      "<td><span class='em'>Jeanne  Altmann</span>, \r\n",
      "<i>Eugene Higgins Professor of Ecology and Evolutionary Biology, Emeritus</i>. \r\n",
      " Ph.D., Behavioral Sciences, University of Chicago, 1979.\r\n",
      "<i>Interests: </i>non-experimental research design and analysis, ecology and evolution of family relationships and of behavioral development; primate demography and life histories, parent-offspring relationships; infancy and the ontogeny of behavior and social relationships, conservation education and behavioral aspects of conservation.\r\n",
      "</td></tr></table>\r\n",
      "<br/>\r\n",
      "<table><tr><td><img src='/photos/ema-small.jpg' alt=\"Armstrong photo\" /></td>\r\n",
      "<td><span class='em'>Elizabeth  Armstrong</span>, \r\n",
      "<i>Associate Professor of Public Affairs and Sociology</i>. \r\n",
      " Ph.D., Sociology and Demography, University of Pennsylvania, 1998.\r\n",
      "<i>Interests: </i>public health, the history and sociology of medicine, risk in obstetrics, and biomedical ethics.\r\n",
      "</td></tr></table>\r\n",
      "<br/>\r\n",
      "<table><tr><td><img src='/photos/jbiehl-small.jpg' alt=\"Biehl photo\" /></td>\r\n",
      "<td><span class='em'>João  Biehl</span>, \r\n",
      "<i>Susan Dod Brown Professor of Anthropology. Co-Director, Program in Global Health and Health Policy</i>. \r\n",
      " Ph.D., Anthropology, University of California, Berkeley, 1999.\r\n",
      "<i>Interests: </i>Socio-cultural and Medical Anthropology; Social Studies of Science and Technology; Global Health; Culture and Mental Illness; HIV/AIDS; Pharmaceuticals; Health and Human Rights; Religion and Society; Subjectivity; Ethnographic Methods; Contemporary Social Theory; Latin American Societies; Brazil.\r\n",
      "</td></tr></table>\r\n",
      "<br/>\r\n",
      "<table><tr><td><img src='/photos/accase-small.jpg' alt=\"Case photo\" /></td>\r\n",
      "<td><a href='http://www.princeton.edu/~accase' class='nav'><span class='em'>Anne C. Case</span></a>, \r\n",
      "<i>Alexander Stewart 1886 Professor of Economics and Public Affairs</i>. \r\n",
      " Ph.D., Economics, Princeton University, 1988.\r\n",
      "<i>Interests: </i>microeconomic foundations of development, health economics, public finance and labor economics.\r\n",
      "</td></tr></table>\r\n",
      "<br/>\r\n",
      "<table><tr><td><img src='/photos/jcurrie-small.jpg' alt=\"Currie photo\" /></td>\r\n",
      "<td><span class='em'>Janet M. Currie</span>, \r\n",
      "<i>Henry Putnam Professor of Economics and Public Affairs, Woodrow Wilson School. Chair, Department of Economics. Director, Center for Health and Wellbeing</i>. \r\n",
      " Ph.D., Economics, Princeton University, 1988.\r\n",
      "<i>Interests: </i>health and well-being of children.\r\n",
      "</td></tr></table>\r\n",
      "<br/>\r\n",
      "<table><tr><td><img src='/photos/rdancygi-small.jpg' alt=\"Dancygier photo\" /></td>\r\n",
      "<td><span class='em'>Rafaela  Dancygier</span>, \r\n",
      "<i>Assistant Professor of Politics and Public and International Affairs. Cyril E. Black University Preceptor</i>. \r\n",
      " Ph.D., Political Science, Yale University, 2007.\r\n",
      "<i>Interests: </i>comparative politics, comparative political economy, immigration, ethnic politics, ethnic conflict.\r\n",
      "</td></tr></table>\r\n",
      "<br/>\r\n",
      "<table><tr><td><img src='/photos/deaton-small.jpg' alt=\"Deaton photo\" /></td>\r\n",
      "<td><a href='http://wws.princeton.edu/faculty-research/faculty/deaton' class='nav'><span class='em'>Angus S. Deaton</span></a>, \r\n",
      "<i>Dwight D. Eisenhower Professor of International Affairs and Professor of Economics and International Affairs</i>. \r\n",
      " Ph.D., Economics, Cambridge University, 1974.\r\n",
      "<i>Interests: </i>Microeconomic analysis, applied econometrics, economic development.\r\n",
      "</td></tr></table>\r\n",
      "<br/>\r\n",
      "<table><tr><td><img src='/photos/edonahue-small.jpg' alt=\"Donahue photo\" /></td>\r\n",
      "<td><span class='em'>Elisabeth  Donahue</span>, \r\n",
      "<i>Associate Dean for Public and External Affairs, Woodrow Wilson School</i>. \r\n",
      " J.D., Georgetown University Law Center, 1993.\r\n",
      "<i>Interests: </i>Poverty, social policy financing and children's policy.  Associate Editor of the Future of Children journal.\r\n",
      "</td></tr></table>\r\n",
      "<br/>\r\n",
      "<table><tr><td><img src='/photos/tje-small.jpg' alt=\"Espenshade photo\" /></td>\r\n",
      "<td><a href='http://www.princeton.edu/~tje' class='nav'><span class='em'>Thomas J. Espenshade</span></a>, \r\n",
      "<i>Senior Scholar; Lecturer with the Rank of Professor; Professor of Sociology, Emeritus</i>. \r\n",
      " Ph.D., Economics, Princeton University, 1972.\r\n",
      "<i>Interests: </i>social demography, with a particular emphasis on early childhood education, diversity in higher education, and demographic methods.\r\n",
      "</td></tr></table>\r\n",
      "<br/>\r\n",
      "<table><tr><td><img src='/photos/mpfk-small.jpg' alt=\"Fernández-Kelly photo\" /></td>\r\n",
      "<td><a href='http://sociology.princeton.edu/Faculty/Fernandez-Kelly/' class='nav'><span class='em'>Patricia  Fernández-Kelly</span></a>, \r\n",
      "<i>Senior Lecturer in Sociology</i>. \r\n",
      " Ph.D., Sociology, Rutgers University, 1981.\r\n",
      "<i>Interests: </i>International economic development, industrial restructuring, gender/class/ethnicity, migration/global economy, women/ethnic minorities in the labor force.\r\n",
      "</td></tr></table>\r\n",
      "<br/>\r\n",
      "<table><tr><td><img src='/photos/sfiske-small.jpg' alt=\"Fiske photo\" /></td>\r\n",
      "<td><a href='http://psych.princeton.edu/psychology/research/fiske/index.php' class='nav'><span class='em'>Susan  Fiske</span></a>, \r\n",
      "<i>Eugene Higgins Professor of Psychology. Professor of Psychology and Public Affairs</i>. \r\n",
      " Ph.D., Social Psychology, Harvard University, 1978.\r\n",
      "<i>Interests: </i>Professor Fiske's research addresses how stereotyping, prejudice, and discrimination are encouraged or discouraged by social relationships, such as cooperation, competition, and power.\r\n",
      "</td></tr></table>\r\n",
      "<br/>\r\n",
      "<table><tr><td><img src='/photos/agoldani-small.jpg' alt=\"Goldani photo\" /></td>\r\n",
      "<td><span class='em'>Ana Maria  Goldani</span>, \r\n",
      "<i>Associate Research Scholar, Sociology. Lecturer in Sociology</i>. \r\n",
      " Ph.D., Sociology, University of Texas-Austin, 1989.\r\n",
      "<i>Interests: </i>family, demography, sex and gender.\r\n",
      "</td></tr></table>\r\n",
      "<br/>\r\n",
      "<table><tr><td><img src='/photos/ngoldman-small.jpg' alt=\"Goldman photo\" /></td>\r\n",
      "<td><a href='http://www.princeton.edu/~ngoldman' class='nav'><span class='em'>Noreen  Goldman</span></a>, \r\n",
      "<i>Hughes-Rogers Professor of Demography and Public Affairs</i>. \r\n",
      " D.Sc., Population Studies, Harvard University, 1977.\r\n",
      "<i>Interests: </i>Quantitative analysis, health and mortality, survey design, mathematical demography.\r\n",
      "</td></tr></table>\r\n",
      "<br/>\r\n",
      "<table><tr><td><img src='/photos/grenfell-small.jpg' alt=\"Grenfell photo\" /></td>\r\n",
      "<td><span class='em'>Bryan  Grenfell</span>, \r\n",
      "<i>Professor of Ecology and Evolutionary Biology and Public Affairs. Director of the Health Grand Challenge Initiative</i>. \r\n",
      " D. Phil., Biology, University of York, 1980.\r\n",
      "<i>Interests: </i>The interface between theoretical models and empirical data in population biology.\r\n",
      "</td></tr></table>\r\n",
      "<br/>\r\n",
      "<table><tr><td><img src='/photos/jgrossma-small.jpg' alt=\"Grossman photo\" /></td>\r\n",
      "<td><a href='http://www.princeton.edu/~jgrossma' class='nav'><span class='em'>Jean  Grossman</span></a>, \r\n",
      "<i>Lecturer in Economics and Public Affairs</i>. \r\n",
      " Ph.D., Economics, Massachusetts Institute of Technology, 1980.\r\n",
      "<i>Interests: </i>youth development and employment, mentoring, after-school programs, teen pregnancy prevention.\r\n",
      "</td></tr></table>\r\n",
      "<br/>\r\n",
      "<table><tr><td><img src='/photos/todh-small.jpg' alt=\"Hamilton photo\" /></td>\r\n",
      "<td><span class='em'>Tod G. Hamilton</span>, \r\n",
      "<i>Assistant Professor of Sociology</i>. \r\n",
      " Ph.D., Sociology, University of Texas at Austin, 2010.\r\n",
      "<i>Interests: </i>demography, migration, health, and social stratification\r\n",
      "</td></tr></table>\r\n",
      "<br/>\r\n",
      "<table><tr><td><img src='/photos/jhammer-small.jpg' alt=\"Hammer photo\" /></td>\r\n",
      "<td><span class='em'>Jeffrey S. Hammer</span>, \r\n",
      "<i>Charles and Marie Robertson Visiting Professor in Economic Development, (CHW) Woodrow Wilson School</i>. \r\n",
      " Ph.D., Economics, Massachusetts Institute of Technology, 1979.\r\n",
      "<i>Interests: </i>measuring and improving the quality of medical care, primarily in India; absenteeism of teachers and health workers; policy-related determinants of health status; and improving service delivery through better accountability mechanisms.\r\n",
      "</td></tr></table>\r\n",
      "<br/>\r\n",
      "<table><tr><td><img src='/photos/dmassey-small.jpg' alt=\"Massey photo\" /></td>\r\n",
      "<td><span class='em'>Douglas S. Massey</span>, \r\n",
      "<i>Henry G. Bryant Professor of Sociology and Public Affairs. Director, Office of Population Research</i>. \r\n",
      " Ph.D., Sociology, Princeton University, 1978.\r\n",
      "<i>Interests: </i>demography, urban sociology, race and ethnicity, international migration, Latin American society, particularly Mexico.\r\n",
      "</td></tr></table>\r\n",
      "<br/>\r\n",
      "<table><tr><td><img src='/photos/mclanaha-small.jpg' alt=\"McLanahan photo\" /></td>\r\n",
      "<td><a href='http://www.princeton.edu/~mclanaha' class='nav'><span class='em'>Sara S. McLanahan</span></a>, \r\n",
      "<i>William S. Tod Professor of Sociology and Public Affairs. Director, Bendheim-Thoman Center for Research on Child Wellbeing</i>. \r\n",
      " Ph.D., Sociology, University of Texas, Austin, 1979.\r\n",
      "<i>Interests: </i>Family demography, intergenerational relationships, poverty.\r\n",
      "</td></tr></table>\r\n",
      "<br/>\r\n",
      "<table><tr><td><img src='/photos/cmetcalf-small.jpg' alt=\"Metcalf photo\" /></td>\r\n",
      "<td><a href='http://scholar.princeton.edu/cmetcalf/biocv' class='nav'><span class='em'>C. Jessica E. Metcalf</span></a>, \r\n",
      "<i>Assistant Professor of Ecology, Evolution and Public Affairs, Woodrow Wilson School</i>. \r\n",
      " Ph.D., Biology, Imperial College London, 2005.\r\n",
      "<i>Interests: </i>evolutionary demography, infectious diseases and public health.\r\n",
      "</td></tr></table>\r\n",
      "<br/>\r\n",
      "<table><tr><td><img src='/photos/dan1-small.jpg' alt=\"Notterman photo\" /></td>\r\n",
      "<td><span class='em'>Daniel  Notterman</span>, \r\n",
      "<i>Senior Health Policy Analyst, Molecular Biology; Lecturer in Molecular Biology</i>. \r\n",
      " M.D., New York University School of Medicine, 1978.\r\n",
      "<i>Interests: </i>research in tumor biology, bioethics, gene-environment interactions.\r\n",
      "</td></tr></table>\r\n",
      "<br/>\r\n",
      "<table><tr><td><img src='/photos/epaluck-small.jpg' alt=\"Paluck photo\" /></td>\r\n",
      "<td><span class='em'>Elizabeth L. Paluck</span>, \r\n",
      "<i>Associate Professor of Psychology and Public Affairs. John Maclean Jr. Presidential University Preceptor</i>. \r\n",
      " Ph.D., Yale University, 2007.\r\n",
      "<i>Interests: </i>prejudice and conflict reduction: the role of media, community dialogue and education; social influence, field methodology, psychology and policy.\r\n",
      "</td></tr></table>\r\n",
      "<br/>\r\n",
      "<table><tr><td><img src='/photos/aportes-small.jpg' alt=\"Portes photo\" /></td>\r\n",
      "<td><a href='http://sociology.princeton.edu/Faculty/Portes/' class='nav'><span class='em'>Alejandro  Portes</span></a>, \r\n",
      "<i>Howard Harrison and Gabrielle Snyder Beck Professor of Sociology, Emeritus. Senior Scholar</i>. \r\n",
      " Ph.D., Sociology, University of Wisconsin, Madison, 1970.\r\n",
      "<i>Interests: </i>Immigration, economic sociology, comparative development, Third World urbanization.\r\n",
      "</td></tr></table>\r\n",
      "<br/>\r\n",
      "<table><tr><td><img src='/photos/grodri-small.jpg' alt=\"Rodríguez photo\" /></td>\r\n",
      "<td><a href='http://data.princeton.edu' class='nav'><span class='em'>Germán  Rodríguez</span></a>, \r\n",
      "<i>Senior Research Demographer</i>. \r\n",
      " Ph.D., Biostatistics, University of North Carolina, 1975.\r\n",
      "<i>Interests: </i>statistical demography, fertility surveys, survival analysis, multilevel models, demographic and statistical computing, with emphasis on web applications.\r\n",
      "</td></tr></table>\r\n",
      "<br/>\r\n",
      "<table><tr><td><img src='/photos/mjs3-small.jpg' alt=\"Salganik photo\" /></td>\r\n",
      "<td><span class='em'>Matthew  Salganik</span>, \r\n",
      "<i>Professor of Sociology</i>. \r\n",
      " Ph.D., Sociology, Columbia University, 2007.\r\n",
      "<i>Interests: </i>social networks, sociology of culture, social inequality, social psychology, and quantitative methods.\r\n",
      "</td></tr></table>\r\n",
      "<br/>\r\n",
      "<table><tr><td><img src='/photos/etelles-small.jpg' alt=\"Telles photo\" /></td>\r\n",
      "<td><span class='em'>Edward  Telles</span>, \r\n",
      "<i>Professor of Sociology</i>. \r\n",
      " Ph.D., Sociology, University of Texas-Austin, 1988.\r\n",
      "<i>Interests: </i>race and ethnicity, social demography, development, urban sociology.\r\n",
      "</td></tr></table>\r\n",
      "<br/>\r\n",
      "<table><tr><td><img src='/photos/tienda-small.jpg' alt=\"Tienda photo\" /></td>\r\n",
      "<td><a href='http://wws.princeton.edu/faculty-research/faculty/tienda' class='nav'><span class='em'>Marta  Tienda</span></a>, \r\n",
      "<i>Maurice P. During Professor in Demographic Studies. Professor of Sociology and Public Affairs. Director, Program in Latino Studies. Director, Program in Population Studies</i>. \r\n",
      " Ph.D., Sociology, The University of Texas, Austin, 1977.\r\n",
      "<i>Interests: </i>social demography, race and ethnic stratification, higher education, immigration.\r\n",
      "</td></tr></table>\r\n",
      "<br/>\r\n",
      "<table><tr><td><img src='/photos/trussell-small.jpg' alt=\"Trussell photo\" /></td>\r\n",
      "<td><a href='http://www.princeton.edu/~trussell' class='nav'><span class='em'>James  Trussell</span></a>, \r\n",
      "<i>Charles and Marie Robertson Professor of Public and International Affairs. Professor of Economics and Public Affairs</i>. \r\n",
      " Ph.D., Economics, Princeton University, 1975.\r\n",
      "<i>Interests: </i>Reproductive health, fertility, contraceptive technology, AIDS, mortality, demographic methods.\r\n",
      "</td></tr></table>\r\n",
      "<br/>\r\n",
      "<table><tr><td><img src='/photos/tvogl-small.jpg' alt=\"Vogl photo\" /></td>\r\n",
      "<td><span class='em'>Tom S. Vogl</span>, \r\n",
      "<i>Assistant Professor of Economics and International Affairs</i>. \r\n",
      " Ph.D., Economics, Harvard University, 2011.\r\n",
      "<i>Interests: </i>development economics, economic demography, health economics, and labor economics.\r\n",
      "</td></tr></table>\r\n",
      "<br/>\r\n",
      "<table><tr><td><img src='/photos/westoff-small.jpg' alt=\"Westoff photo\" /></td>\r\n",
      "<td><span class='em'>Charles F. Westoff</span>, \r\n",
      "<i>Maurice P. During '22 Professor of Demographic Studies, Emeritus. Professor of Sociology, Emeritus.</i>. \r\n",
      " Ph.D., Sociology, University of Pennsylvania, 1953.\r\n",
      "<i>Interests: </i>Population policy, comparative fertility in developing countries, fertility surveys,family planning.\r\n",
      "</td></tr></table>\r\n",
      "\r\n",
      "</div>\r\n",
      "\r\n",
      "<div id='Visitors' class='tab'>\r\n",
      "<h2>Visiting Scholars</h2>\r\n",
      "\r\n",
      "<table><tr><td><img src='/photos/brooksgu-small.jpg' alt=\"Brooks-Gunn photo\" /></td>\r\n",
      "<td><a href='http://www.tc.columbia.edu/centers/ccf/jgbbio.html' class='nav'><span class='em'>Jeanne  Brooks-Gunn</span></a>, \r\n",
      "<i>Visiting Research Collaborator</i>. \r\n",
      " Ph.D., Human Learning and Development, University of Pennsylvania, 1975.\r\n",
      "<i>Interests: </i>child development, child wellbeing, parenting, education, poverty.\r\n",
      "</td></tr></table>\r\n",
      "<br/>\r\n",
      "<table><tr><td><img src='/photos/sbzostek-small.jpg' alt=\"Bzostek photo\" /></td>\r\n",
      "<td><span class='em'>Sharon H. Bzostek</span>, \r\n",
      "<i>Visiting Associate Research Scholar</i>. \r\n",
      " Ph.D., Sociology, Princeton University, 2009.\r\n",
      "<i>Interests: </i>Child well-being, family demography, health, poverty, race and ethnicity\r\n",
      "</td></tr></table>\r\n",
      "<br/>\r\n",
      "<table><tr><td><img src='/photos/pklebano-small.jpg' alt=\"Klebanov photo\" /></td>\r\n",
      "<td><span class='em'>Pamela  Klebanov</span>, \r\n",
      "<i>Visiting Research Collaborator</i>. \r\n",
      " Ph.D., Princeton University, 1989.\r\n",
      "<i>Interests: </i>child health and development, parenting, maternal employment, poverty.\r\n",
      "</td></tr></table>\r\n",
      "\r\n",
      "</div>\r\n",
      "\r\n",
      "<div id='PostDocs' class='tab'>\r\n",
      "<h2>Postdoctoral Fellows</h2>\r\n",
      "\r\n",
      "<table><tr><td><img src='/photos/aaiken-small.jpg' alt=\"Aiken photo\" /></td>\r\n",
      "<td><span class='em'>Abigail  Aiken</span>, \r\n",
      "<i>Postdoctoral Research Associate and Lecturer </i>. \r\n",
      " Ph.D., Public Policy, University of Texas at Austin, 2014.\r\n",
      "<i>Interests: </i>Reproductive health, with particular emphasis on unintended pregnancy, contraceptive desires and use, and family planning politics and policy\r\n",
      "</td></tr></table>\r\n",
      "<br/>\r\n",
      "<table><tr><td><img src='/photos/mdeklyen-small.jpg' alt=\"DeKlyen photo\" /></td>\r\n",
      "<td><span class='em'>Michelle  DeKlyen</span>, \r\n",
      "<i>Research Staff</i>. \r\n",
      " Ph.D., Child Clinical Psychology, University of Washington, 1992.\r\n",
      "<i>Interests: </i>child development, early child behavior disorders, child learning disabilities.\r\n",
      "</td></tr></table>\r\n",
      "<br/>\r\n",
      "<table><tr><td><img src='/photos/racheleg-small.jpg' alt=\"Goldberg photo\" /></td>\r\n",
      "<td><span class='em'>Rachel E. Goldberg</span>, \r\n",
      "<i>Postdoctoral Research Associate</i>. \r\n",
      " Ph.D., Sociology, Brown University, 2012.\r\n",
      "<i>Interests: </i>social demography, family, health, migration, and life course\r\n",
      "</td></tr></table>\r\n",
      "<br/>\r\n",
      "<table><tr><td><img src='/photos/nksmith-small.jpg' alt=\"Smith photo\" /></td>\r\n",
      "<td><span class='em'>Nicole K. Smith</span>, \r\n",
      "<i>Postdoctoral Research Associate</i>. \r\n",
      " Ph.D., Health Behavior, Indiana University (School of Public Health), 2013.\r\n",
      "<i>Interests: </i>contraception, infertility, sexuality, and reproductive health \r\n",
      "</td></tr></table>\r\n",
      "<br/>\r\n",
      "<table><tr><td><img src='/photos/kt10-small.jpg' alt=\"Tumlinson photo\" /></td>\r\n",
      "<td><span class='em'>Katherine M. Tumlinson</span>, \r\n",
      "<i>Postdoctoral Research Fellow</i>. \r\n",
      " Ph.D., Epidemiology, University of North Carolina at Chapel Hill, 2014.\r\n",
      "<i>Interests: </i>International family planning with a focus on contraceptive continuation, quality of care, and adolescent pregnancy prevention\r\n",
      "</td></tr></table>\r\n",
      "<br/>\r\n",
      "<table><tr><td><img src='/photos/bwagner-small.jpg' alt=\"Wagner photo\" /></td>\r\n",
      "<td><span class='em'>Brandon G. Wagner</span>, \r\n",
      "<i>Postdoctoral Research Fellow</i>. \r\n",
      " Ph.D., Sociology, University of North Carolina - Chapel Hill, 2013.\r\n",
      "<i>Interests: </i>health, fertility, family, methodology, causal inference, bio-social interplay.\r\n",
      "</td></tr></table>\r\n",
      "\r\n",
      "</div>\r\n",
      "</div>\r\n",
      "\r\n",
      "<!-- End Main Contents -->\r\n",
      "</div> \r\n",
      "</td> \r\n",
      "</td>\r\n",
      "<td style=\"vertical-align:top;border-left:1px solid #ff8000\"> \r\n",
      "<div style=\"padding:6px 4px 0 12px;\"> \r\n",
      "<!-- Begin Sidebar Contents --> \r\n",
      "\r\n",
      "<link rel=\"stylesheet\" type=\"text/css\" href=\"/scripts/jquery.autocomplete.css\" /> \r\n",
      "<script src=\"http://ajax.googleapis.com/ajax/libs/jquery/1.4.2/jquery.min.js\"></script>\r\n",
      "<script src=\"/scripts/hitch.js\"></script>\r\n",
      "<script src=\"/scripts/jquery.autocomplete.js\"></script>\r\n",
      "\r\n",
      "<form action='' onsubmit='return lookup()' style='margin-top:1ex'>People Finder:<br />\r\n",
      "<input id=\"Name\" type='text' size='24'/>&nbsp;<a href='Javascript: void lookup()'><img id=\"Lookup\" src='/images/search.png' title='Search' border='0'/></a>\r\n",
      "</form>\r\n",
      "<p id='SearchResult' class='small' style='width:200px;'>\r\n",
      "<span style='color:Gray'>Type first and last name and press enter or click\r\n",
      "on the icon to search OPR's directory</span>\r\n",
      "</p>\r\n",
      "<script>\r\n",
      "    var people;\r\n",
      "    function lookinit() {\r\n",
      "        var url = \"/OprDataServices.ashx?Action=GetPeople\";\r\n",
      "        $.get(url, function(data) {\r\n",
      "            people = data;\r\n",
      "            $('#Name').autocomplete(people, { highlight: false, delay: 20 });\r\n",
      "            $('#Lookup').focus(lookup);\r\n",
      "        });\r\n",
      "    }\r\n",
      "    function lookup() {\r\n",
      "        var name = $.trim($('#Name').val());\r\n",
      "        \r\n",
      "        if (name == \"\") return false;\r\n",
      "        if ($.inArray(name, people) > -1) {\r\n",
      "            url = \"/lookup.aspx?Name=\" + encodeURI(name);\r\n",
      "            $.get(url, function(html) {\r\n",
      "\t \t$('#SearchResult').html(html);\r\n",
      "\t    });\r\n",
      "        } else {\r\n",
      "            if (!confirm(\"No exact match for \" + name +\r\n",
      "         \". Click OK to search the Princeton website\")) return false;\r\n",
      "            var url = \"http://www.princeton.edu/main/tools/search/?q=\" + encodeURI(name) + \"&x=0&y=0\";\r\n",
      "            window.location.href = url;\r\n",
      "        }\r\n",
      "        return false;\r\n",
      "    }\r\n",
      "    lookinit();\r\n",
      "</script>\r\n",
      "<h4>New Faces</h4>\r\n",
      "<p>This fall we welcome two new postdoctoral fellows.\r\n",
      "</p>\r\n",
      "\r\n",
      "\r\n",
      "<p style='margin-top:1.5ex'><span class='em'>Postdocs</span></p>\r\n",
      "\r\n",
      "<p>Abigail Aiken<br/>\r\n",
      "Katherine M. Tumlinson\r\n",
      "</p>\r\n",
      "\r\n",
      "<!--\r\n",
      "<p style='margin-top:1.5ex'><span class='em'>Visitors</span></p>\r\n",
      "-->\r\n",
      "\r\n",
      "<p>For details please visit our   <a href='/newfaces'>new faces</a> page.</p>\r\n",
      "\r\n",
      "<!-- End Sidebar Contents -->\r\n",
      "</div> \r\n",
      "</td></tr> \r\n",
      "<tr style=\"border-top:1px solid orange\"> \r\n",
      "<td></td><td colspan=\"3\" align=\"center\"> \r\n",
      "<div style=\"font-size:8pt;padding-top:4px;\"> \r\n",
      "Office of Population Research, Princeton University, Wallace Hall, Princeton NJ 08544-1005<br> \r\n",
      "Phone: (609) 258-4870 &#149; Fax: (609) 258-1039 &#149;\r\n",
      "Email: <a href=\"mailto:opr-webmaster@princeton.edu\" style=\"text-decoration:none;color:black\">webmaster</a> \r\n",
      "</div> \r\n",
      "\r\n",
      "</td><td></td></tr> \r\n",
      "</table> \r\n",
      "<script>\r\n",
      "  (function(i,s,o,g,r,a,m){i['GoogleAnalyticsObject']=r;i[r]=i[r]||function(){\r\n",
      "  (i[r].q=i[r].q||[]).push(arguments)},i[r].l=1*new Date();a=s.createElement(o),\r\n",
      "  m=s.getElementsByTagName(o)[0];a.async=1;a.src=g;m.parentNode.insertBefore(a,m)\r\n",
      "  })(window,document,'script','//www.google-analytics.com/analytics.js','ga');\r\n",
      "  ga('create', 'UA-40207977-1', 'princeton.edu');\r\n",
      "  ga('send', 'pageview');\r\n",
      "</script> \r\n",
      "\n"
     ]
    }
   ],
   "source": [
    "# get a web page into a variable, text\n",
    "import urllib2\n",
    "\n",
    "url = \"http://opr.princeton.edu/faculty/\"\n",
    "text = urllib2.urlopen(url).read()\n",
    "print text"
   ]
  },
  {
   "cell_type": "code",
   "execution_count": 220,
   "metadata": {
    "collapsed": false
   },
   "outputs": [
    {
     "name": "stdout",
     "output_type": "stream",
     "text": [
      "Alicia  Adsera\n",
      "Jeanne  Altmann\n",
      "Elizabeth  Armstrong\n",
      "João  Biehl\n",
      "Anne C. Case\n",
      "Janet M. Currie\n",
      "Rafaela  Dancygier\n",
      "Angus S. Deaton\n",
      "Elisabeth  Donahue\n",
      "Thomas J. Espenshade\n",
      "Patricia  Fernández-Kelly\n",
      "Susan  Fiske\n",
      "Ana Maria  Goldani\n",
      "Noreen  Goldman\n",
      "Bryan  Grenfell\n",
      "Jean  Grossman\n",
      "Tod G. Hamilton\n",
      "Jeffrey S. Hammer\n",
      "Douglas S. Massey\n",
      "Sara S. McLanahan\n",
      "C. Jessica E. Metcalf\n",
      "Daniel  Notterman\n",
      "Elizabeth L. Paluck\n",
      "Alejandro  Portes\n",
      "Germán  Rodríguez\n",
      "Matthew  Salganik\n",
      "Edward  Telles\n",
      "Marta  Tienda\n",
      "James  Trussell\n",
      "Tom S. Vogl\n",
      "Charles F. Westoff\n",
      "Jeanne  Brooks-Gunn\n",
      "Sharon H. Bzostek\n",
      "Pamela  Klebanov\n",
      "Abigail  Aiken\n",
      "Michelle  DeKlyen\n",
      "Rachel E. Goldberg\n",
      "Nicole K. Smith\n",
      "Katherine M. Tumlinson\n",
      "Brandon G. Wagner\n",
      "Postdocs\n",
      "Visitors\n"
     ]
    }
   ],
   "source": [
    "# extracting names of the faculty, visitors, and postdocs\n",
    "import re\n",
    "\n",
    "pattern = r\"<span class='em'>(.*?)</span>\"\n",
    "for name in re.findall(pattern, text):\n",
    "    print name"
   ]
  },
  {
   "cell_type": "markdown",
   "metadata": {
    "slideshow": {
     "slide_type": "slide"
    }
   },
   "source": [
    "## Another Example"
   ]
  },
  {
   "cell_type": "code",
   "execution_count": 221,
   "metadata": {
    "collapsed": false
   },
   "outputs": [
    {
     "name": "stdout",
     "output_type": "stream",
     "text": [
      "\n",
      " AAA  AAC  AAG  AAT  ACA  ACC  ACG  ACT <AGA> AGC <AGG> AGT  ATA \n",
      " CAA  CAC  CAG  CAT  CCA  CCC  CCG  CCT <CGA><CGC><CGG><CGT> CTA \n",
      " GAA  GAC  GAG  GAT  GCA  GCC  GCG  GCT  GGA  GGC  GGG  GGT  GTA \n",
      " TAA  TAC  TAG  TAT  TCA  TCC  TCG  TCT  TGA  TGC  TGG  TGT  TTA \n",
      "\n"
     ]
    }
   ],
   "source": [
    "import re\n",
    "\n",
    "text = \"\"\"\n",
    " AAA  AAC  AAG  AAT  ACA  ACC  ACG  ACT  AGA  AGC  AGG  AGT  ATA \n",
    " CAA  CAC  CAG  CAT  CCA  CCC  CCG  CCT  CGA  CGC  CGG  CGT  CTA \n",
    " GAA  GAC  GAG  GAT  GCA  GCC  GCG  GCT  GGA  GGC  GGG  GGT  GTA \n",
    " TAA  TAC  TAG  TAT  TCA  TCC  TCG  TCT  TGA  TGC  TGG  TGT  TTA \n",
    "\"\"\"\n",
    "\n",
    "# mach and highlight any DNA codons that code for Arginine\n",
    "pattern = r\"\\s(CG\\S|AG[AG])\\s\"\n",
    "replacement = r\"<\\g<1>>\"\n",
    "\n",
    "text = re.sub(pattern, replacement, text)\n",
    "print text"
   ]
  },
  {
   "cell_type": "markdown",
   "metadata": {
    "slideshow": {
     "slide_type": "slide"
    }
   },
   "source": [
    "## Basic Search"
   ]
  },
  {
   "cell_type": "code",
   "execution_count": 222,
   "metadata": {
    "collapsed": false
   },
   "outputs": [
    {
     "name": "stdout",
     "output_type": "stream",
     "text": [
      "found: match\n"
     ]
    }
   ],
   "source": [
    "import re\n",
    "\n",
    "text = \"Most letters and characters will match themselves\"\n",
    "pattern = r\"mat\\w\\w\"\n",
    "\n",
    "match = re.search(pattern, text) # returns a match obj or None\n",
    "\n",
    "if match:\n",
    "    print \"found:\", match.group()\n",
    "else:\n",
    "    print \"not found\""
   ]
  },
  {
   "cell_type": "markdown",
   "metadata": {},
   "source": [
    "- `re.search(pattern, text)` returns a match object if found or `None` if not.\n",
    "- It is a good habit to put your regex pattern in a raw string\n",
    "- The pattern matches \"mat\" followed by any two *word characters*. A word character is a letter, digit, or an underscore character."
   ]
  },
  {
   "cell_type": "markdown",
   "metadata": {
    "slideshow": {
     "slide_type": "slide"
    }
   },
   "source": [
    "## Simple Patterns"
   ]
  },
  {
   "cell_type": "markdown",
   "metadata": {
    "slideshow": {
     "slide_type": "-"
    }
   },
   "source": [
    "* Letters and characters will match themselves\n",
    "* Meta-characters ( `.` `^` `$` `*` `+` `?` `{ }` `[ ]` `( )` `\\` `|` ) don't match themselves -- they have special meanings"
   ]
  },
  {
   "cell_type": "markdown",
   "metadata": {
    "slideshow": {
     "slide_type": "slide"
    }
   },
   "source": [
    "## Matches a Single Character"
   ]
  },
  {
   "cell_type": "markdown",
   "metadata": {
    "slideshow": {
     "slide_type": "-"
    }
   },
   "source": [
    "* Basic patterns that match a single character:\n",
    "    \n",
    "    <table>\n",
    "        <tr><th>Pattern</th><th>(Description)</th><th>Matches</th></tr>\n",
    "        <tr><th>.</th><td>(dot)</td><td nowrap>any single character except newline</td></tr>\n",
    "        <tr><th>\\d</th><td>(\\ lower case d)</td><td nowrap>a digit, [0-9]</td></tr>\n",
    "        <tr><th>\\D</th><td>(\\ upper case D)</td><td nowrap>a non-digit</td></tr>\n",
    "        <tr><th>\\s</th><td>(\\ lower case s)</td><td nowrap>a \"whitespace\" character, [\\n\\r\\t\\f]</td></tr>\n",
    "        <tr><th>\\S</th><td>(\\ upper case S</td><td nowrap>a non-writespace character</td></tr>\n",
    "        <tr><th>\\w</th><td>(\\ lower case w)</td><td nowrap>a \"word\" character</td></tr>\n",
    "        <tr><th>\\W</th><td>(\\ upper case W)</td><td nowrap>a non-word character</td></tr>\n",
    "        <tr><th>[abc]</th><td></td><td>matches character a, b or c</td></tr>\n",
    "        <tr><th>[a-z]</th><td></td><td>matches any single lower-cased characater</td></tr>\n",
    "        <tr><th>[2468]</th><td></td><td>matches one digit which is either 2, 4, 6, or 8</td></tr>\n",
    "    </table>\n",
    "\n",
    "* The following matches not a character, but a boundary:\n",
    "\n",
    "    <table>\n",
    "        <tr><th>Pattern</th><th>(Description)</th><th>Matches</th></tr>\n",
    "        <tr><th>\\b</th><td>\\ lower case b</td><td>a boundary between a word and a non-word character</td></tr>\n",
    "        <tr><th>^</th><td>(caret)</td><td>the beginning of a text string</td></tr>\n",
    "        <tr><th>\\$</th><td></td><td>the end of a text string</th></tr>\n",
    "    </table>\n"
   ]
  },
  {
   "cell_type": "code",
   "execution_count": 223,
   "metadata": {
    "collapsed": false
   },
   "outputs": [
    {
     "name": "stdout",
     "output_type": "stream",
     "text": [
      "found: 555-1234\n"
     ]
    }
   ],
   "source": [
    "import re\n",
    "\n",
    "text = \"This is my phone number 555-1234. Call me at 9:00am!\"\n",
    "pattern = r\"\\d\\d\\d-\\d\\d\\d\\d\"\n",
    "\n",
    "match = re.search(pattern, text)\n",
    "\n",
    "if match:\n",
    "    print \"found:\", match.group()\n",
    "else:\n",
    "    print \"not found\""
   ]
  },
  {
   "cell_type": "markdown",
   "metadata": {
    "collapsed": true,
    "slideshow": {
     "slide_type": "slide"
    }
   },
   "source": [
    "## Quiz. Write a regex pattern that matches 9:00 am"
   ]
  },
  {
   "cell_type": "code",
   "execution_count": 224,
   "metadata": {
    "collapsed": false
   },
   "outputs": [
    {
     "name": "stdout",
     "output_type": "stream",
     "text": [
      "found: \n"
     ]
    }
   ],
   "source": [
    "import re\n",
    "\n",
    "text = \"This is my phone number, 555-1234. Call me at 9:00 am!\"\n",
    "pattern = r\"\" # replace this with your pattern\n",
    "\n",
    "match = re.search(pattern, text)\n",
    "\n",
    "if match:\n",
    "    print \"found:\", match.group()\n",
    "else:\n",
    "    print \"not found\""
   ]
  },
  {
   "cell_type": "markdown",
   "metadata": {
    "slideshow": {
     "slide_type": "slide"
    }
   },
   "source": [
    "## Examples"
   ]
  },
  {
   "cell_type": "code",
   "execution_count": 225,
   "metadata": {
    "collapsed": false
   },
   "outputs": [],
   "source": [
    "import re\n",
    "\n",
    "text = \"Lunch will be served at 12:00 pm.\"\n",
    "\n",
    "match = re.search(r\"..nch\", text)           # match.group() == \"Lunch\"\n",
    "match = re.search(r\".unc[a-z]\", text)       # match.group() == \"Lunch\"\n",
    "match = re.search(r\"lunch\", text)           # match == None\n",
    "match = re.search(r\"L\\w\\w\\w\\w\", text)       # match.group() == \"Lunch\"\n",
    "\n",
    "match = re.search(r\"\\d\\d:\\d\\d [ap]m\", text) # match.group() == \"12:00 pm\"\n",
    "match = re.search(r\"s...ed\", text)          # match.group() == \"served\"\n",
    "\n",
    "match = re.search(r\"^...\", text)            # match.group() == \"Lun\"\n",
    "match = re.search(r\".e\\b\", text)            # match.group() == \"be\"\n",
    "match = re.search(r\"....\\W$\", text)         # match.group() == \"0 pm.\""
   ]
  },
  {
   "cell_type": "code",
   "execution_count": 226,
   "metadata": {
    "collapsed": false,
    "slideshow": {
     "slide_type": "slide"
    }
   },
   "outputs": [],
   "source": [
    "# let's just take a break. unquote to open the web page\n",
    "import webbrowser\n",
    "# webbrowser.open(\"http://tinyurl.com/mh9olpo\")"
   ]
  },
  {
   "cell_type": "markdown",
   "metadata": {
    "slideshow": {
     "slide_type": "slide"
    }
   },
   "source": [
    "## Repetition"
   ]
  },
  {
   "cell_type": "markdown",
   "metadata": {},
   "source": [
    "<table>\n",
    "    <tr><th>pattern</th><th>matches</th><th>equivalent to</th></tr>\n",
    "    <tr><th>*</th><td>0 or more occurrences of the pattern to its left</td><td>{0,}</td></tr>\n",
    "    <tr><th>+</th><td>1 or more occurrences of the pattern to its left</td><td>{1,}</td></tr>\n",
    "    <tr><th>?</th><td>0 or 1 occurrences of the pattern to its left</td><td>{0,1}</td></tr>\n",
    "</table>\n",
    "\n",
    "The search finds the earliest (leftmost) matching sub-text for the pattern then it tries to use up as many characters as possible for the repetition. (The + and * are said to be _greedy_.)\n",
    "\n",
    "You can also specify repetitions with curly brackets ({  })\n",
    "<table>\n",
    "    <tr><th>pattern</th><th>matches</th></tr>\n",
    "    <tr><th>{m}</th><td>exactly m occurrences of the pattern to its left</td>\n",
    "    <tr><th>{m,n}</th><td>from m occurrences (default $0$) to n times (default $+\\infty$) of the pattern to its left</td></tr>\n",
    "</table>"
   ]
  },
  {
   "cell_type": "code",
   "execution_count": 227,
   "metadata": {
    "collapsed": false
   },
   "outputs": [
    {
     "name": "stdout",
     "output_type": "stream",
     "text": [
      "match: oooooooo\n"
     ]
    }
   ],
   "source": [
    "import re\n",
    "\n",
    "text = \"Vroooooooom Vrooom   Vroom\"\n",
    "pattern = r\"o+\"\n",
    "\n",
    "match = re.search(pattern, text)\n",
    "if match:\n",
    "    print \"match:\", match.group()\n",
    "else:\n",
    "    print \"no match\""
   ]
  },
  {
   "cell_type": "markdown",
   "metadata": {
    "slideshow": {
     "slide_type": "slide"
    }
   },
   "source": [
    "## Repetition Examples"
   ]
  },
  {
   "cell_type": "code",
   "execution_count": 228,
   "metadata": {
    "collapsed": false,
    "slideshow": {
     "slide_type": "-"
    }
   },
   "outputs": [],
   "source": [
    "import re\n",
    "\n",
    "text = \"Vroooooooom Vrooom   Vroom\"\n",
    "\n",
    "match = re.search(r\"Vro+m\", text)     # match.group() == \"Vroooooooom\"\n",
    "match = re.search(r\"A+\", text)        # match == None\n",
    "match = re.search(r\"\\w+\\s+\\w+\\s+\\w+\", text) # three words separated by 1+ spaces\n",
    "\n",
    "match = re.search(r\"A*\", text)        # len(match.group()) == 0\n",
    "match = re.search(r\"\\w*m\", text)      # match.group() == \"Vroooooooom\"\n",
    "match = re.search(r\"\\w*$\", text)      # match.group() == \"Vroom\"\n",
    "\n",
    "match = re.search(r\"Vroo?m\", text)    # match.group() == \"Vroom\"\n",
    "match = re.search(r\"\\s\\s+\\w+\", text)  # match.group() == \"Vroom\"\n",
    "match = re.search(r\"\\s\\s*\\w+\", text)  # match.group() == \"Vrooom\"\n",
    "\n",
    "match = re.search(r\"\\b\\w+\", text)     # match.group() == \"Vroooooooom\"\n",
    "match = re.search(r\"^\\b\\w+\", text)    # match.group() == \"Vroooooooom\"\n",
    "\n",
    "match = re.search(r\"Vro{3}m\", text)   # match.group() == \"Vrooom\"\n",
    "match = re.search(r\"Vro{0,7}m\", text) # match.group() == \"Vrooom\"\n",
    "match = re.search(r\"Vro{4,7}m\", text) # match == None"
   ]
  },
  {
   "cell_type": "markdown",
   "metadata": {
    "collapsed": false,
    "slideshow": {
     "slide_type": "slide"
    }
   },
   "source": [
    "## Character Classes or Square Brackets"
   ]
  },
  {
   "cell_type": "markdown",
   "metadata": {
    "collapsed": true
   },
   "source": [
    "- matches a single character\n",
    "- you can list a set of characters to match. `[aeiou]` matches any vowel\n",
    "- complement set can be specified by a caret (`^`). For example, `[^aeiou]` matches anything but a vowel. Notice that the caret should be the first character in within the brackets. Outside the brackets, the caret (`^`) matches the beginning of the text.\n",
    "- ranges can be specified. `[0-9]` matches a digit\n",
    "- you can use special sequences like `\\w`, `\\d`, `\\s` and the like.\n",
    "- dot (`.`) within the brackets represents a dot, not any character.\n",
    "- in fact, there are very few special characters within the character classes, including: `^` (complement), `-` (range), and `]` (signals the end of the character class)\n",
    "- an example of matching email addresses."
   ]
  },
  {
   "cell_type": "code",
   "execution_count": 229,
   "metadata": {
    "collapsed": false
   },
   "outputs": [
    {
     "name": "stdout",
     "output_type": "stream",
     "text": [
      "match: funny.changarilla@princeton.edu\n"
     ]
    }
   ],
   "source": [
    "import re\n",
    "\n",
    "text = \"This is my email address: funny.changarilla@princeton.edu\"\n",
    "pattern = r\"[\\w.]+@[\\w.]+\"\n",
    "\n",
    "match = re.search(pattern, text)\n",
    "\n",
    "if match:\n",
    "    print \"match:\", match.group()\n",
    "else:\n",
    "    print \"no match\""
   ]
  },
  {
   "cell_type": "markdown",
   "metadata": {
    "slideshow": {
     "slide_type": "slide"
    }
   },
   "source": [
    "## Groups or parentheses"
   ]
  },
  {
   "cell_type": "markdown",
   "metadata": {},
   "source": [
    "- Groups let you pick out parts of the matching string\n",
    "- Use parentheses to make groups\n",
    "- Let's group the email pattern by username and hostname. See below example"
   ]
  },
  {
   "cell_type": "code",
   "execution_count": 230,
   "metadata": {
    "collapsed": false,
    "scrolled": true
   },
   "outputs": [
    {
     "name": "stdout",
     "output_type": "stream",
     "text": [
      "match.group(): funny.changarilla@princeton.edu\n",
      "match.group(1): funny.changarilla\n",
      "match.group(2): princeton.edu\n"
     ]
    }
   ],
   "source": [
    "import re\n",
    "\n",
    "text = \"This is my email address: funny.changarilla@princeton.edu\"\n",
    "pattern = r\"([\\w.]+)@([\\w.]+)\"\n",
    "\n",
    "match = re.search(pattern, text)\n",
    "\n",
    "if match:\n",
    "    print \"match.group():\", match.group()\n",
    "    print \"match.group(1):\", match.group(1)\n",
    "    print \"match.group(2):\", match.group(2)\n",
    "else:\n",
    "    print \"no match\""
   ]
  },
  {
   "cell_type": "markdown",
   "metadata": {
    "slideshow": {
     "slide_type": "slide"
    }
   },
   "source": [
    "## What Else Does the Match Object Return?"
   ]
  },
  {
   "cell_type": "code",
   "execution_count": 231,
   "metadata": {
    "collapsed": false
   },
   "outputs": [
    {
     "name": "stdout",
     "output_type": "stream",
     "text": [
      "match.start(): 25\n",
      "match.end(): 45\n",
      "match.span(): (25, 45)\n"
     ]
    }
   ],
   "source": [
    "import re\n",
    "\n",
    "text = \"This is my email address cchung@princeton.edu, email me!\"\n",
    "pattern = r\"([\\w.]+)@([\\w.]+)\"\n",
    "\n",
    "match = re.search(pattern, text)\n",
    "#print dir(match)\n",
    "\n",
    "if match:\n",
    "    print \"match.start():\", match.start()\n",
    "    print \"match.end():\", match.end()\n",
    "    print \"match.span():\", match.span()"
   ]
  },
  {
   "cell_type": "markdown",
   "metadata": {
    "slideshow": {
     "slide_type": "slide"
    }
   },
   "source": [
    "## Alternation (`|`)"
   ]
  },
  {
   "cell_type": "markdown",
   "metadata": {},
   "source": [
    "`pattern_A|pattern_B` matches either `pattern_A` *or* `pattern_B`"
   ]
  },
  {
   "cell_type": "code",
   "execution_count": 232,
   "metadata": {
    "collapsed": false
   },
   "outputs": [
    {
     "name": "stdout",
     "output_type": "stream",
     "text": [
      "match: dog\n"
     ]
    }
   ],
   "source": [
    "import re\n",
    "\n",
    "text = \"I love a dog. You love a cat.\"\n",
    "pattern = r\"dog|cat\"\n",
    "\n",
    "match = re.search(pattern, text)\n",
    "\n",
    "if match:\n",
    "    print \"match:\", match.group()\n",
    "else:\n",
    "    print \"no match\""
   ]
  },
  {
   "cell_type": "markdown",
   "metadata": {
    "slideshow": {
     "slide_type": "slide"
    }
   },
   "source": [
    "## Escaping Meta-characters"
   ]
  },
  {
   "cell_type": "code",
   "execution_count": 233,
   "metadata": {
    "collapsed": false
   },
   "outputs": [
    {
     "name": "stdout",
     "output_type": "stream",
     "text": [
      "match: search()\n"
     ]
    }
   ],
   "source": [
    "import re\n",
    "\n",
    "text = \"re.search() returns the 1st match. re.findall() returns a [list]\"\n",
    "pattern = r\"\\w+\\(\\)\"    # use the slash to escape\n",
    "\n",
    "match = re.search(pattern, text)\n",
    "\n",
    "if match:\n",
    "    print \"match:\", match.group()\n",
    "else:\n",
    "    print \"no match\""
   ]
  },
  {
   "cell_type": "markdown",
   "metadata": {
    "slideshow": {
     "slide_type": "slide"
    }
   },
   "source": [
    "## Options or Compilation Flags"
   ]
  },
  {
   "cell_type": "markdown",
   "metadata": {},
   "source": [
    "- `I` or `IGNORECASE` performs case-insentive matching\n",
    "- `M` or `MULTILINE` does multi-line matching, affecting `^` and `$`\n",
    "- `S` or `DOTALL` makes the dot `.` match any character including the newline `\\n`\n",
    "- Multiple options can be specified by concatenating with pipes (`|`)"
   ]
  },
  {
   "cell_type": "code",
   "execution_count": 234,
   "metadata": {
    "collapsed": false
   },
   "outputs": [
    {
     "name": "stdout",
     "output_type": "stream",
     "text": [
      "match: Substitution can be done with re.sub(pattern, text).\n",
      "and splits with re.split(pattern, text).\n",
      "\n"
     ]
    }
   ],
   "source": [
    "import re\n",
    "\n",
    "text = \"\"\"Substitution can be done with re.sub(pattern, text).\n",
    "and splits with re.split(pattern, text).\n",
    "\"\"\"\n",
    "pattern = r\"sub.+\"\n",
    "\n",
    "match = re.search(pattern, text, re.IGNORECASE | re.DOTALL)\n",
    "\n",
    "if match:\n",
    "    print \"match:\", match.group()\n",
    "else:\n",
    "    print \"no match\""
   ]
  },
  {
   "cell_type": "markdown",
   "metadata": {
    "slideshow": {
     "slide_type": "slide"
    }
   },
   "source": [
    "## Quiz: Write a regex pattern to match any adverb"
   ]
  },
  {
   "cell_type": "markdown",
   "metadata": {},
   "source": [
    "Hint: Let's define an adverb as a word that ends with \"ly\". You can use any text, or use the text given below.\n",
    "\n"
   ]
  },
  {
   "cell_type": "code",
   "execution_count": 235,
   "metadata": {
    "collapsed": true
   },
   "outputs": [],
   "source": [
    "import re\n",
    "\n",
    "text = \"\"\"\n",
    "Once upon a time, there was a beautiful princess who had a golden ball.\n",
    "She lived in a palace with her father, the King, and her seven sisters.\n",
    "Every day she played with her ball in the garden of the palace.\n",
    "At the end of the garden there was a deep, dark lake. Unfortunately, \n",
    "one day she dropped her golden ball into the water. She was very unhappy\n",
    "and she sat on the grass and started to cry. Suddenly, she heard a voice:\n",
    "\"Don't cry, princess\".\n",
    "She opened her eyes and saw a large green frog. \"Oh, please help me!\"\n",
    "she said, \"I can't get my ball.\"\n",
    "\"I'll help you\", said the frog, \"if I can com and live with you in the\n",
    "palace!\"\n",
    "\"Yes, yes, of course. I promise,\" said the princess.\n",
    "So the frog jumped into the water and cam back with the ball.\n",
    "The princess laghed and took the ball. She ran quickly back to the palace\n",
    "and forgot all about the frog.\n",
    "\"\"\""
   ]
  },
  {
   "cell_type": "markdown",
   "metadata": {
    "slideshow": {
     "slide_type": "slide"
    }
   },
   "source": [
    "## Quiz. Find all the adverbs in the text"
   ]
  },
  {
   "cell_type": "markdown",
   "metadata": {},
   "source": [
    "Hint: The function `re.findall(pattern, text)` returns all the matching sub-text as a list.\n"
   ]
  },
  {
   "cell_type": "markdown",
   "metadata": {
    "slideshow": {
     "slide_type": "slide"
    }
   },
   "source": [
    "## Quiz. Validate a poker hand"
   ]
  },
  {
   "cell_type": "markdown",
   "metadata": {},
   "source": [
    "Suppose that you are writing a poker program where a player's\n",
    "hand is represented as a five-character string with each character\n",
    "representing a card, \"a\" for ace, \"k\" for king, \"q\" for queen, \"j\"\n",
    "for jack, 't\" for 10, and \"2\" through \"9\" representing the card\n",
    "with that value.\n",
    "\n",
    "Write a pattern to validate a hand. It does not have to be very thorough. Just to pass the test cases shown below."
   ]
  },
  {
   "cell_type": "code",
   "execution_count": 236,
   "metadata": {
    "collapsed": false
   },
   "outputs": [],
   "source": [
    "import re\n",
    "\n",
    "pattern = r\"\"  # replace this with your pattern\n",
    "\n",
    "match = re.search(pattern, \"245\")         # match == None\n",
    "match = re.search(pattern, \"a 334\")       # match == None\n",
    "match = re.search(pattern, \"akt5q\")       # match.group() == \"akt5q\"\n",
    "match = re.search(pattern, \"akt5e\")       # match == None\n",
    "match = re.search(pattern, \"727ak\")       # match.group() == \"727ak\"\n",
    "match = re.search(pattern, \" akt34\")      # match == None\n",
    "match = re.search(pattern, \"23456  \")     # match == None"
   ]
  },
  {
   "cell_type": "markdown",
   "metadata": {
    "slideshow": {
     "slide_type": "slide"
    }
   },
   "source": [
    "## Learning Resources"
   ]
  },
  {
   "cell_type": "markdown",
   "metadata": {},
   "source": [
    "- Official [Reference](https://docs.python.org/2/library/re.html) and Kuchling's [HowTo](https://docs.python.org/2/howto/regex.html#regex-howto)\n",
    "- Friedl's book, [Mastering Regular Expressions](http://www.amazon.com/Mastering-Regular-Expressions-Jeffrey-Friedl/dp/0596528124/)\n",
    "- Google Developers site Python Course [Chapter](https://developers.google.com/edu/python/regular-expressions)\n",
    "- Tartley (Jonathan Hartley)'s [Cheatsheet](https://github.com/tartley/python-regex-cheatsheet/releases/download/v0.3.3/cheatsheet.pdf)"
   ]
  }
 ],
 "metadata": {
  "celltoolbar": "Slideshow",
  "kernelspec": {
   "display_name": "Python 2",
   "language": "python",
   "name": "python2"
  },
  "language_info": {
   "codemirror_mode": {
    "name": "ipython",
    "version": 2
   },
   "file_extension": ".py",
   "mimetype": "text/x-python",
   "name": "python",
   "nbconvert_exporter": "python",
   "pygments_lexer": "ipython2",
   "version": "2.7.9"
  }
 },
 "nbformat": 4,
 "nbformat_minor": 0
}
