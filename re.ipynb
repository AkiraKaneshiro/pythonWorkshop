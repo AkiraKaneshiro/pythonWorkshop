{
 "cells": [
  {
   "cell_type": "markdown",
   "metadata": {
    "slideshow": {
     "slide_type": "slide"
    }
   },
   "source": [
    "# Introduction to Regular Expressions"
   ]
  },
  {
   "cell_type": "markdown",
   "metadata": {
    "slideshow": {
     "slide_type": "-"
    }
   },
   "source": [
    "![caption](files/graphics/re.png)"
   ]
  },
  {
   "cell_type": "markdown",
   "metadata": {},
   "source": [
    "<small>Note: Image by <a href=\"https://wiki.python.org/moin/LionKimbro\">Lion Kimbro</a> downloaded from <a href=\"https://wiki.python.org/moin/RegularExpression\">Python Wiki</a> on Apr. 14, 2015.</small>"
   ]
  },
  {
   "cell_type": "markdown",
   "metadata": {
    "slideshow": {
     "slide_type": "slide"
    }
   },
   "source": [
    "## What is RegEx?"
   ]
  },
  {
   "cell_type": "markdown",
   "metadata": {},
   "source": [
    "- Regular expressions (REs, regex or regex patterns) are an essential tool for processing text data.\n",
    "- It is a tiny, specialized (programming) language embedded inside other general purpose languages like Perl, Python, R, and Stata.\n",
    "- The *re* module in Python provides regex related functions and objects."
   ]
  },
  {
   "cell_type": "markdown",
   "metadata": {
    "slideshow": {
     "slide_type": "slide"
    }
   },
   "source": [
    "## What can we do with a RegEx?"
   ]
  },
  {
   "cell_type": "markdown",
   "metadata": {},
   "source": [
    "- To search _text_ for a part that matches a regex _pattern_"
   ]
  },
  {
   "cell_type": "markdown",
   "metadata": {},
   "source": [
    "You can also do:\n",
    "\n",
    "- To match the beginning of the _text_ with a _pattern_  (`re.match()`)\n",
    "- To get all that match a _pattern_  (`re.findall()`, `re.finditer()`)\n",
    "- To substitute matches with replacement (`re.sub()`)\n",
    "- To split _text_ at the matches (`re.split()`)"
   ]
  },
  {
   "cell_type": "markdown",
   "metadata": {
    "slideshow": {
     "slide_type": "slide"
    }
   },
   "source": [
    "## An Example"
   ]
  },
  {
   "cell_type": "code",
   "execution_count": 1,
   "metadata": {
    "collapsed": false
   },
   "outputs": [
    {
     "data": {
      "text/html": [
       "<iframe src=http://opr.princeton.edu/faculty/ width=700 height=350></iframe>"
      ],
      "text/plain": [
       "<IPython.core.display.HTML object>"
      ]
     },
     "execution_count": 1,
     "metadata": {},
     "output_type": "execute_result"
    }
   ],
   "source": [
    "# show the opr faculty page\n",
    "from IPython.display import HTML\n",
    "\n",
    "url = \"http://opr.princeton.edu/faculty/\"\n",
    "HTML('<iframe src=' + url + ' width=700 height=350></iframe>')\n"
   ]
  },
  {
   "cell_type": "code",
   "execution_count": 2,
   "metadata": {
    "collapsed": false
   },
   "outputs": [
    {
     "name": "stdout",
     "output_type": "stream",
     "text": [
      "\r\n",
      "<!DOCTYPE html>\r\n",
      "<head><meta http-equiv=\"Content-Type\" content=\"text/html; charset=utf-8\" /><link rel=\"stylesheet\" type=\"text/css\" href=\"/opr.css\" /><title>\r\n",
      "\tOffice of Population Research, Princeton University\r\n",
      "</title> \r\n",
      "<script src=\"http://ajax.googleapis.com/ajax/libs/jquery/1.4.2/jquery.min.js\"></script> <script src='/scripts/hitch.js'></script>\r\n",
      "</head> \r\n",
      "<body style='margin:0;position:relative'> \r\n",
      "<a name=\"top\"></a> \r\n",
      "<form style='position:absolute;top:12px;left:578px' action=\"http://opr.princeton.edu/cse/\" id=\"cse-search-box\">\r\n",
      "  <div>\r\n",
      "    <input type=\"hidden\" name=\"cx\" value=\"011944897329676384373:yr8ay1y85_0\" />\r\n",
      "    <input type=\"hidden\" name=\"cof\" value=\"FORID:11\" />\r\n",
      "    <input type=\"hidden\" name=\"ie\" value=\"UTF-8\" />\r\n",
      "    <input type=\"text\" name=\"q\" size=\"31\" /><br/>\r\n",
      "    <input type=\"submit\" name=\"sa\" value=\"Search\" style='float:right'/>\r\n",
      "  </div>\r\n",
      "</form>\r\n",
      "<script type=\"text/javascript\" src=\"http://www.google.com/cse/brand?form=cse-search-box&lang=en\"></script>\r\n",
      "<img src=\"/images/OPRlogo.png\" style=\"display:block;border:0\"\r\n",
      " alt=\"The Office of Population Research at Princeton University\" usemap='#logo'>\r\n",
      "<map name='logo'> <area shape='rect' coords='0,0,166,76' href='/' alt='logo'/></map>\r\n",
      "<a href='/75'><img src='/images/opr75.jpg' style=\"position:absolute;top:4px; left:820px\" border='0' title='Click to visit our 75th anniversary page'/></a>\r\n",
      "\r\n",
      "<table cellspacing=\"0\" cellpadding=\"0\" style=\"border:0;width:900px;border-collapse:collapse\"> \r\n",
      "<tr><td width=\"160\" valign=\"top\"> \r\n",
      "<div style=\"padding: 0 12px 12px 12px\"> \r\n",
      "\r\n",
      "<h2>People</h2>\r\n",
      "\r\n",
      "<p class='indent'>\r\n",
      "<a class='nav' href='/admin/' title=\"OPR's administration\">Administration</a><br/> \r\n",
      "<a class='nav' href='/faculty/' title=\"Faculty and research associates, post-docs and visitors\">Faculty</a><br/> \r\n",
      "<a class='nav' href='/staff/' title=\"Administrative, computing, library, and research staff\">Staff</a><br/> \r\n",
      "<a class='nav' href='/students/' title=\"OPR graduate students, with links to individual pages\">Students</a><br/> \r\n",
      "<a class='nav' href='/jobs/' title=\"Current job openings at OPR\">Jobs</a>\r\n",
      "</p>\r\n",
      "<h2>Research</h2>\r\n",
      "<p class='indent'>\r\n",
      "<a class='nav' href='/research/' title=\"List of research projects by topic\">Projects</a><br/> \r\n",
      "<a class='nav' href='/seminars/' title=\"Notestein seminar schedule\">Seminars</a><br/> \r\n",
      "<a class='nav' href='/papers/' title=\"List of downloadable OPR working papers\">Working Papers<br />&nbsp;and Publications</a><br/> \r\n",
      "<a class='nav' href='/dissertations/' title=\"List of OPR dissertations\">Dissertations</a><br/> \r\n",
      "</p>\r\n",
      "<h2>Training</h2>\r\n",
      "<p class='indent'>\r\n",
      "<a class='nav' href='/training/prospect.aspx' title=\"Guide for Prospective Students\">Prospective &nbsp;Students</a><br/> \r\n",
      "<a class='nav' href='/training/' title=\"Demographic training at OPR\">Programs</a><br> \r\n",
      "<a class='nav' href='/courses/catalog' title=\"List of available courses\">Courses </a><br> \r\n",
      "<a class='nav' href='/courses/' title=\"Current course schedule\">Course Schedule</a><br> \r\n",
      "<a class='nav' href='/workshops/' title=\"Computing workshops\">Workshops</a><br>\r\n",
      "</p>\r\n",
      "<h2>Resources</h2>\r\n",
      "<p class='indent'>\r\n",
      "<a class='nav' href='/archive' title=\"OPR's data archive, including fragile families and other data\">Data Archive</a><br> \r\n",
      "<a class='nav' href='/library/' title=\"The Ansley J. Coale Population Research Collection\">Library</a><br> \r\n",
      "<a class='nav' href='http://popindex.princeton.edu' title=\"Population Index on the Web\">Pop Index</a><br> \r\n",
      "<a class='nav' href='http://libguides.princeton.edu/nih_public_access_policy' title=\"Guidelines for complying with the NIH Public Access Policy\">NIH Public <br/>&nbsp;&nbsp;&nbsp;&nbsp;Access Policy</a><br> \r\n",
      "\r\n",
      "\r\n",
      "<p><center><a href='http://wws.princeton.edu'><img border=0 src='/images/wwslogo.png'></a></center> \r\n",
      "<p><center><a href='http://www.princeton.edu'><img src='/images/pulogos.png' border='0'></a></center> \r\n",
      "<p><a class='nav' href='http://www.princeton.edu/Siteware/Search.shtml'> \r\n",
      "</div> \r\n",
      "</td><td width=\"506\" style=\"border-left:1px solid #ff8000;vertical-align:top\"> \r\n",
      "<div style=\"padding:12px;\"> \r\n",
      "<!-- Begin Main Contents --> \r\n",
      "\r\n",
      "<link rel=\"stylesheet\" type=\"text/css\" href=\"/gr-tabs.css\" />\r\n",
      "<script src=\"/scripts/gr-tabs3.js\"></script>\r\n",
      "<script>\r\n",
      "    var tabs;\r\n",
      "    var current = '';\r\n",
      "    $(document).ready(function() {\r\n",
      "        tabs = new GR.Tabs('tabs', function(href) {\r\n",
      "            if (current) $(current).hide();\r\n",
      "            $(href).show();\r\n",
      "            current = href;\r\n",
      "        });\r\n",
      "    });   \r\n",
      "</script>\r\n",
      "<style>\r\n",
      ".tab {display:none;}\r\n",
      "</style>\r\n",
      "\r\n",
      "<div id='tabs'>\r\n",
      "<a href='#Faculty'>Faculty</a>\r\n",
      "<a href='#PostDocs'>Postdocs</a>\r\n",
      "<a href='#Visitors'>Visitors</a>\r\n",
      "</div>\r\n",
      "<div >\r\n",
      "<div id='Faculty' class='tab'>\r\n",
      "<h2>Faculty and Research Scholars</h2>\r\n",
      "\r\n",
      "<table><tr><td><img src='/photos/adsera-small.jpg' alt=\"Adsera photo\" /></td>\r\n",
      "<td><span class='em'>Alicia  Adsera</span>, \r\n",
      "<i>Research Scholar, Woodrow Wilson School. Lecturer in Economics and International Affairs</i>. \r\n",
      " Ph.D., Economics, Boston University, 1996.\r\n",
      "<i>Interests: </i>fertility, household formation and labor market institutions, migration, income distribution and political economy, international and regional development, and press freedom.\r\n",
      "</td></tr></table>\r\n",
      "<br/>\r\n",
      "<table><tr><td><img src='/photos/altj-small.jpg' alt=\"Altmann photo\" /></td>\r\n",
      "<td><span class='em'>Jeanne  Altmann</span>, \r\n",
      "<i>Eugene Higgins Professor of Ecology and Evolutionary Biology, Emeritus</i>. \r\n",
      " Ph.D., Behavioral Sciences, University of Chicago, 1979.\r\n",
      "<i>Interests: </i>non-experimental research design and analysis, ecology and evolution of family relationships and of behavioral development; primate demography and life histories, parent-offspring relationships; infancy and the ontogeny of behavior and social relationships, conservation education and behavioral aspects of conservation.\r\n",
      "</td></tr></table>\r\n",
      "<br/>\r\n",
      "<table><tr><td><img src='/photos/ema-small.jpg' alt=\"Armstrong photo\" /></td>\r\n",
      "<td><span class='em'>Elizabeth  Armstrong</span>, \r\n",
      "<i>Associate Professor of Public Affairs and Sociology</i>. \r\n",
      " Ph.D., Sociology and Demography, University of Pennsylvania, 1998.\r\n",
      "<i>Interests: </i>public health, the history and sociology of medicine, risk in obstetrics, and biomedical ethics.\r\n",
      "</td></tr></table>\r\n",
      "<br/>\r\n",
      "<table><tr><td><img src='/photos/jbiehl-small.jpg' alt=\"Biehl photo\" /></td>\r\n",
      "<td><span class='em'>João  Biehl</span>, \r\n",
      "<i>Susan Dod Brown Professor of Anthropology. Co-Director, Program in Global Health and Health Policy</i>. \r\n",
      " Ph.D., Anthropology, University of California, Berkeley, 1999.\r\n",
      "<i>Interests: </i>Socio-cultural and Medical Anthropology; Social Studies of Science and Technology; Global Health; Culture and Mental Illness; HIV/AIDS; Pharmaceuticals; Health and Human Rights; Religion and Society; Subjectivity; Ethnographic Methods; Contemporary Social Theory; Latin American Societies; Brazil.\r\n",
      "</td></tr></table>\r\n",
      "<br/>\r\n",
      "<table><tr><td><img src='/photos/accase-small.jpg' alt=\"Case photo\" /></td>\r\n",
      "<td><a href='http://www.princeton.edu/~accase' class='nav'><span class='em'>Anne C. Case</span></a>, \r\n",
      "<i>Alexander Stewart 1886 Professor of Economics and Public Affairs</i>. \r\n",
      " Ph.D., Economics, Princeton University, 1988.\r\n",
      "<i>Interests: </i>microeconomic foundations of development, health economics, public finance and labor economics.\r\n",
      "</td></tr></table>\r\n",
      "<br/>\r\n",
      "<table><tr><td><img src='/photos/jcurrie-small.jpg' alt=\"Currie photo\" /></td>\r\n",
      "<td><span class='em'>Janet M. Currie</span>, \r\n",
      "<i>Henry Putnam Professor of Economics and Public Affairs, Woodrow Wilson School. Chair, Department of Economics. Director, Center for Health and Wellbeing</i>. \r\n",
      " Ph.D., Economics, Princeton University, 1988.\r\n",
      "<i>Interests: </i>health and well-being of children.\r\n",
      "</td></tr></table>\r\n",
      "<br/>\r\n",
      "<table><tr><td><img src='/photos/rdancygi-small.jpg' alt=\"Dancygier photo\" /></td>\r\n",
      "<td><span class='em'>Rafaela  Dancygier</span>, \r\n",
      "<i>Assistant Professor of Politics and Public and International Affairs. Cyril E. Black U \n",
      "\n",
      " ... (many more lines) ... \n",
      "\n"
     ]
    }
   ],
   "source": [
    "# get the html for the page\n",
    "import urllib2\n",
    "\n",
    "url = \"http://opr.princeton.edu/faculty/\"\n",
    "text = urllib2.urlopen(url).read()\n",
    "print text[:8000], \"\\n\\n ... (many more lines) ... \\n\""
   ]
  },
  {
   "cell_type": "code",
   "execution_count": 3,
   "metadata": {
    "collapsed": false
   },
   "outputs": [
    {
     "name": "stdout",
     "output_type": "stream",
     "text": [
      "Alicia  Adsera\n",
      "Jeanne  Altmann\n",
      "Elizabeth  Armstrong\n",
      "João  Biehl\n",
      "Anne C. Case\n",
      "Janet M. Currie\n",
      "Rafaela  Dancygier\n",
      "Angus S. Deaton\n",
      "Elisabeth  Donahue\n",
      "Thomas J. Espenshade\n",
      "Patricia  Fernández-Kelly\n",
      "Susan  Fiske\n",
      "Ana Maria  Goldani\n",
      "Noreen  Goldman\n",
      "Bryan  Grenfell\n",
      "Jean  Grossman\n",
      "Tod G. Hamilton\n",
      "Jeffrey S. Hammer\n",
      "Douglas S. Massey\n",
      "Sara S. McLanahan\n",
      "C. Jessica E. Metcalf\n",
      "Daniel  Notterman\n",
      "Elizabeth L. Paluck\n",
      "Alejandro  Portes\n",
      "Germán  Rodríguez\n",
      "Matthew  Salganik\n",
      "Edward  Telles\n",
      "Marta  Tienda\n",
      "James  Trussell\n",
      "Tom S. Vogl\n",
      "Charles F. Westoff\n",
      "Jeanne  Brooks-Gunn\n",
      "Sharon H. Bzostek\n",
      "Pamela  Klebanov\n",
      "Abigail  Aiken\n",
      "Michelle  DeKlyen\n",
      "Rachel E. Goldberg\n",
      "Nicole K. Smith\n",
      "Katherine M. Tumlinson\n",
      "Brandon G. Wagner\n",
      "Postdocs\n",
      "Visitors\n"
     ]
    }
   ],
   "source": [
    "# extracting names of the faculty, visitors, and postdocs\n",
    "import re\n",
    "\n",
    "pattern = r\"<span class='em'>(.*?)</span>\"\n",
    "for name in re.findall(pattern, text):\n",
    "    print name"
   ]
  },
  {
   "cell_type": "markdown",
   "metadata": {
    "slideshow": {
     "slide_type": "slide"
    }
   },
   "source": [
    "## Another Example"
   ]
  },
  {
   "cell_type": "code",
   "execution_count": 4,
   "metadata": {
    "collapsed": false
   },
   "outputs": [
    {
     "name": "stdout",
     "output_type": "stream",
     "text": [
      "\n",
      " AAA  AAC  AAG  AAT  ACA  ACC  ACG  ACT <AGA> AGC <AGG> AGT  ATA \n",
      " CAA  CAC  CAG  CAT  CCA  CCC  CCG  CCT <CGA><CGC><CGG><CGT> CTA \n",
      " GAA  GAC  GAG  GAT  GCA  GCC  GCG  GCT  GGA  GGC  GGG  GGT  GTA \n",
      " TAA  TAC  TAG  TAT  TCA  TCC  TCG  TCT  TGA  TGC  TGG  TGT  TTA \n",
      "\n"
     ]
    }
   ],
   "source": [
    "import re\n",
    "\n",
    "text = \"\"\"\n",
    " AAA  AAC  AAG  AAT  ACA  ACC  ACG  ACT  AGA  AGC  AGG  AGT  ATA \n",
    " CAA  CAC  CAG  CAT  CCA  CCC  CCG  CCT  CGA  CGC  CGG  CGT  CTA \n",
    " GAA  GAC  GAG  GAT  GCA  GCC  GCG  GCT  GGA  GGC  GGG  GGT  GTA \n",
    " TAA  TAC  TAG  TAT  TCA  TCC  TCG  TCT  TGA  TGC  TGG  TGT  TTA \n",
    "\"\"\"\n",
    "\n",
    "# mach and highlight any DNA codons that code for Arginine\n",
    "pattern = r\"\\s(CG\\S|AG[AG])\\s\"\n",
    "replacement = r\"<\\g<1>>\"\n",
    "\n",
    "text = re.sub(pattern, replacement, text)\n",
    "print text"
   ]
  },
  {
   "cell_type": "markdown",
   "metadata": {
    "slideshow": {
     "slide_type": "slide"
    }
   },
   "source": [
    "## Basic Search"
   ]
  },
  {
   "cell_type": "code",
   "execution_count": 5,
   "metadata": {
    "collapsed": false
   },
   "outputs": [
    {
     "name": "stdout",
     "output_type": "stream",
     "text": [
      "found: match\n"
     ]
    }
   ],
   "source": [
    "import re\n",
    "\n",
    "text = \"Most letters and characters will match themselves\"\n",
    "pattern = r\"mat\\w\\w\"\n",
    "\n",
    "match = re.search(pattern, text) # returns a match obj or None\n",
    "\n",
    "if match:\n",
    "    print \"found:\", match.group()\n",
    "else:\n",
    "    print \"not found\""
   ]
  },
  {
   "cell_type": "markdown",
   "metadata": {},
   "source": [
    "- `re.search(pattern, text)` returns a match object if found or `None` if not.\n",
    "- It is a good habit to put your regex pattern in a raw string\n",
    "- The pattern matches \"mat\" followed by any two *word characters*. A word character is a letter, digit, or an underscore character."
   ]
  },
  {
   "cell_type": "markdown",
   "metadata": {
    "slideshow": {
     "slide_type": "slide"
    }
   },
   "source": [
    "## Simple Patterns"
   ]
  },
  {
   "cell_type": "markdown",
   "metadata": {
    "slideshow": {
     "slide_type": "-"
    }
   },
   "source": [
    "* Letters and characters will match themselves\n",
    "* Meta-characters (i.e., `.` `^` `$` `*` `+` `?` `{` `}` `[` `]` `(` `)` `\\` `|`) don't match themselves -- they have special meanings"
   ]
  },
  {
   "cell_type": "markdown",
   "metadata": {
    "slideshow": {
     "slide_type": "slide"
    }
   },
   "source": [
    "## Matches a Single Character"
   ]
  },
  {
   "cell_type": "markdown",
   "metadata": {
    "slideshow": {
     "slide_type": "-"
    }
   },
   "source": [
    "* Basic patterns that match a single character:\n",
    "    \n",
    "    <table>\n",
    "        <tr><th>Pattern</th><th>(Description)</th><th>Matches</th></tr>\n",
    "        <tr><th>.</th><td>(dot)</td><td nowrap>any single character except newline</td></tr>\n",
    "        <tr><th>\\d</th><td>(\\ lower case d)</td><td nowrap>a digit, [0-9]</td></tr>\n",
    "        <tr><th>\\D</th><td>(\\ upper case D)</td><td nowrap>a non-digit</td></tr>\n",
    "        <tr><th>\\s</th><td>(\\ lower case s)</td><td nowrap>a \"whitespace\" character, [\\n\\r\\t\\f]</td></tr>\n",
    "        <tr><th>\\S</th><td>(\\ upper case S</td><td nowrap>a non-writespace character</td></tr>\n",
    "        <tr><th>\\w</th><td>(\\ lower case w)</td><td nowrap>a \"word\" character</td></tr>\n",
    "        <tr><th>\\W</th><td>(\\ upper case W)</td><td nowrap>a non-word character</td></tr>\n",
    "        <tr><th>[abc]</th><td></td><td>matches character a, b or c</td></tr>\n",
    "        <tr><th>[a-z]</th><td></td><td>matches any single lower-cased characater</td></tr>\n",
    "        <tr><th>[2468]</th><td></td><td>matches one digit which is either 2, 4, 6, or 8</td></tr>\n",
    "    </table>\n",
    "\n",
    "* The following matches not a character, but a boundary:\n",
    "\n",
    "    <table>\n",
    "        <tr><th>Pattern</th><th>(Description)</th><th>Matches</th></tr>\n",
    "        <tr><th>\\b</th><td>\\ lower case b</td><td>a boundary between a word and a non-word character</td></tr>\n",
    "        <tr><th>^</th><td>(caret)</td><td>the beginning of a text string</td></tr>\n",
    "        <tr><th>\\$</th><td></td><td>the end of a text string</th></tr>\n",
    "    </table>\n"
   ]
  },
  {
   "cell_type": "code",
   "execution_count": 6,
   "metadata": {
    "collapsed": false
   },
   "outputs": [
    {
     "name": "stdout",
     "output_type": "stream",
     "text": [
      "found: 555-1234\n"
     ]
    }
   ],
   "source": [
    "import re\n",
    "\n",
    "text = \"This is my phone number 555-1234. Call me at 9:00am!\"\n",
    "pattern = r\"\\d\\d\\d-\\d\\d\\d\\d\"\n",
    "\n",
    "match = re.search(pattern, text)\n",
    "\n",
    "if match:\n",
    "    print \"found:\", match.group()\n",
    "else:\n",
    "    print \"not found\""
   ]
  },
  {
   "cell_type": "markdown",
   "metadata": {
    "collapsed": true,
    "slideshow": {
     "slide_type": "slide"
    }
   },
   "source": [
    "## Quiz. Write a regex pattern that matches 9:00 am"
   ]
  },
  {
   "cell_type": "code",
   "execution_count": 7,
   "metadata": {
    "collapsed": false
   },
   "outputs": [
    {
     "name": "stdout",
     "output_type": "stream",
     "text": [
      "found: \n"
     ]
    }
   ],
   "source": [
    "import re\n",
    "\n",
    "text = \"This is my phone number, 555-1234. Call me at 9:00 am!\"\n",
    "pattern = r\"\" # replace this with your pattern\n",
    "\n",
    "match = re.search(pattern, text)\n",
    "\n",
    "if match:\n",
    "    print \"found:\", match.group()\n",
    "else:\n",
    "    print \"not found\""
   ]
  },
  {
   "cell_type": "markdown",
   "metadata": {
    "slideshow": {
     "slide_type": "slide"
    }
   },
   "source": [
    "## Examples"
   ]
  },
  {
   "cell_type": "code",
   "execution_count": 8,
   "metadata": {
    "collapsed": false
   },
   "outputs": [],
   "source": [
    "import re\n",
    "\n",
    "text = \"Lunch will be served at 12:00 pm.\"\n",
    "\n",
    "match = re.search(r\"..nch\", text)           # match.group() == \"Lunch\"\n",
    "match = re.search(r\".unc[a-z]\", text)       # match.group() == \"Lunch\"\n",
    "match = re.search(r\"lunch\", text)           # match == None\n",
    "match = re.search(r\"L\\w\\w\\w\\w\", text)       # match.group() == \"Lunch\"\n",
    "\n",
    "match = re.search(r\"\\d\\d:\\d\\d [ap]m\", text) # match.group() == \"12:00 pm\"\n",
    "match = re.search(r\"s...ed\", text)          # match.group() == \"served\"\n",
    "\n",
    "match = re.search(r\"^...\", text)            # match.group() == \"Lun\"\n",
    "match = re.search(r\".e\\b\", text)            # match.group() == \"be\"\n",
    "match = re.search(r\"....\\W$\", text)         # match.group() == \"0 pm.\""
   ]
  },
  {
   "cell_type": "code",
   "execution_count": 9,
   "metadata": {
    "collapsed": false,
    "slideshow": {
     "slide_type": "slide"
    }
   },
   "outputs": [],
   "source": [
    "# let's just take a break. unquote to open the web page\n",
    "import webbrowser\n",
    "# webbrowser.open(\"http://tinyurl.com/mh9olpo\")"
   ]
  },
  {
   "cell_type": "markdown",
   "metadata": {
    "slideshow": {
     "slide_type": "slide"
    }
   },
   "source": [
    "## Repetition"
   ]
  },
  {
   "cell_type": "markdown",
   "metadata": {},
   "source": [
    "<table>\n",
    "    <tr><th>pattern</th><th>matches</th><th>equivalent to</th></tr>\n",
    "    <tr><th>*</th><td>0 or more occurrences of the pattern to its left</td><td>{0,}</td></tr>\n",
    "    <tr><th>+</th><td>1 or more occurrences of the pattern to its left</td><td>{1,}</td></tr>\n",
    "    <tr><th>?</th><td>0 or 1 occurrences of the pattern to its left</td><td>{0,1}</td></tr>\n",
    "</table>\n",
    "\n",
    "The search finds the earliest (leftmost) matching sub-text for the pattern then it tries to use up as many characters as possible for the repetition. (The + and * are said to be _greedy_.)\n",
    "\n",
    "You can also specify repetitions with curly brackets ({  })\n",
    "<table>\n",
    "    <tr><th>pattern</th><th>matches</th></tr>\n",
    "    <tr><th>{m}</th><td>exactly m occurrences of the pattern to its left</td>\n",
    "    <tr><th>{m,n}</th><td>from m occurrences (default $0$) to n times (default $+\\infty$) of the pattern to its left</td></tr>\n",
    "</table>"
   ]
  },
  {
   "cell_type": "code",
   "execution_count": 10,
   "metadata": {
    "collapsed": false
   },
   "outputs": [
    {
     "name": "stdout",
     "output_type": "stream",
     "text": [
      "match: oooooooo\n"
     ]
    }
   ],
   "source": [
    "import re\n",
    "\n",
    "text = \"Vroooooooom Vrooom   Vroom\"\n",
    "pattern = r\"o+\"\n",
    "\n",
    "match = re.search(pattern, text)\n",
    "if match:\n",
    "    print \"match:\", match.group()\n",
    "else:\n",
    "    print \"no match\""
   ]
  },
  {
   "cell_type": "markdown",
   "metadata": {
    "slideshow": {
     "slide_type": "slide"
    }
   },
   "source": [
    "## Repetition Examples"
   ]
  },
  {
   "cell_type": "code",
   "execution_count": 11,
   "metadata": {
    "collapsed": false,
    "slideshow": {
     "slide_type": "-"
    }
   },
   "outputs": [],
   "source": [
    "import re\n",
    "\n",
    "text = \"Vroooooooom Vrooom   Vroom\"\n",
    "\n",
    "match = re.search(r\"Vro+m\", text)     # match.group() == \"Vroooooooom\"\n",
    "match = re.search(r\"A+\", text)        # match == None\n",
    "match = re.search(r\"\\w+\\s+\\w+\\s+\\w+\", text) # three words separated by 1+ spaces\n",
    "\n",
    "match = re.search(r\"A*\", text)        # len(match.group()) == 0\n",
    "match = re.search(r\"\\w*m\", text)      # match.group() == \"Vroooooooom\"\n",
    "match = re.search(r\"\\w*$\", text)      # match.group() == \"Vroom\"\n",
    "\n",
    "match = re.search(r\"Vroo?m\", text)    # match.group() == \"Vroom\"\n",
    "match = re.search(r\"\\s\\s+\\w+\", text)  # match.group() == \"Vroom\"\n",
    "match = re.search(r\"\\s\\s*\\w+\", text)  # match.group() == \"Vrooom\"\n",
    "\n",
    "match = re.search(r\"\\b\\w+\", text)     # match.group() == \"Vroooooooom\"\n",
    "match = re.search(r\"^\\b\\w+\", text)    # match.group() == \"Vroooooooom\"\n",
    "\n",
    "match = re.search(r\"Vro{3}m\", text)   # match.group() == \"Vrooom\"\n",
    "match = re.search(r\"Vro{0,7}m\", text) # match.group() == \"Vrooom\"\n",
    "match = re.search(r\"Vro{4,7}m\", text) # match == None"
   ]
  },
  {
   "cell_type": "markdown",
   "metadata": {
    "collapsed": false,
    "slideshow": {
     "slide_type": "slide"
    }
   },
   "source": [
    "## Character Classes or Square Brackets"
   ]
  },
  {
   "cell_type": "markdown",
   "metadata": {
    "collapsed": true
   },
   "source": [
    "- matches a single character\n",
    "- you can list a set of characters to match. `[aeiou]` matches any vowel\n",
    "- complement set can be specified by a caret (`^`). For example, `[^aeiou]` matches anything but a vowel. Notice that the caret should be the first character in within the brackets. Outside the brackets, the caret (`^`) matches the beginning of the text.\n",
    "- ranges can be specified. `[0-9]` matches a digit\n",
    "- you can use special sequences like `\\w`, `\\d`, `\\s` and the like.\n",
    "- dot (`.`) within the brackets represents a dot, not any character.\n",
    "- in fact, there are very few special characters within the character classes, including: `^` (complement), `-` (range), and `]` (signals the end of the character class)\n",
    "- an example of matching email addresses."
   ]
  },
  {
   "cell_type": "code",
   "execution_count": 12,
   "metadata": {
    "collapsed": false
   },
   "outputs": [
    {
     "name": "stdout",
     "output_type": "stream",
     "text": [
      "match: funny.changarilla@princeton.edu\n"
     ]
    }
   ],
   "source": [
    "import re\n",
    "\n",
    "text = \"This is my email address: funny.changarilla@princeton.edu\"\n",
    "pattern = r\"[\\w.]+@[\\w.]+\"\n",
    "\n",
    "match = re.search(pattern, text)\n",
    "\n",
    "if match:\n",
    "    print \"match:\", match.group()\n",
    "else:\n",
    "    print \"no match\""
   ]
  },
  {
   "cell_type": "markdown",
   "metadata": {
    "slideshow": {
     "slide_type": "slide"
    }
   },
   "source": [
    "## Groups or parentheses"
   ]
  },
  {
   "cell_type": "markdown",
   "metadata": {},
   "source": [
    "- Groups let you pick out parts of the matching string\n",
    "- Use parentheses to make groups\n",
    "- Let's group the email pattern by username and hostname. See below example"
   ]
  },
  {
   "cell_type": "code",
   "execution_count": 13,
   "metadata": {
    "collapsed": false,
    "scrolled": true
   },
   "outputs": [
    {
     "name": "stdout",
     "output_type": "stream",
     "text": [
      "match.group(): funny.changarilla@princeton.edu\n",
      "match.group(1): funny.changarilla\n",
      "match.group(2): princeton.edu\n"
     ]
    }
   ],
   "source": [
    "import re\n",
    "\n",
    "text = \"This is my email address: funny.changarilla@princeton.edu\"\n",
    "pattern = r\"([\\w.]+)@([\\w.]+)\"\n",
    "\n",
    "match = re.search(pattern, text)\n",
    "\n",
    "if match:\n",
    "    print \"match.group():\", match.group()\n",
    "    print \"match.group(1):\", match.group(1)\n",
    "    print \"match.group(2):\", match.group(2)\n",
    "else:\n",
    "    print \"no match\""
   ]
  },
  {
   "cell_type": "markdown",
   "metadata": {
    "slideshow": {
     "slide_type": "slide"
    }
   },
   "source": [
    "## What Else Does the Match Object Return?"
   ]
  },
  {
   "cell_type": "code",
   "execution_count": 14,
   "metadata": {
    "collapsed": false
   },
   "outputs": [
    {
     "name": "stdout",
     "output_type": "stream",
     "text": [
      "match.start(): 25\n",
      "match.end(): 56\n",
      "match.span(): (25, 56)\n"
     ]
    }
   ],
   "source": [
    "import re\n",
    "\n",
    "text = \"This is my email address funny.changarilla@princeton.edu, email me!\"\n",
    "        #----+----1----+----2----+----3----+----4----+----5----+-\n",
    "pattern = r\"([\\w.]+)@([\\w.]+)\"\n",
    "\n",
    "match = re.search(pattern, text)\n",
    "#print dir(match)\n",
    "\n",
    "if match:\n",
    "    print \"match.start():\", match.start()\n",
    "    print \"match.end():\", match.end()\n",
    "    print \"match.span():\", match.span()\n",
    "#    print \"text[match.start():match.end]:\", text[match.start():match.end()]"
   ]
  },
  {
   "cell_type": "markdown",
   "metadata": {
    "slideshow": {
     "slide_type": "slide"
    }
   },
   "source": [
    "## Alternation (`|`)"
   ]
  },
  {
   "cell_type": "markdown",
   "metadata": {},
   "source": [
    "`pattern_A|pattern_B` matches either `pattern_A` *or* `pattern_B`"
   ]
  },
  {
   "cell_type": "code",
   "execution_count": 15,
   "metadata": {
    "collapsed": false
   },
   "outputs": [
    {
     "name": "stdout",
     "output_type": "stream",
     "text": [
      "match: dog\n"
     ]
    }
   ],
   "source": [
    "import re\n",
    "\n",
    "text = \"I love a dog. You love a cat.\"\n",
    "pattern = r\"dog|cat\"\n",
    "\n",
    "match = re.search(pattern, text)\n",
    "\n",
    "if match:\n",
    "    print \"match:\", match.group()\n",
    "else:\n",
    "    print \"no match\""
   ]
  },
  {
   "cell_type": "markdown",
   "metadata": {
    "slideshow": {
     "slide_type": "slide"
    }
   },
   "source": [
    "## Escaping Meta-characters"
   ]
  },
  {
   "cell_type": "code",
   "execution_count": 16,
   "metadata": {
    "collapsed": false
   },
   "outputs": [
    {
     "name": "stdout",
     "output_type": "stream",
     "text": [
      "match: search()\n"
     ]
    }
   ],
   "source": [
    "import re\n",
    "\n",
    "text = \"re.search() returns the 1st match. re.findall() returns a [list]\"\n",
    "pattern = r\"\\w+\\(\\)\"    # use the slash to escape\n",
    "\n",
    "match = re.search(pattern, text)\n",
    "\n",
    "if match:\n",
    "    print \"match:\", match.group()\n",
    "else:\n",
    "    print \"no match\""
   ]
  },
  {
   "cell_type": "markdown",
   "metadata": {
    "slideshow": {
     "slide_type": "slide"
    }
   },
   "source": [
    "## Options or Compilation Flags"
   ]
  },
  {
   "cell_type": "markdown",
   "metadata": {},
   "source": [
    "- `I` or `IGNORECASE` performs case-insentive matching\n",
    "- `M` or `MULTILINE` does multi-line matching, affecting `^` and `$`\n",
    "- `S` or `DOTALL` makes the dot `.` match any character including the newline `\\n`\n",
    "- Multiple options can be specified by concatenating with pipes (`|`)"
   ]
  },
  {
   "cell_type": "code",
   "execution_count": 17,
   "metadata": {
    "collapsed": false
   },
   "outputs": [
    {
     "name": "stdout",
     "output_type": "stream",
     "text": [
      "match: Substitution can be done with re.sub(pattern, text).\n",
      "and splits with re.split(pattern, text).\n",
      "\n"
     ]
    }
   ],
   "source": [
    "import re\n",
    "\n",
    "text = \"\"\"Substitution can be done with re.sub(pattern, text).\n",
    "and splits with re.split(pattern, text).\n",
    "\"\"\"\n",
    "pattern = r\"sub.+\"\n",
    "\n",
    "match = re.search(pattern, text, re.IGNORECASE | re.DOTALL)\n",
    "\n",
    "if match:\n",
    "    print \"match:\", match.group()\n",
    "else:\n",
    "    print \"no match\""
   ]
  },
  {
   "cell_type": "markdown",
   "metadata": {
    "slideshow": {
     "slide_type": "slide"
    }
   },
   "source": [
    "## Quiz: Write a regex pattern to match any adverb"
   ]
  },
  {
   "cell_type": "markdown",
   "metadata": {},
   "source": [
    "Hint: Let's define an adverb as a word that ends with \"ly\". You can use any text, or use the text given below.\n",
    "\n"
   ]
  },
  {
   "cell_type": "code",
   "execution_count": 18,
   "metadata": {
    "collapsed": true
   },
   "outputs": [],
   "source": [
    "import re\n",
    "\n",
    "text = \"\"\"\n",
    "Once upon a time, there was a beautiful princess who had a golden ball.\n",
    "She lived in a palace with her father, the King, and her seven sisters.\n",
    "Every day she played with her ball in the garden of the palace.\n",
    "At the end of the garden there was a deep, dark lake. Unfortunately, \n",
    "one day she dropped her golden ball into the water. She was very unhappy\n",
    "and she sat on the grass and started to cry. Suddenly, she heard a voice:\n",
    "\"Don't cry, princess\".\n",
    "She opened her eyes and saw a large green frog. \"Oh, please help me!\"\n",
    "she said, \"I can't get my ball.\"\n",
    "\"I'll help you\", said the frog, \"if I can com and live with you in the\n",
    "palace!\"\n",
    "\"Yes, yes, of course. I promise,\" said the princess.\n",
    "So the frog jumped into the water and cam back with the ball.\n",
    "The princess laghed and took the ball. She ran quickly back to the palace\n",
    "and forgot all about the frog.\n",
    "\"\"\""
   ]
  },
  {
   "cell_type": "code",
   "execution_count": null,
   "metadata": {
    "collapsed": true
   },
   "outputs": [],
   "source": []
  },
  {
   "cell_type": "markdown",
   "metadata": {
    "slideshow": {
     "slide_type": "slide"
    }
   },
   "source": [
    "## Quiz. Find all the adverbs in the text"
   ]
  },
  {
   "cell_type": "markdown",
   "metadata": {},
   "source": [
    "Hint: The function `re.findall(pattern, text)` returns all the matching sub-text as a list.\n"
   ]
  },
  {
   "cell_type": "code",
   "execution_count": null,
   "metadata": {
    "collapsed": true
   },
   "outputs": [],
   "source": []
  },
  {
   "cell_type": "markdown",
   "metadata": {
    "slideshow": {
     "slide_type": "slide"
    }
   },
   "source": [
    "## Quiz. Validate a poker hand"
   ]
  },
  {
   "cell_type": "markdown",
   "metadata": {},
   "source": [
    "Suppose that you are writing a poker program where a player's\n",
    "hand is represented as a five-character string with each character\n",
    "representing a card, \"a\" for ace, \"k\" for king, \"q\" for queen, \"j\"\n",
    "for jack, 't\" for 10, and \"2\" through \"9\" representing the card\n",
    "with that value.\n",
    "\n",
    "Write a pattern to validate a hand. It does not have to be very thorough. Just to pass the test cases shown below."
   ]
  },
  {
   "cell_type": "code",
   "execution_count": 19,
   "metadata": {
    "collapsed": false
   },
   "outputs": [],
   "source": [
    "import re\n",
    "\n",
    "pattern = r\"\"  # replace this with your pattern\n",
    "\n",
    "match = re.search(pattern, \"245\")         # match == None\n",
    "match = re.search(pattern, \"a 334\")       # match == None\n",
    "match = re.search(pattern, \"akt5q\")       # match.group() == \"akt5q\"\n",
    "match = re.search(pattern, \"akt5e\")       # match == None\n",
    "match = re.search(pattern, \"727ak\")       # match.group() == \"727ak\"\n",
    "match = re.search(pattern, \" akt34\")      # match == None\n",
    "match = re.search(pattern, \"23456  \")     # match == None"
   ]
  },
  {
   "cell_type": "markdown",
   "metadata": {
    "slideshow": {
     "slide_type": "slide"
    }
   },
   "source": [
    "## Learning Resources"
   ]
  },
  {
   "cell_type": "markdown",
   "metadata": {},
   "source": [
    "- Official [Reference](https://docs.python.org/2/library/re.html) and Kuchling's [HowTo](https://docs.python.org/2/howto/regex.html#regex-howto)\n",
    "- Friedl's book, [Mastering Regular Expressions](http://www.amazon.com/Mastering-Regular-Expressions-Jeffrey-Friedl/dp/0596528124/)\n",
    "- Google Developers site Python Course [Chapter](https://developers.google.com/edu/python/regular-expressions)\n",
    "- Tartley (Jonathan Hartley)'s [Cheatsheet](https://github.com/tartley/python-regex-cheatsheet/releases/download/v0.3.3/cheatsheet.pdf)"
   ]
  }
 ],
 "metadata": {
  "celltoolbar": "Slideshow",
  "kernelspec": {
   "display_name": "Python 2",
   "language": "python",
   "name": "python2"
  },
  "language_info": {
   "codemirror_mode": {
    "name": "ipython",
    "version": 2
   },
   "file_extension": ".py",
   "mimetype": "text/x-python",
   "name": "python",
   "nbconvert_exporter": "python",
   "pygments_lexer": "ipython2",
   "version": "2.7.9"
  }
 },
 "nbformat": 4,
 "nbformat_minor": 0
}
