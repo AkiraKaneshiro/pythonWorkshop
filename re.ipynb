{
 "cells": [
  {
   "cell_type": "markdown",
   "metadata": {
    "slideshow": {
     "slide_type": "slide"
    }
   },
   "source": [
    "# Introduction to Regular Expressions"
   ]
  },
  {
   "cell_type": "markdown",
   "metadata": {
    "slideshow": {
     "slide_type": "-"
    }
   },
   "source": [
    "![caption](files/re.png)"
   ]
  },
  {
   "cell_type": "markdown",
   "metadata": {},
   "source": [
    "<small>Note: Image by <a href=\"https://wiki.python.org/moin/LionKimbro\">Lion Kimbro</a> downloaded from <a href=\"https://wiki.python.org/moin/RegularExpression\">Python Wiki</a> on Apr. 14, 2015.</small>"
   ]
  },
  {
   "cell_type": "markdown",
   "metadata": {
    "slideshow": {
     "slide_type": "slide"
    }
   },
   "source": [
    "## What is RegEx?"
   ]
  },
  {
   "cell_type": "markdown",
   "metadata": {},
   "source": [
    "- Regular expressions (REs, regex or regex patterns) are an essential tool for processing text data.\n",
    "- It is a tiny, specialized (programming) language embedded inside other general purpose languages like Perl, Python, R, and Stata.\n",
    "- The *re* module in Python provides regex related functions and objects."
   ]
  },
  {
   "cell_type": "markdown",
   "metadata": {
    "slideshow": {
     "slide_type": "slide"
    }
   },
   "source": [
    "## What can we do with a RegEx?"
   ]
  },
  {
   "cell_type": "markdown",
   "metadata": {},
   "source": [
    "- To search _text_ for a part that matches a regex _pattern_"
   ]
  },
  {
   "cell_type": "markdown",
   "metadata": {},
   "source": [
    "You can also do:\n",
    "\n",
    "- To match the beginning of the _text_ with a _pattern_  (`re.match()`)\n",
    "- To get all that match a _pattern_  (`re.findall()`, `re.finditer()`)\n",
    "- To substitute matches with replacement (`re.sub()`)\n",
    "- To split _text_ at the matches (`re.split()`)"
   ]
  },
  {
   "cell_type": "markdown",
   "metadata": {
    "slideshow": {
     "slide_type": "slide"
    }
   },
   "source": [
    "## An Example"
   ]
  },
  {
   "cell_type": "code",
   "execution_count": null,
   "metadata": {
    "collapsed": false
   },
   "outputs": [],
   "source": [
    "# show the opr faculty page\n",
    "from IPython.display import HTML\n",
    "\n",
    "url = \"http://opr.princeton.edu/faculty/\"\n",
    "HTML('<iframe src=' + url + ' width=700 height=350></iframe>')\n"
   ]
  },
  {
   "cell_type": "code",
   "execution_count": null,
   "metadata": {
    "collapsed": false
   },
   "outputs": [],
   "source": [
    "# get the html for the page\n",
    "import urllib2\n",
    "\n",
    "url = \"http://opr.princeton.edu/faculty/\"\n",
    "text = urllib2.urlopen(url).read()\n",
    "print text[:8000], \"\\n\\n ... (many more lines) ... \\n\""
   ]
  },
  {
   "cell_type": "code",
   "execution_count": null,
   "metadata": {
    "collapsed": false
   },
   "outputs": [],
   "source": [
    "# extracting names of the faculty, visitors, and postdocs\n",
    "import re\n",
    "\n",
    "pattern = r\"<span class='em'>(.*?)</span>\"\n",
    "for name in re.findall(pattern, text):\n",
    "    print name"
   ]
  },
  {
   "cell_type": "markdown",
   "metadata": {
    "slideshow": {
     "slide_type": "slide"
    }
   },
   "source": [
    "## Another Example"
   ]
  },
  {
   "cell_type": "code",
   "execution_count": null,
   "metadata": {
    "collapsed": false
   },
   "outputs": [],
   "source": [
    "import re\n",
    "\n",
    "text = \"\"\"\n",
    " AAA  AAC  AAG  AAT  ACA  ACC  ACG  ACT  AGA  AGC  AGG  AGT  ATA \n",
    " CAA  CAC  CAG  CAT  CCA  CCC  CCG  CCT  CGA  CGC  CGG  CGT  CTA \n",
    " GAA  GAC  GAG  GAT  GCA  GCC  GCG  GCT  GGA  GGC  GGG  GGT  GTA \n",
    " TAA  TAC  TAG  TAT  TCA  TCC  TCG  TCT  TGA  TGC  TGG  TGT  TTA \n",
    "\"\"\"\n",
    "\n",
    "# mach and highlight any DNA codons that code for Arginine\n",
    "pattern = r\"\\s(CG\\S|AG[AG])\\s\"\n",
    "replacement = r\"<\\g<1>>\"\n",
    "\n",
    "text = re.sub(pattern, replacement, text)\n",
    "print text"
   ]
  },
  {
   "cell_type": "markdown",
   "metadata": {
    "slideshow": {
     "slide_type": "slide"
    }
   },
   "source": [
    "## Basic Search"
   ]
  },
  {
   "cell_type": "code",
   "execution_count": null,
   "metadata": {
    "collapsed": false
   },
   "outputs": [],
   "source": [
    "import re\n",
    "\n",
    "text = \"Most letters and characters will match themselves\"\n",
    "pattern = r\"mat\\w\\w\"\n",
    "\n",
    "match = re.search(pattern, text) # returns a match obj or None\n",
    "\n",
    "if match:\n",
    "    print \"found:\", match.group()\n",
    "else:\n",
    "    print \"not found\""
   ]
  },
  {
   "cell_type": "markdown",
   "metadata": {},
   "source": [
    "- `re.search(pattern, text)` returns a match object if found or `None` if not.\n",
    "- It is a good habit to put your regex pattern in a raw string\n",
    "- The pattern matches \"mat\" followed by any two *word characters*. A word character is a letter, digit, or an underscore character."
   ]
  },
  {
   "cell_type": "markdown",
   "metadata": {
    "slideshow": {
     "slide_type": "slide"
    }
   },
   "source": [
    "## Simple Patterns"
   ]
  },
  {
   "cell_type": "markdown",
   "metadata": {
    "slideshow": {
     "slide_type": "-"
    }
   },
   "source": [
    "* Letters and characters will match themselves\n",
    "* Meta-characters (i.e., `.` `^` `$` `*` `+` `?` `{` `}` `[` `]` `(` `)` `\\` `|`) don't match themselves -- they have special meanings"
   ]
  },
  {
   "cell_type": "markdown",
   "metadata": {
    "slideshow": {
     "slide_type": "slide"
    }
   },
   "source": [
    "## Matches a Single Character"
   ]
  },
  {
   "cell_type": "markdown",
   "metadata": {
    "slideshow": {
     "slide_type": "-"
    }
   },
   "source": [
    "* Basic patterns that match a single character:\n",
    "    \n",
    "    <table>\n",
    "        <tr><th>Pattern</th><th>(Description)</th><th>Matches</th></tr>\n",
    "        <tr><th>.</th><td>(dot)</td><td nowrap>any single character except newline</td></tr>\n",
    "        <tr><th>\\d</th><td>(\\ lower case d)</td><td nowrap>a digit, [0-9]</td></tr>\n",
    "        <tr><th>\\D</th><td>(\\ upper case D)</td><td nowrap>a non-digit</td></tr>\n",
    "        <tr><th>\\s</th><td>(\\ lower case s)</td><td nowrap>a \"whitespace\" character, [\\n\\r\\t\\f]</td></tr>\n",
    "        <tr><th>\\S</th><td>(\\ upper case S</td><td nowrap>a non-writespace character</td></tr>\n",
    "        <tr><th>\\w</th><td>(\\ lower case w)</td><td nowrap>a \"word\" character</td></tr>\n",
    "        <tr><th>\\W</th><td>(\\ upper case W)</td><td nowrap>a non-word character</td></tr>\n",
    "        <tr><th>[abc]</th><td></td><td>matches character a, b or c</td></tr>\n",
    "        <tr><th>[a-z]</th><td></td><td>matches any single lower-cased characater</td></tr>\n",
    "        <tr><th>[2468]</th><td></td><td>matches one digit which is either 2, 4, 6, or 8</td></tr>\n",
    "    </table>\n",
    "\n",
    "* The following matches not a character, but a boundary:\n",
    "\n",
    "    <table>\n",
    "        <tr><th>Pattern</th><th>(Description)</th><th>Matches</th></tr>\n",
    "        <tr><th>\\b</th><td>\\ lower case b</td><td>a boundary between a word and a non-word character</td></tr>\n",
    "        <tr><th>^</th><td>(caret)</td><td>the beginning of a text string</td></tr>\n",
    "        <tr><th>\\$</th><td></td><td>the end of a text string</th></tr>\n",
    "    </table>\n"
   ]
  },
  {
   "cell_type": "code",
   "execution_count": null,
   "metadata": {
    "collapsed": false
   },
   "outputs": [],
   "source": [
    "import re\n",
    "\n",
    "text = \"This is my phone number 555-1234. Call me at 9:00am!\"\n",
    "pattern = r\"\\d\\d\\d-\\d\\d\\d\\d\"\n",
    "\n",
    "match = re.search(pattern, text)\n",
    "\n",
    "if match:\n",
    "    print \"found:\", match.group()\n",
    "else:\n",
    "    print \"not found\""
   ]
  },
  {
   "cell_type": "markdown",
   "metadata": {
    "collapsed": true,
    "slideshow": {
     "slide_type": "slide"
    }
   },
   "source": [
    "## Quiz. Write a regex pattern that matches 9:00 am"
   ]
  },
  {
   "cell_type": "code",
   "execution_count": null,
   "metadata": {
    "collapsed": false
   },
   "outputs": [],
   "source": [
    "import re\n",
    "\n",
    "text = \"This is my phone number, 555-1234. Call me at 9:00 am!\"\n",
    "pattern = r\"\" # replace this with your pattern\n",
    "\n",
    "match = re.search(pattern, text)\n",
    "\n",
    "if match:\n",
    "    print \"found:\", match.group()\n",
    "else:\n",
    "    print \"not found\""
   ]
  },
  {
   "cell_type": "markdown",
   "metadata": {
    "slideshow": {
     "slide_type": "slide"
    }
   },
   "source": [
    "## Examples"
   ]
  },
  {
   "cell_type": "code",
   "execution_count": null,
   "metadata": {
    "collapsed": false
   },
   "outputs": [],
   "source": [
    "import re\n",
    "\n",
    "text = \"Lunch will be served at 12:00 pm.\"\n",
    "\n",
    "match = re.search(r\"..nch\", text)           # match.group() == \"Lunch\"\n",
    "match = re.search(r\".unc[a-z]\", text)       # match.group() == \"Lunch\"\n",
    "match = re.search(r\"lunch\", text)           # match == None\n",
    "match = re.search(r\"L\\w\\w\\w\\w\", text)       # match.group() == \"Lunch\"\n",
    "\n",
    "match = re.search(r\"\\d\\d:\\d\\d [ap]m\", text) # match.group() == \"12:00 pm\"\n",
    "match = re.search(r\"s...ed\", text)          # match.group() == \"served\"\n",
    "\n",
    "match = re.search(r\"^...\", text)            # match.group() == \"Lun\"\n",
    "match = re.search(r\".e\\b\", text)            # match.group() == \"be\"\n",
    "match = re.search(r\"....\\W$\", text)         # match.group() == \"0 pm.\""
   ]
  },
  {
   "cell_type": "code",
   "execution_count": 16,
   "metadata": {
    "collapsed": false,
    "slideshow": {
     "slide_type": "slide"
    }
   },
   "outputs": [
    {
     "data": {
      "text/plain": [
       "True"
      ]
     },
     "execution_count": 16,
     "metadata": {},
     "output_type": "execute_result"
    }
   ],
   "source": [
    "# let's just take a break. unquote to open the web page\n",
    "import webbrowser\n",
    "webbrowser.open(\"http://tinyurl.com/mh9olpo\")"
   ]
  },
  {
   "cell_type": "markdown",
   "metadata": {
    "slideshow": {
     "slide_type": "slide"
    }
   },
   "source": [
    "## Repetition"
   ]
  },
  {
   "cell_type": "markdown",
   "metadata": {},
   "source": [
    "<table>\n",
    "    <tr><th>pattern</th><th>matches</th><th>equivalent to</th></tr>\n",
    "    <tr><th>*</th><td>0 or more occurrences of the pattern to its left</td><td>{0,}</td></tr>\n",
    "    <tr><th>+</th><td>1 or more occurrences of the pattern to its left</td><td>{1,}</td></tr>\n",
    "    <tr><th>?</th><td>0 or 1 occurrences of the pattern to its left</td><td>{0,1}</td></tr>\n",
    "</table>\n",
    "\n",
    "The search finds the earliest (leftmost) matching sub-text for the pattern then it tries to use up as many characters as possible for the repetition. (The + and * are said to be _greedy_.)\n",
    "\n",
    "You can also specify repetitions with curly brackets ({  })\n",
    "<table>\n",
    "    <tr><th>pattern</th><th>matches</th></tr>\n",
    "    <tr><th>{m}</th><td>exactly m occurrences of the pattern to its left</td>\n",
    "    <tr><th>{m,n}</th><td>from m occurrences (default $0$) to n times (default $+\\infty$) of the pattern to its left</td></tr>\n",
    "</table>"
   ]
  },
  {
   "cell_type": "code",
   "execution_count": null,
   "metadata": {
    "collapsed": false
   },
   "outputs": [],
   "source": [
    "import re\n",
    "\n",
    "text = \"Vroooooooom Vrooom   Vroom\"\n",
    "pattern = r\"o+\"\n",
    "\n",
    "match = re.search(pattern, text)\n",
    "if match:\n",
    "    print \"match:\", match.group()\n",
    "else:\n",
    "    print \"no match\""
   ]
  },
  {
   "cell_type": "markdown",
   "metadata": {
    "slideshow": {
     "slide_type": "slide"
    }
   },
   "source": [
    "## Repetition Examples"
   ]
  },
  {
   "cell_type": "code",
   "execution_count": null,
   "metadata": {
    "collapsed": false,
    "slideshow": {
     "slide_type": "-"
    }
   },
   "outputs": [],
   "source": [
    "import re\n",
    "\n",
    "text = \"Vroooooooom Vrooom   Vroom\"\n",
    "\n",
    "match = re.search(r\"Vro+m\", text)     # match.group() == \"Vroooooooom\"\n",
    "match = re.search(r\"A+\", text)        # match == None\n",
    "match = re.search(r\"\\w+\\s+\\w+\\s+\\w+\", text) # three words separated by 1+ spaces\n",
    "\n",
    "match = re.search(r\"A*\", text)        # len(match.group()) == 0\n",
    "match = re.search(r\"\\w*m\", text)      # match.group() == \"Vroooooooom\"\n",
    "match = re.search(r\"\\w*$\", text)      # match.group() == \"Vroom\"\n",
    "\n",
    "match = re.search(r\"Vroo?m\", text)    # match.group() == \"Vroom\"\n",
    "match = re.search(r\"\\s\\s+\\w+\", text)  # match.group() == \"Vroom\"\n",
    "match = re.search(r\"\\s\\s*\\w+\", text)  # match.group() == \"Vrooom\"\n",
    "\n",
    "match = re.search(r\"\\b\\w+\", text)     # match.group() == \"Vroooooooom\"\n",
    "match = re.search(r\"^\\b\\w+\", text)    # match.group() == \"Vroooooooom\"\n",
    "\n",
    "match = re.search(r\"Vro{3}m\", text)   # match.group() == \"Vrooom\"\n",
    "match = re.search(r\"Vro{0,7}m\", text) # match.group() == \"Vrooom\"\n",
    "match = re.search(r\"Vro{4,7}m\", text) # match == None"
   ]
  },
  {
   "cell_type": "markdown",
   "metadata": {
    "collapsed": false,
    "slideshow": {
     "slide_type": "slide"
    }
   },
   "source": [
    "## Character Classes or Square Brackets"
   ]
  },
  {
   "cell_type": "markdown",
   "metadata": {
    "collapsed": true
   },
   "source": [
    "- matches a single character\n",
    "- you can list a set of characters to match. `[aeiou]` matches any vowel\n",
    "- complement set can be specified by a caret (`^`). For example, `[^aeiou]` matches anything but a vowel. Notice that the caret should be the first character in within the brackets. Outside the brackets, the caret (`^`) matches the beginning of the text.\n",
    "- ranges can be specified. `[0-9]` matches a digit\n",
    "- you can use special sequences like `\\w`, `\\d`, `\\s` and the like.\n",
    "- dot (`.`) within the brackets represents a dot, not any character.\n",
    "- in fact, there are very few special characters within the character classes, including: `^` (complement), `-` (range), and `]` (signals the end of the character class)\n",
    "- an example of matching email addresses."
   ]
  },
  {
   "cell_type": "code",
   "execution_count": null,
   "metadata": {
    "collapsed": false
   },
   "outputs": [],
   "source": [
    "import re\n",
    "\n",
    "text = \"This is my email address: funny.changarilla@princeton.edu\"\n",
    "pattern = r\"[\\w.]+@[\\w.]+\"\n",
    "\n",
    "match = re.search(pattern, text)\n",
    "\n",
    "if match:\n",
    "    print \"match:\", match.group()\n",
    "else:\n",
    "    print \"no match\""
   ]
  },
  {
   "cell_type": "markdown",
   "metadata": {
    "slideshow": {
     "slide_type": "slide"
    }
   },
   "source": [
    "## Groups or parentheses"
   ]
  },
  {
   "cell_type": "markdown",
   "metadata": {},
   "source": [
    "- Groups let you pick out parts of the matching string\n",
    "- Use parentheses to make groups\n",
    "- Let's group the email pattern by username and hostname. See below example"
   ]
  },
  {
   "cell_type": "code",
   "execution_count": null,
   "metadata": {
    "collapsed": false,
    "scrolled": true
   },
   "outputs": [],
   "source": [
    "import re\n",
    "\n",
    "text = \"This is my email address: funny.changarilla@princeton.edu\"\n",
    "pattern = r\"([\\w.]+)@([\\w.]+)\"\n",
    "\n",
    "match = re.search(pattern, text)\n",
    "\n",
    "if match:\n",
    "    print \"match.group():\", match.group()\n",
    "    print \"match.group(1):\", match.group(1)\n",
    "    print \"match.group(2):\", match.group(2)\n",
    "else:\n",
    "    print \"no match\""
   ]
  },
  {
   "cell_type": "markdown",
   "metadata": {
    "slideshow": {
     "slide_type": "slide"
    }
   },
   "source": [
    "## What Else Does the Match Object Return?"
   ]
  },
  {
   "cell_type": "code",
   "execution_count": null,
   "metadata": {
    "collapsed": false
   },
   "outputs": [],
   "source": [
    "import re\n",
    "\n",
    "text = \"This is my email address funny.changarilla@princeton.edu, email me!\"\n",
    "        #----+----1----+----2----+----3----+----4----+----5----+-\n",
    "pattern = r\"([\\w.]+)@([\\w.]+)\"\n",
    "\n",
    "match = re.search(pattern, text)\n",
    "#print dir(match)\n",
    "\n",
    "if match:\n",
    "    print \"match.start():\", match.start()\n",
    "    print \"match.end():\", match.end()\n",
    "    print \"match.span():\", match.span()\n",
    "#    print \"text[match.start():match.end]:\", text[match.start():match.end()]"
   ]
  },
  {
   "cell_type": "markdown",
   "metadata": {
    "slideshow": {
     "slide_type": "slide"
    }
   },
   "source": [
    "## Alternation (`|`)"
   ]
  },
  {
   "cell_type": "markdown",
   "metadata": {},
   "source": [
    "`pattern_A|pattern_B` matches either `pattern_A` *or* `pattern_B`"
   ]
  },
  {
   "cell_type": "code",
   "execution_count": null,
   "metadata": {
    "collapsed": false
   },
   "outputs": [],
   "source": [
    "import re\n",
    "\n",
    "text = \"I love a dog. You love a cat.\"\n",
    "pattern = r\"dog|cat\"\n",
    "\n",
    "match = re.search(pattern, text)\n",
    "\n",
    "if match:\n",
    "    print \"match:\", match.group()\n",
    "else:\n",
    "    print \"no match\""
   ]
  },
  {
   "cell_type": "markdown",
   "metadata": {
    "slideshow": {
     "slide_type": "slide"
    }
   },
   "source": [
    "## Escaping Meta-characters"
   ]
  },
  {
   "cell_type": "code",
   "execution_count": null,
   "metadata": {
    "collapsed": false
   },
   "outputs": [],
   "source": [
    "import re\n",
    "\n",
    "text = \"re.search() returns the 1st match. re.findall() returns a [list]\"\n",
    "pattern = r\"\\w+\\(\\)\"    # use the slash to escape\n",
    "\n",
    "match = re.search(pattern, text)\n",
    "\n",
    "if match:\n",
    "    print \"match:\", match.group()\n",
    "else:\n",
    "    print \"no match\""
   ]
  },
  {
   "cell_type": "markdown",
   "metadata": {
    "slideshow": {
     "slide_type": "slide"
    }
   },
   "source": [
    "## Options or Compilation Flags"
   ]
  },
  {
   "cell_type": "markdown",
   "metadata": {},
   "source": [
    "- `I` or `IGNORECASE` performs case-insentive matching\n",
    "- `M` or `MULTILINE` does multi-line matching, affecting `^` and `$`\n",
    "- `S` or `DOTALL` makes the dot `.` match any character including the newline `\\n`\n",
    "- Multiple options can be specified by concatenating with pipes (`|`)"
   ]
  },
  {
   "cell_type": "code",
   "execution_count": null,
   "metadata": {
    "collapsed": false
   },
   "outputs": [],
   "source": [
    "import re\n",
    "\n",
    "text = \"\"\"Substitution can be done with re.sub(pattern, text).\n",
    "and splits with re.split(pattern, text).\n",
    "\"\"\"\n",
    "pattern = r\"sub.+\"\n",
    "\n",
    "match = re.search(pattern, text, re.IGNORECASE | re.DOTALL)\n",
    "\n",
    "if match:\n",
    "    print \"match:\", match.group()\n",
    "else:\n",
    "    print \"no match\""
   ]
  },
  {
   "cell_type": "markdown",
   "metadata": {
    "slideshow": {
     "slide_type": "slide"
    }
   },
   "source": [
    "## Quiz: Write a regex pattern to match any adverb"
   ]
  },
  {
   "cell_type": "markdown",
   "metadata": {},
   "source": [
    "Hint: Let's define an adverb as a word that ends with \"ly\". You can use any text, or use the text given below.\n",
    "\n"
   ]
  },
  {
   "cell_type": "code",
   "execution_count": null,
   "metadata": {
    "collapsed": true
   },
   "outputs": [],
   "source": [
    "import re\n",
    "\n",
    "text = \"\"\"\n",
    "Once upon a time, there was a beautiful princess who had a golden ball.\n",
    "She lived in a palace with her father, the King, and her seven sisters.\n",
    "Every day she played with her ball in the garden of the palace.\n",
    "At the end of the garden there was a deep, dark lake. Unfortunately, \n",
    "one day she dropped her golden ball into the water. She was very unhappy\n",
    "and she sat on the grass and started to cry. Suddenly, she heard a voice:\n",
    "\"Don't cry, princess\".\n",
    "She opened her eyes and saw a large green frog. \"Oh, please help me!\"\n",
    "she said, \"I can't get my ball.\"\n",
    "\"I'll help you\", said the frog, \"if I can com and live with you in the\n",
    "palace!\"\n",
    "\"Yes, yes, of course. I promise,\" said the princess.\n",
    "So the frog jumped into the water and cam back with the ball.\n",
    "The princess laghed and took the ball. She ran quickly back to the palace\n",
    "and forgot all about the frog.\n",
    "\"\"\""
   ]
  },
  {
   "cell_type": "markdown",
   "metadata": {
    "slideshow": {
     "slide_type": "slide"
    }
   },
   "source": [
    "## Quiz. Find all the adverbs in the text"
   ]
  },
  {
   "cell_type": "markdown",
   "metadata": {},
   "source": [
    "Hint: The function `re.findall(pattern, text)` returns all the matching sub-text as a list.\n"
   ]
  },
  {
   "cell_type": "markdown",
   "metadata": {
    "slideshow": {
     "slide_type": "slide"
    }
   },
   "source": [
    "## Quiz. Validate a poker hand"
   ]
  },
  {
   "cell_type": "markdown",
   "metadata": {},
   "source": [
    "Suppose that you are writing a poker program where a player's\n",
    "hand is represented as a five-character string with each character\n",
    "representing a card, \"a\" for ace, \"k\" for king, \"q\" for queen, \"j\"\n",
    "for jack, 't\" for 10, and \"2\" through \"9\" representing the card\n",
    "with that value.\n",
    "\n",
    "Write a pattern to validate a hand. It does not have to be very thorough. Just to pass the test cases shown below."
   ]
  },
  {
   "cell_type": "code",
   "execution_count": null,
   "metadata": {
    "collapsed": false
   },
   "outputs": [],
   "source": [
    "import re\n",
    "\n",
    "pattern = r\"\"  # replace this with your pattern\n",
    "\n",
    "match = re.search(pattern, \"245\")         # match == None\n",
    "match = re.search(pattern, \"a 334\")       # match == None\n",
    "match = re.search(pattern, \"akt5q\")       # match.group() == \"akt5q\"\n",
    "match = re.search(pattern, \"akt5e\")       # match == None\n",
    "match = re.search(pattern, \"727ak\")       # match.group() == \"727ak\"\n",
    "match = re.search(pattern, \" akt34\")      # match == None\n",
    "match = re.search(pattern, \"23456  \")     # match == None"
   ]
  },
  {
   "cell_type": "markdown",
   "metadata": {
    "slideshow": {
     "slide_type": "slide"
    }
   },
   "source": [
    "## Learning Resources"
   ]
  },
  {
   "cell_type": "markdown",
   "metadata": {},
   "source": [
    "- Official [Reference](https://docs.python.org/2/library/re.html) and Kuchling's [HowTo](https://docs.python.org/2/howto/regex.html#regex-howto)\n",
    "- Friedl's book, [Mastering Regular Expressions](http://www.amazon.com/Mastering-Regular-Expressions-Jeffrey-Friedl/dp/0596528124/)\n",
    "- Google Developers site Python Course [Chapter](https://developers.google.com/edu/python/regular-expressions)\n",
    "- Tartley (Jonathan Hartley)'s [Cheatsheet](https://github.com/tartley/python-regex-cheatsheet/releases/download/v0.3.3/cheatsheet.pdf)"
   ]
  }
 ],
 "metadata": {
  "celltoolbar": "Slideshow",
  "kernelspec": {
   "display_name": "Python 2",
   "language": "python",
   "name": "python2"
  },
  "language_info": {
   "codemirror_mode": {
    "name": "ipython",
    "version": 2
   },
   "file_extension": ".py",
   "mimetype": "text/x-python",
   "name": "python",
   "nbconvert_exporter": "python",
   "pygments_lexer": "ipython2",
   "version": "2.7.9"
  }
 },
 "nbformat": 4,
 "nbformat_minor": 0
}
